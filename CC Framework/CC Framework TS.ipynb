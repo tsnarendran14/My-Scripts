{
 "cells": [
  {
   "cell_type": "code",
   "execution_count": 1,
   "metadata": {},
   "outputs": [
    {
     "name": "stderr",
     "output_type": "stream",
     "text": [
      "Using TensorFlow backend.\n"
     ]
    }
   ],
   "source": [
    "import pandas as pd\n",
    "import numpy as np\n",
    "import warnings\n",
    "warnings.filterwarnings('ignore')\n",
    "from pyramid.arima import auto_arima\n",
    "from statsmodels.tsa.seasonal import seasonal_decompose\n",
    "from sklearn.ensemble import RandomForestRegressor\n",
    "from sklearn.ensemble import GradientBoostingRegressor\n",
    "from sklearn.ensemble import AdaBoostRegressor\n",
    "from sklearn.svm import SVR\n",
    "from sklearn.svm import SVC\n",
    "from keras.models import Sequential\n",
    "from keras.layers import Dense\n",
    "from keras.layers import LSTM\n",
    "from numpy.random import seed\n",
    "from fbprophet import Prophet\n",
    "import progressbar"
   ]
  },
  {
   "cell_type": "code",
   "execution_count": 2,
   "metadata": {},
   "outputs": [],
   "source": [
    "RawData = pd.read_csv(\"Final2000Parts.csv\")"
   ]
  },
  {
   "cell_type": "code",
   "execution_count": 3,
   "metadata": {},
   "outputs": [],
   "source": [
    "RawData.ShipRequestDate = pd.to_datetime(RawData.ShipRequestDate)"
   ]
  },
  {
   "cell_type": "code",
   "execution_count": 4,
   "metadata": {},
   "outputs": [
    {
     "data": {
      "text/html": [
       "<div>\n",
       "<style scoped>\n",
       "    .dataframe tbody tr th:only-of-type {\n",
       "        vertical-align: middle;\n",
       "    }\n",
       "\n",
       "    .dataframe tbody tr th {\n",
       "        vertical-align: top;\n",
       "    }\n",
       "\n",
       "    .dataframe thead th {\n",
       "        text-align: right;\n",
       "    }\n",
       "</style>\n",
       "<table border=\"1\" class=\"dataframe\">\n",
       "  <thead>\n",
       "    <tr style=\"text-align: right;\">\n",
       "      <th></th>\n",
       "      <th>Commodity</th>\n",
       "      <th>CommodityDescription</th>\n",
       "      <th>ClassCode</th>\n",
       "      <th>ClassCodeDescription</th>\n",
       "      <th>CardexPrimePart</th>\n",
       "      <th>CardexDiscretePart</th>\n",
       "      <th>JDA_DiscretePart</th>\n",
       "      <th>ProductDescription</th>\n",
       "      <th>ProductMaterial</th>\n",
       "      <th>LeadTime</th>\n",
       "      <th>Customer</th>\n",
       "      <th>CustomerName</th>\n",
       "      <th>ShipToRegion</th>\n",
       "      <th>WarehouseID</th>\n",
       "      <th>WarehouseRegion</th>\n",
       "      <th>WarehouseName</th>\n",
       "      <th>OrderQuantity</th>\n",
       "      <th>SalesAmount</th>\n",
       "      <th>OrderReceivedDate</th>\n",
       "      <th>ShipRequestDate</th>\n",
       "    </tr>\n",
       "  </thead>\n",
       "  <tbody>\n",
       "    <tr>\n",
       "      <th>0</th>\n",
       "      <td>1</td>\n",
       "      <td>Externally Threaded Fasteners</td>\n",
       "      <td>121</td>\n",
       "      <td>MISC -BOLTS</td>\n",
       "      <td>AS3251-08</td>\n",
       "      <td>AS3251-08</td>\n",
       "      <td>AS3251-08</td>\n",
       "      <td>BOLT</td>\n",
       "      <td>NICKEL ALLOY</td>\n",
       "      <td>196</td>\n",
       "      <td>C_000023</td>\n",
       "      <td>C_000023_PGA PORTUGALIA AIRLINES</td>\n",
       "      <td>EMEA</td>\n",
       "      <td>1</td>\n",
       "      <td>North America</td>\n",
       "      <td>INCOMING STOCK - MIAMI</td>\n",
       "      <td>4</td>\n",
       "      <td>27.80</td>\n",
       "      <td>2017-02-15 00:00:00</td>\n",
       "      <td>2017-02-15</td>\n",
       "    </tr>\n",
       "    <tr>\n",
       "      <th>1</th>\n",
       "      <td>1</td>\n",
       "      <td>Externally Threaded Fasteners</td>\n",
       "      <td>121</td>\n",
       "      <td>MISC -BOLTS</td>\n",
       "      <td>AS3251-08</td>\n",
       "      <td>AS3251-08</td>\n",
       "      <td>AS3251-08</td>\n",
       "      <td>BOLT</td>\n",
       "      <td>NICKEL ALLOY</td>\n",
       "      <td>196</td>\n",
       "      <td>C_000023</td>\n",
       "      <td>C_000023_PGA PORTUGALIA AIRLINES</td>\n",
       "      <td>EMEA</td>\n",
       "      <td>1</td>\n",
       "      <td>North America</td>\n",
       "      <td>INCOMING STOCK - MIAMI</td>\n",
       "      <td>16</td>\n",
       "      <td>111.20</td>\n",
       "      <td>2017-04-21 00:00:00</td>\n",
       "      <td>2017-04-21</td>\n",
       "    </tr>\n",
       "    <tr>\n",
       "      <th>2</th>\n",
       "      <td>1</td>\n",
       "      <td>Externally Threaded Fasteners</td>\n",
       "      <td>119</td>\n",
       "      <td>NAS  -BOLTS</td>\n",
       "      <td>NAS6404U17D</td>\n",
       "      <td>NAS6404U17D</td>\n",
       "      <td>NAS6404U17D</td>\n",
       "      <td>BOLT</td>\n",
       "      <td>TITANIUM ALLOY</td>\n",
       "      <td>308</td>\n",
       "      <td>C_000029</td>\n",
       "      <td>C_000029_AIR TRANSPORT COMPONENTS</td>\n",
       "      <td>North America</td>\n",
       "      <td>1</td>\n",
       "      <td>North America</td>\n",
       "      <td>INCOMING STOCK - MIAMI</td>\n",
       "      <td>10</td>\n",
       "      <td>17.20</td>\n",
       "      <td>2016-09-21 00:00:00</td>\n",
       "      <td>2016-09-22</td>\n",
       "    </tr>\n",
       "    <tr>\n",
       "      <th>3</th>\n",
       "      <td>1</td>\n",
       "      <td>Externally Threaded Fasteners</td>\n",
       "      <td>119</td>\n",
       "      <td>NAS  -BOLTS</td>\n",
       "      <td>NAS6604H6</td>\n",
       "      <td>NAS6604H6</td>\n",
       "      <td>NAS6604H6</td>\n",
       "      <td>BOLT</td>\n",
       "      <td>ALLOY STEEL</td>\n",
       "      <td>308</td>\n",
       "      <td>C_000029</td>\n",
       "      <td>C_000029_AIR TRANSPORT COMPONENTS</td>\n",
       "      <td>North America</td>\n",
       "      <td>1</td>\n",
       "      <td>North America</td>\n",
       "      <td>INCOMING STOCK - MIAMI</td>\n",
       "      <td>50</td>\n",
       "      <td>65.50</td>\n",
       "      <td>2015-12-23 00:00:00</td>\n",
       "      <td>2015-12-28</td>\n",
       "    </tr>\n",
       "    <tr>\n",
       "      <th>4</th>\n",
       "      <td>1</td>\n",
       "      <td>Externally Threaded Fasteners</td>\n",
       "      <td>123</td>\n",
       "      <td>MS   -SCREWS</td>\n",
       "      <td>MS24677-34</td>\n",
       "      <td>MS24677-34</td>\n",
       "      <td>MS24677-34</td>\n",
       "      <td>SCREW</td>\n",
       "      <td>ALLOY STEEL</td>\n",
       "      <td>210</td>\n",
       "      <td>C_000029</td>\n",
       "      <td>C_000029_AIR TRANSPORT COMPONENTS</td>\n",
       "      <td>North America</td>\n",
       "      <td>98</td>\n",
       "      <td>North America</td>\n",
       "      <td>MIAMI 9835</td>\n",
       "      <td>9</td>\n",
       "      <td>34.65</td>\n",
       "      <td>2017-09-12 00:00:00</td>\n",
       "      <td>2017-09-14</td>\n",
       "    </tr>\n",
       "  </tbody>\n",
       "</table>\n",
       "</div>"
      ],
      "text/plain": [
       "  Commodity           CommodityDescription  ClassCode ClassCodeDescription  \\\n",
       "0         1  Externally Threaded Fasteners        121          MISC -BOLTS   \n",
       "1         1  Externally Threaded Fasteners        121          MISC -BOLTS   \n",
       "2         1  Externally Threaded Fasteners        119          NAS  -BOLTS   \n",
       "3         1  Externally Threaded Fasteners        119          NAS  -BOLTS   \n",
       "4         1  Externally Threaded Fasteners        123         MS   -SCREWS   \n",
       "\n",
       "  CardexPrimePart CardexDiscretePart JDA_DiscretePart ProductDescription  \\\n",
       "0       AS3251-08          AS3251-08        AS3251-08               BOLT   \n",
       "1       AS3251-08          AS3251-08        AS3251-08               BOLT   \n",
       "2     NAS6404U17D        NAS6404U17D      NAS6404U17D               BOLT   \n",
       "3       NAS6604H6          NAS6604H6        NAS6604H6               BOLT   \n",
       "4      MS24677-34         MS24677-34       MS24677-34              SCREW   \n",
       "\n",
       "  ProductMaterial  LeadTime  Customer                       CustomerName  \\\n",
       "0    NICKEL ALLOY       196  C_000023   C_000023_PGA PORTUGALIA AIRLINES   \n",
       "1    NICKEL ALLOY       196  C_000023   C_000023_PGA PORTUGALIA AIRLINES   \n",
       "2  TITANIUM ALLOY       308  C_000029  C_000029_AIR TRANSPORT COMPONENTS   \n",
       "3     ALLOY STEEL       308  C_000029  C_000029_AIR TRANSPORT COMPONENTS   \n",
       "4     ALLOY STEEL       210  C_000029  C_000029_AIR TRANSPORT COMPONENTS   \n",
       "\n",
       "    ShipToRegion  WarehouseID WarehouseRegion           WarehouseName  \\\n",
       "0           EMEA            1   North America  INCOMING STOCK - MIAMI   \n",
       "1           EMEA            1   North America  INCOMING STOCK - MIAMI   \n",
       "2  North America            1   North America  INCOMING STOCK - MIAMI   \n",
       "3  North America            1   North America  INCOMING STOCK - MIAMI   \n",
       "4  North America           98   North America              MIAMI 9835   \n",
       "\n",
       "   OrderQuantity  SalesAmount    OrderReceivedDate ShipRequestDate  \n",
       "0              4        27.80  2017-02-15 00:00:00      2017-02-15  \n",
       "1             16       111.20  2017-04-21 00:00:00      2017-04-21  \n",
       "2             10        17.20  2016-09-21 00:00:00      2016-09-22  \n",
       "3             50        65.50  2015-12-23 00:00:00      2015-12-28  \n",
       "4              9        34.65  2017-09-12 00:00:00      2017-09-14  "
      ]
     },
     "execution_count": 4,
     "metadata": {},
     "output_type": "execute_result"
    }
   ],
   "source": [
    "RawData.head()"
   ]
  },
  {
   "cell_type": "code",
   "execution_count": 5,
   "metadata": {
    "scrolled": true
   },
   "outputs": [],
   "source": [
    "RawData = RawData.loc[RawData[\"OrderQuantity\"] > 0]"
   ]
  },
  {
   "cell_type": "code",
   "execution_count": 6,
   "metadata": {},
   "outputs": [],
   "source": [
    "RawData = RawData.dropna(axis=0)"
   ]
  },
  {
   "cell_type": "code",
   "execution_count": 7,
   "metadata": {},
   "outputs": [],
   "source": [
    "RawData['MonthYear'] = RawData[\"ShipRequestDate\"].apply(lambda dt: dt.replace(day=1))"
   ]
  },
  {
   "cell_type": "code",
   "execution_count": 8,
   "metadata": {},
   "outputs": [],
   "source": [
    "AggRawData = RawData.groupby(['CardexDiscretePart','MonthYear']).agg({'OrderQuantity':'sum'}).reset_index()"
   ]
  },
  {
   "cell_type": "code",
   "execution_count": 9,
   "metadata": {},
   "outputs": [
    {
     "data": {
      "text/html": [
       "<div>\n",
       "<style scoped>\n",
       "    .dataframe tbody tr th:only-of-type {\n",
       "        vertical-align: middle;\n",
       "    }\n",
       "\n",
       "    .dataframe tbody tr th {\n",
       "        vertical-align: top;\n",
       "    }\n",
       "\n",
       "    .dataframe thead th {\n",
       "        text-align: right;\n",
       "    }\n",
       "</style>\n",
       "<table border=\"1\" class=\"dataframe\">\n",
       "  <thead>\n",
       "    <tr style=\"text-align: right;\">\n",
       "      <th></th>\n",
       "      <th>CardexDiscretePart</th>\n",
       "      <th>MonthYear</th>\n",
       "      <th>OrderQuantity</th>\n",
       "    </tr>\n",
       "  </thead>\n",
       "  <tbody>\n",
       "    <tr>\n",
       "      <th>0</th>\n",
       "      <td>03-524-10D</td>\n",
       "      <td>2012-10-01</td>\n",
       "      <td>2</td>\n",
       "    </tr>\n",
       "    <tr>\n",
       "      <th>1</th>\n",
       "      <td>03-524-10D</td>\n",
       "      <td>2012-12-01</td>\n",
       "      <td>3</td>\n",
       "    </tr>\n",
       "    <tr>\n",
       "      <th>2</th>\n",
       "      <td>03-524-10D</td>\n",
       "      <td>2013-03-01</td>\n",
       "      <td>3</td>\n",
       "    </tr>\n",
       "    <tr>\n",
       "      <th>3</th>\n",
       "      <td>03-524-10D</td>\n",
       "      <td>2013-06-01</td>\n",
       "      <td>1</td>\n",
       "    </tr>\n",
       "    <tr>\n",
       "      <th>4</th>\n",
       "      <td>03-524-10D</td>\n",
       "      <td>2014-04-01</td>\n",
       "      <td>12</td>\n",
       "    </tr>\n",
       "  </tbody>\n",
       "</table>\n",
       "</div>"
      ],
      "text/plain": [
       "  CardexDiscretePart  MonthYear  OrderQuantity\n",
       "0         03-524-10D 2012-10-01              2\n",
       "1         03-524-10D 2012-12-01              3\n",
       "2         03-524-10D 2013-03-01              3\n",
       "3         03-524-10D 2013-06-01              1\n",
       "4         03-524-10D 2014-04-01             12"
      ]
     },
     "execution_count": 9,
     "metadata": {},
     "output_type": "execute_result"
    }
   ],
   "source": [
    "AggRawData.head()"
   ]
  },
  {
   "cell_type": "code",
   "execution_count": 10,
   "metadata": {},
   "outputs": [],
   "source": [
    "def ArimaxKLX(trainDF, predDF):\n",
    "    TrainExogenous = {'Month' : trainDF['MonthYear'].dt.month, 'Year' : trainDF['MonthYear'].dt.year}\n",
    "    TrainExogenousDF = pd.DataFrame(TrainExogenous)\n",
    "    TestExogenous = {'Month' : predDF['MonthYear'].dt.month, 'Year' : predDF['MonthYear'].dt.year}\n",
    "    TestExogenousDF = pd.DataFrame(TestExogenous)\n",
    "    arimax_fit = auto_arima(trainDF['OrderQuantity'],\n",
    "                           exogenous=TrainExogenousDF,\n",
    "                           start_p=0,\n",
    "                           start_q=0,\n",
    "                           max_p=6,\n",
    "                           max_d=2,\n",
    "                           max_q=6,\n",
    "                           start_P=0,\n",
    "                           start_Q=0,\n",
    "                           max_P=6,\n",
    "                           max_D=2,\n",
    "                           max_Q=6,\n",
    "                           max_order=6,                            \n",
    "                           seasonal=True,\n",
    "                           stationary=False,\n",
    "                           information_criterion='aic',\n",
    "                           stepwise=False,\n",
    "                           trace=False,\n",
    "                           test='adf',\n",
    "                           seasonal_test='ocsb',                        \n",
    "                           error_action='ignore',  \n",
    "                           suppress_warnings=True, \n",
    "                           enforce_stationarity=False)\n",
    "    ArimaxForecast = arimax_fit.predict(len(predDF), exogenous=TestExogenousDF)\n",
    "    ArimaxForecast = np.round(ArimaxForecast, 0)\n",
    "    ArimaxForecast = np.clip(ArimaxForecast, 0, np.max(ArimaxForecast))\n",
    "    return ArimaxForecast"
   ]
  },
  {
   "cell_type": "code",
   "execution_count": 11,
   "metadata": {},
   "outputs": [],
   "source": [
    "def simpleMovingAverage(trainDF, predDF, order):\n",
    "    smaForecast = pd.Series(len(predDF))\n",
    "    smaForecastDF = pd.DataFrame()\n",
    "    trainTS = trainDF[\"OrderQuantity\"]\n",
    "    for i in range(len(predDF)):\n",
    "        smaForecast[i] = trainTS.rolling(order).mean().iloc[-1]\n",
    "        trainTS = trainTS.append(pd.Series(smaForecast[i]))\n",
    "    return np.array(np.round(smaForecast,0))"
   ]
  },
  {
   "cell_type": "code",
   "execution_count": 12,
   "metadata": {},
   "outputs": [],
   "source": [
    "def holtsWinters(trainDF, predDF, alpha, beta, gamma, m):\n",
    "    trainTS = trainDF[\"OrderQuantity\"]\n",
    "    trainTS.index = trainDF[\"MonthYear\"]\n",
    "    decomposedTS = seasonal_decompose(trainTS, model='additive', freq=len(predDF))\n",
    "    decomposedDict = {'OrderQuantity' : decomposedTS.observed, 'Trend' : decomposedTS.trend, 'Seasonality' : decomposedTS.seasonal, 'Error' : decomposedTS.resid}\n",
    "    decomposedDF = pd.DataFrame(decomposedDict)\n",
    "    decomposedDF = decomposedDF.fillna(0)\n",
    "    decomposedDF['Level'] = decomposedDF['OrderQuantity'] - (decomposedDF['Seasonality'] + decomposedDF['Trend'] + decomposedDF['Error'])\n",
    "    overallDF = decomposedDF.append(predDF)\n",
    "    yforecast = pd.Series(len(predDF))\n",
    "    for i in range(len(decomposedDF), len(overallDF)):\n",
    "        overallDF.Level[i] = alpha * (overallDF.OrderQuantity[i] - overallDF.Seasonality[i-m]) + (1 - alpha) * (overallDF.Level[i-1] +  overallDF.Trend[i-1])\n",
    "        overallDF.Trend[i] = beta * (overallDF.Level[i] - overallDF.Level[i-1]) + (1 - beta) *  overallDF.Trend[i-1]\n",
    "        overallDF.Seasonality[i] = gamma * (overallDF.OrderQuantity[i] - overallDF.Level[i - 1] -  overallDF.Trend[i - 1]) + (1 - gamma) * overallDF.Seasonality[i - m]\n",
    "        hm = ((len(predDF) - 1) % m) + 1\n",
    "        yforecast[i] =  overallDF.Level[i] + len(predDF) * overallDF.Trend[i] + overallDF.Seasonality[i-m+hm]\n",
    "        yforecast[i] = round(yforecast[i],0)\n",
    "        overallDF.OrderQuantity[i] = yforecast[i]\n",
    "    yforecast = yforecast[1:len(yforecast)]\n",
    "    yforecast[yforecast <= 0] = 0\n",
    "    return np.array(yforecast)"
   ]
  },
  {
   "cell_type": "code",
   "execution_count": 13,
   "metadata": {},
   "outputs": [],
   "source": [
    "def holtWintersForecast(trainDF, predDF, max_alpha, max_beta, max_gamma, m, cv_frame, step = 0.1):\n",
    "    max_alpha = np.arange(0.0, max_alpha, step)\n",
    "    max_beta = np.arange(0.0, max_beta, step)\n",
    "    max_gamma = np.arange(0.0, max_gamma, step)\n",
    "    TrainedDF = trainDF.copy()\n",
    "    TrainedModelDF = TrainedDF.head(len(TrainedDF) - cv_frame)\n",
    "    ValidationModelDF = TrainedDF.tail(cv_frame)\n",
    "    trainTS = TrainedModelDF[\"OrderQuantity\"]\n",
    "    trainTS.index = TrainedModelDF[\"MonthYear\"]\n",
    "    holtForecastCVDF = pd.DataFrame()\n",
    "    Run = 1\n",
    "    for i in range(0, len(max_alpha)):\n",
    "        for j in range(0, len(max_beta)):\n",
    "            for k in range(0,len(max_gamma)):\n",
    "                tempHoltForecast = pd.Series()\n",
    "                tempHoltForecast = holtsWinters(trainDF, ValidationModelDF, max_alpha[i], max_beta[j], max_gamma[k], m)\n",
    "                #tempHoltForecast.index = ValidationModelDF.index\n",
    "                tempForecastCVDF = pd.DataFrame()\n",
    "                tempForecastCVDF['Actuals'] = ValidationModelDF['OrderQuantity']\n",
    "                tempForecastCVDF = tempForecastCVDF.assign(Forecast = tempHoltForecast)\n",
    "                tempForecastCVDF[\"Run\"] = Run\n",
    "                tempForecastCVDF[\"Alpha\"] = max_alpha[i]\n",
    "                tempForecastCVDF[\"Beta\"] = max_beta[j]\n",
    "                tempForecastCVDF[\"Gamma\"] = max_gamma[k]\n",
    "                holtForecastCVDF = holtForecastCVDF.append(tempForecastCVDF)\n",
    "                Run = Run + 1\n",
    "    holtForecastCVDF['MSE'] = (holtForecastCVDF['Actuals'] - holtForecastCVDF['Forecast'])**2\n",
    "    holtForecastCVDF['Forecast'] = round(holtForecastCVDF['Forecast'],0)\n",
    "    meanMSEHoltsDF = holtForecastCVDF.groupby(['Alpha', 'Beta', 'Gamma', 'Run'])['MSE'].mean().reset_index()\n",
    "    meanMSEminHoltsDF = meanMSEHoltsDF.loc[meanMSEHoltsDF[\"MSE\"] == np.min(meanMSEHoltsDF[\"MSE\"])]\n",
    "    meanMSEminHoltsDF = meanMSEminHoltsDF.iloc[0,:]\n",
    "    holtMSEHoltsDFminRunDF = holtForecastCVDF.loc[holtForecastCVDF['Run'] == meanMSEminHoltsDF['Run']]\n",
    "    yPredForecast = holtsWinters(trainDF, predDF, holtMSEHoltsDFminRunDF.Alpha.iloc[0], holtMSEHoltsDFminRunDF.Beta.iloc[0], holtMSEHoltsDFminRunDF.Gamma.iloc[0], m)\n",
    "    return yPredForecast"
   ]
  },
  {
   "cell_type": "code",
   "execution_count": 14,
   "metadata": {},
   "outputs": [],
   "source": [
    "def lagMatrix(x,lags):\n",
    "    import pandas as pd\n",
    "    lagDF = pd.DataFrame()\n",
    "    for i in lags:\n",
    "        colName = 'lag_' +  str(i)\n",
    "        lagDF[colName] = x.shift(i)\n",
    "    return lagDF"
   ]
  },
  {
   "cell_type": "code",
   "execution_count": 15,
   "metadata": {},
   "outputs": [],
   "source": [
    "def randomForest(trainDF, predictionDF, lags):\n",
    "    predDF = predictionDF.copy()\n",
    "    allDF = trainDF.append(predDF)\n",
    "    trainDF.index = trainDF[\"MonthYear\"]\n",
    "    predDF.index = predDF[\"MonthYear\"]\n",
    "    lagDF = lagMatrix(allDF[\"OrderQuantity\"], lags)\n",
    "    lagDF.index = allDF[\"MonthYear\"]\n",
    "    lagDF = lagDF.dropna(axis = 0)\n",
    "    lagDF['DemadGap'] = lagDF['lag_1'] - lagDF['lag_0']\n",
    "    lagDF['MonthYear'] = lagDF.index\n",
    "    lagDF['Month'] = lagDF.MonthYear.dt.month\n",
    "    lagDF['Year'] = lagDF.MonthYear.dt.year\n",
    "    lagDF = lagDF.drop(\"MonthYear\", axis = 1)\n",
    "    trainLagDF = lagDF.drop(predDF.index)\n",
    "    predLagDF = lagDF.tail(len(predDF))\n",
    "    forest_reg = RandomForestRegressor(n_estimators=1000)\n",
    "    X = trainLagDF.drop(\"lag_0\", axis=1)\n",
    "    y = trainLagDF[\"lag_0\"]\n",
    "    forest_reg.fit(X, y)\n",
    "    predDF['lag_0'] = np.nan\n",
    "    rfPredDF = np.empty([len(predDF)])\n",
    "    for i in range(len(predLagDF)):\n",
    "        tempDF = predLagDF.iloc[[i]]\n",
    "        predSingleDF = tempDF.drop(\"lag_0\", axis = 1)\n",
    "        tempDF[\"lag_0\"] = forest_reg.predict(predSingleDF)\n",
    "        rfPredDF[i] = np.round(tempDF[\"lag_0\"],0)\n",
    "        trainLagDF = trainLagDF.append(tempDF)\n",
    "        X = trainLagDF.drop(\"lag_0\", axis = 1)\n",
    "        y = trainLagDF[\"lag_0\"]\n",
    "        forest_reg.fit(X, y)\n",
    "    rfPredDF = rfPredDF.clip(0, np.max(rfPredDF))\n",
    "    return rfPredDF"
   ]
  },
  {
   "cell_type": "code",
   "execution_count": 16,
   "metadata": {},
   "outputs": [],
   "source": [
    "def gradientBoosting(trainDF, predictionDF, lags):\n",
    "    predDF = predictionDF.copy()\n",
    "    allDF = trainDF.append(predDF)\n",
    "    trainDF.index = trainDF[\"MonthYear\"]\n",
    "    predDF.index = predDF[\"MonthYear\"]\n",
    "    lagDF = lagMatrix(allDF[\"OrderQuantity\"], lags)\n",
    "    lagDF.index = allDF[\"MonthYear\"]\n",
    "    lagDF = lagDF.dropna(axis = 0)\n",
    "    lagDF['DemadGap'] = lagDF['lag_1'] - lagDF['lag_0']\n",
    "    lagDF['MonthYear'] = lagDF.index\n",
    "    lagDF['Month'] = lagDF.MonthYear.dt.month\n",
    "    lagDF['Year'] = lagDF.MonthYear.dt.year\n",
    "    lagDF = lagDF.drop(\"MonthYear\", axis = 1)\n",
    "    trainLagDF = lagDF.drop(predDF.index)\n",
    "    predLagDF = lagDF.tail(len(predDF))\n",
    "    gradient_reg = GradientBoostingRegressor(n_estimators=1000, learning_rate = 0.001, min_impurity_split = 0.5, random_state = 42, verbose = 0, subsample = 0.9)\n",
    "    X = trainLagDF.drop(\"lag_0\", axis=1)\n",
    "    y = trainLagDF[\"lag_0\"]\n",
    "    gradient_reg.fit(X, y)\n",
    "    predDF['lag_0'] = np.nan\n",
    "    gradPredDF = np.empty([len(predDF)])\n",
    "    for i in range(len(predLagDF)):\n",
    "        tempDF = predLagDF.iloc[[i]]\n",
    "        predSingleDF = tempDF.drop(\"lag_0\", axis = 1)\n",
    "        tempDF[\"lag_0\"] = gradient_reg.predict(predSingleDF)\n",
    "        gradPredDF[i] = np.round(tempDF[\"lag_0\"],0)\n",
    "        trainLagDF = trainLagDF.append(tempDF)\n",
    "        X = trainLagDF.drop(\"lag_0\", axis = 1)\n",
    "        y = trainLagDF[\"lag_0\"]\n",
    "        gradient_reg.fit(X, y)\n",
    "    gradPredDF = gradPredDF.clip(0, np.max(gradPredDF))\n",
    "    return gradPredDF"
   ]
  },
  {
   "cell_type": "code",
   "execution_count": 17,
   "metadata": {},
   "outputs": [],
   "source": [
    "def adaBoosting(trainDF, predictionDF, lags):\n",
    "    predDF = predictionDF.copy()\n",
    "    allDF = trainDF.append(predDF)\n",
    "    trainDF.index = trainDF[\"MonthYear\"]\n",
    "    predDF.index = predDF[\"MonthYear\"]\n",
    "    lagDF = lagMatrix(allDF[\"OrderQuantity\"], lags)\n",
    "    lagDF.index = allDF[\"MonthYear\"]\n",
    "    lagDF = lagDF.dropna(axis = 0)\n",
    "    lagDF['DemadGap'] = lagDF['lag_1'] - lagDF['lag_0']\n",
    "    lagDF['MonthYear'] = lagDF.index\n",
    "    lagDF['Month'] = lagDF.MonthYear.dt.month\n",
    "    lagDF['Year'] = lagDF.MonthYear.dt.year\n",
    "    lagDF = lagDF.drop(\"MonthYear\", axis = 1)\n",
    "    trainLagDF = lagDF.drop(predDF.index)\n",
    "    predLagDF = lagDF.tail(len(predDF))\n",
    "    adaBoost_reg = AdaBoostRegressor(n_estimators=1000, learning_rate = 0.001,random_state = 42)\n",
    "    X = trainLagDF.drop(\"lag_0\", axis=1)\n",
    "    y = trainLagDF[\"lag_0\"]\n",
    "    adaBoost_reg.fit(X, y)\n",
    "    predDF['lag_0'] = np.nan\n",
    "    adaPredDF = np.empty([len(predDF)])\n",
    "    for i in range(len(predLagDF)):\n",
    "        tempDF = predLagDF.iloc[[i]]\n",
    "        predSingleDF = tempDF.drop(\"lag_0\", axis = 1)\n",
    "        tempDF[\"lag_0\"] = adaBoost_reg.predict(predSingleDF)\n",
    "        adaPredDF[i] = np.round(tempDF[\"lag_0\"],0)\n",
    "        trainLagDF = trainLagDF.append(tempDF)\n",
    "        X = trainLagDF.drop(\"lag_0\", axis = 1)\n",
    "        y = trainLagDF[\"lag_0\"]\n",
    "        adaBoost_reg.fit(X, y)\n",
    "    adaPredDF = adaPredDF.clip(0, np.max(adaPredDF))\n",
    "    return adaPredDF"
   ]
  },
  {
   "cell_type": "code",
   "execution_count": 18,
   "metadata": {},
   "outputs": [],
   "source": [
    "def svr(trainDF, predictionDF, lags):\n",
    "    predDF = predictionDF.copy()\n",
    "    allDF = trainDF.append(predDF)\n",
    "    trainDF.index = trainDF[\"MonthYear\"]\n",
    "    predDF.index = predDF[\"MonthYear\"]\n",
    "    lagDF = lagMatrix(allDF[\"OrderQuantity\"], lags)\n",
    "    lagDF.index = allDF[\"MonthYear\"]\n",
    "    lagDF = lagDF.dropna(axis = 0)\n",
    "    lagDF['DemadGap'] = lagDF['lag_1'] - lagDF['lag_0']\n",
    "    lagDF['MonthYear'] = lagDF.index\n",
    "    lagDF['Month'] = lagDF.MonthYear.dt.month\n",
    "    lagDF['Year'] = lagDF.MonthYear.dt.year\n",
    "    lagDF = lagDF.drop(\"MonthYear\", axis = 1)\n",
    "    trainLagDF = lagDF.drop(predDF.index)\n",
    "    predLagDF = lagDF.tail(len(predDF))\n",
    "    svr_reg = SVR(C = 1.0, epsilon = 0.1, kernel='sigmoid')\n",
    "    X = trainLagDF.drop(\"lag_0\", axis=1)\n",
    "    y = trainLagDF[\"lag_0\"]\n",
    "    svr_reg.fit(X, y)\n",
    "    predDF['lag_0'] = np.nan\n",
    "    svrPredDF = np.empty([len(predDF)])\n",
    "    for i in range(len(predLagDF)):\n",
    "        tempDF = predLagDF.iloc[[i]]\n",
    "        predSingleDF = tempDF.drop(\"lag_0\", axis = 1)\n",
    "        tempDF[\"lag_0\"] = svr_reg.predict(predSingleDF)\n",
    "        svrPredDF[i] = np.round(tempDF[\"lag_0\"],0)\n",
    "        trainLagDF = trainLagDF.append(tempDF)\n",
    "        X = trainLagDF.drop(\"lag_0\", axis = 1)\n",
    "        y = trainLagDF[\"lag_0\"]\n",
    "        svr_reg.fit(X, y)\n",
    "    svrPredDF = svrPredDF.clip(0, np.max(svrPredDF))\n",
    "    return svrPredDF"
   ]
  },
  {
   "cell_type": "code",
   "execution_count": 19,
   "metadata": {},
   "outputs": [],
   "source": [
    "def svc(trainingDF, predictionDF, lags):\n",
    "    trainDF = trainingDF.copy()\n",
    "    predDF = predictionDF.copy()\n",
    "    allDF = trainDF.append(predDF)\n",
    "    allDF['OrderQuantity'] = np.where(allDF['OrderQuantity'] > 0, 1.0, 0.0)\n",
    "    trainDF.index = trainDF[\"MonthYear\"]\n",
    "    predDF.index = predDF[\"MonthYear\"]\n",
    "    lagDF = lagMatrix(allDF[\"OrderQuantity\"], lags)\n",
    "    lagDF.index = allDF[\"MonthYear\"]\n",
    "    lagDF = lagDF.dropna(axis = 0)\n",
    "    lagDF['DemadGap'] = lagDF['lag_1'] - lagDF['lag_0']\n",
    "    lagDF['MonthYear'] = lagDF.index\n",
    "    lagDF['Month'] = lagDF.MonthYear.dt.month\n",
    "    lagDF['Year'] = lagDF.MonthYear.dt.year\n",
    "    lagDF = lagDF.drop(\"MonthYear\", axis = 1)\n",
    "    trainLagDF = lagDF.drop(predDF.index)\n",
    "    predLagDF = lagDF.tail(len(predDF))\n",
    "    svc_reg = SVC(C = 1.0, probability = True, kernel='rbf', random_state = 42)\n",
    "    X = trainLagDF.drop(\"lag_0\", axis=1)\n",
    "    y = trainLagDF[\"lag_0\"]\n",
    "    svcPredDF = np.empty([len(predDF)])\n",
    "    if len(np.unique(y)) == 1:\n",
    "        svcPredDF = np.repeat(np.unique(y), len(predDF))\n",
    "    else:\n",
    "        svc_reg.fit(X, y)\n",
    "        predDF['lag_0'] = np.nan\n",
    "        for i in range(len(predLagDF)):\n",
    "            tempDF = predLagDF.iloc[[i]]\n",
    "            predSingleDF = tempDF.drop(\"lag_0\", axis = 1)\n",
    "            tempDF[\"lag_0\"] = svc_reg.predict(predSingleDF)\n",
    "            svcPredDF[i] = np.round(tempDF[\"lag_0\"],0)\n",
    "            trainLagDF = trainLagDF.append(tempDF)\n",
    "            X = trainLagDF.drop(\"lag_0\", axis = 1)\n",
    "            y = trainLagDF[\"lag_0\"]\n",
    "            svc_reg.fit(X, y)\n",
    "        svcPredDF = svcPredDF.clip(0, np.max(svcPredDF))\n",
    "    return svcPredDF"
   ]
  },
  {
   "cell_type": "code",
   "execution_count": 20,
   "metadata": {},
   "outputs": [],
   "source": [
    "def prophet(trainDF, predDF):\n",
    "    prophetTrain = pd.DataFrame()\n",
    "    prophetTrain[\"ds\"] = trainDF.MonthYear\n",
    "    prophetTrain[\"y\"] = trainDF.OrderQuantity\n",
    "    prophet_mdl = Prophet(yearly_seasonality = True, seasonality_prior_scale=0.1)\n",
    "    prophet_mdl.fit(prophetTrain)\n",
    "    future = prophet_mdl.make_future_dataframe(periods=len(predDF))\n",
    "    prophetForecast = prophet_mdl.predict(future)\n",
    "    ProphetForecastPredDF = prophetForecast.tail(len(predDF)) \n",
    "    prophetForecastValues = np.array(round(ProphetForecastPredDF['yhat'],0))\n",
    "    prophetForecastValues = np.clip(prophetForecastValues, 0, np.max(prophetForecastValues))\n",
    "    prophetForecastValues = np.round(prophetForecastValues, 0)\n",
    "    return prophetForecastValues"
   ]
  },
  {
   "cell_type": "code",
   "execution_count": 21,
   "metadata": {},
   "outputs": [],
   "source": [
    "def lstmKLX(trainDF, predictionDF, lags):\n",
    "    seed(1)\n",
    "    predDF = predictionDF.copy()\n",
    "    allDF = trainDF.append(predDF)\n",
    "    trainDF.index = trainDF[\"MonthYear\"]\n",
    "    predDF.index = predDF[\"MonthYear\"]\n",
    "    lagDF = lagMatrix(allDF[\"OrderQuantity\"], lags)\n",
    "    lagDF.index = allDF[\"MonthYear\"]\n",
    "    lagDF = lagDF.dropna(axis = 0)\n",
    "    lagDF['DemadGap'] = lagDF['lag_1'] - lagDF['lag_0']\n",
    "    lagDF['MonthYear'] = lagDF.index\n",
    "    lagDF['Month'] = lagDF.MonthYear.dt.month\n",
    "    lagDF['Year'] = lagDF.MonthYear.dt.year\n",
    "    lagDF = lagDF.drop(\"MonthYear\", axis = 1)\n",
    "    trainLagDF = lagDF.drop(predDF.index)\n",
    "    trainLagDF_X = trainLagDF.drop(\"lag_0\", axis = 1)\n",
    "    trainLagDF_Y = trainLagDF[\"lag_0\"]\n",
    "    train_X = trainLagDF_X.head(len(trainLagDF_X) - 3)\n",
    "    train_y = trainLagDF_Y.head(len(trainLagDF_Y) - 3)\n",
    "    test_X = trainLagDF_X.tail(3)\n",
    "    test_y = trainLagDF_Y.tail(3)\n",
    "    train_X = train_X.values.reshape((train_X.shape[0], 1, train_X.shape[1]))\n",
    "    test_X = test_X.values.reshape((test_X.shape[0], 1, test_X.shape[1]))\n",
    "    model = Sequential()\n",
    "    model.add(LSTM(20, input_shape=(train_X.shape[1], train_X.shape[2])))\n",
    "    model.add(Dense(1))\n",
    "    model.compile(loss='mae', optimizer='adam')\n",
    "    history = model.fit(train_X, train_y, epochs=20, batch_size=5, validation_data=(test_X, test_y), verbose=0, shuffle=False)\n",
    "    yhat = model.predict(test_X)\n",
    "    predLagDF = lagDF.tail(len(predDF))\n",
    "    predLagDF_X = predLagDF.drop(\"lag_0\", axis = 1)\n",
    "    predLagDF_Y = predLagDF[\"lag_0\"]\n",
    "    predLagDF_X = predLagDF_X.values.reshape((predLagDF_X.shape[0], 1, predLagDF_X.shape[1]))\n",
    "    yhatPred = model.predict(predLagDF_X)\n",
    "    predDF['lag_0'] = np.nan\n",
    "    lstmPredDF = np.empty([len(predDF)])\n",
    "    for i in range(len(predLagDF)):\n",
    "        tempDF = predLagDF.iloc[[i]]\n",
    "        predSingleDF = tempDF.drop(\"lag_0\", axis = 1)\n",
    "        predSingleDF = predSingleDF.values.reshape((predSingleDF.shape[0], 1, predSingleDF.shape[1]))\n",
    "        tempDF[\"lag_0\"] = model.predict(predSingleDF)\n",
    "        lstmPredDF[i] = np.round(tempDF[\"lag_0\"],0)\n",
    "        trainLagDF = trainLagDF.append(tempDF)\n",
    "        trainLagDF_X = trainLagDF.drop(\"lag_0\", axis = 1)\n",
    "        trainLagDF_Y = trainLagDF[\"lag_0\"]\n",
    "        train_X = trainLagDF_X.head(len(trainLagDF_X) - 3)\n",
    "        train_y = trainLagDF_Y.head(len(trainLagDF_Y) - 3)\n",
    "        test_X = trainLagDF_X.tail(3)\n",
    "        test_y = trainLagDF_Y.tail(3)\n",
    "        train_X = train_X.values.reshape((train_X.shape[0], 1, train_X.shape[1]))\n",
    "        test_X = test_X.values.reshape((test_X.shape[0], 1, test_X.shape[1]))\n",
    "        model = Sequential()\n",
    "        model.add(LSTM(20, input_shape=(train_X.shape[1], train_X.shape[2])))\n",
    "        model.add(Dense(1))\n",
    "        model.compile(loss='mae', optimizer='adam')\n",
    "        history = model.fit(train_X, train_y, epochs=20, batch_size=5, validation_data=(test_X, test_y), verbose=0, shuffle=False)\n",
    "    lstmPredDF = np.clip(lstmPredDF, 0, np.max(lstmPredDF))\n",
    "    lstmPredDFCopy = lstmPredDF.copy()\n",
    "    lstmPredDFCopy[lstmPredDFCopy <= 0] = 0\n",
    "    return lstmPredDFCopy"
   ]
  },
  {
   "cell_type": "code",
   "execution_count": null,
   "metadata": {
    "scrolled": false
   },
   "outputs": [
    {
     "name": "stderr",
     "output_type": "stream",
     "text": [
      "[                                                                        ] N/A%INFO:fbprophet.forecaster:Disabling weekly seasonality. Run prophet with weekly_seasonality=True to override this.\n",
      "INFO:fbprophet.forecaster:Disabling daily seasonality. Run prophet with daily_seasonality=True to override this.\n"
     ]
    },
    {
     "name": "stdout",
     "output_type": "stream",
     "text": [
      "Percentage Completed :  0.050175614651279475\n",
      "Parts Completed :  1\n"
     ]
    },
    {
     "name": "stderr",
     "output_type": "stream",
     "text": [
      "INFO:fbprophet.forecaster:Disabling weekly seasonality. Run prophet with weekly_seasonality=True to override this.\n",
      "INFO:fbprophet.forecaster:Disabling daily seasonality. Run prophet with daily_seasonality=True to override this.\n"
     ]
    },
    {
     "name": "stdout",
     "output_type": "stream",
     "text": [
      "Percentage Completed :  0.10035122930255895\n",
      "Parts Completed :  2\n"
     ]
    },
    {
     "name": "stderr",
     "output_type": "stream",
     "text": [
      "INFO:fbprophet.forecaster:Disabling weekly seasonality. Run prophet with weekly_seasonality=True to override this.\n",
      "INFO:fbprophet.forecaster:Disabling daily seasonality. Run prophet with daily_seasonality=True to override this.\n"
     ]
    },
    {
     "name": "stdout",
     "output_type": "stream",
     "text": [
      "Percentage Completed :  0.15052684395383845\n",
      "Parts Completed :  3\n"
     ]
    },
    {
     "name": "stderr",
     "output_type": "stream",
     "text": [
      "INFO:fbprophet.forecaster:Disabling weekly seasonality. Run prophet with weekly_seasonality=True to override this.\n",
      "INFO:fbprophet.forecaster:Disabling daily seasonality. Run prophet with daily_seasonality=True to override this.\n"
     ]
    },
    {
     "name": "stdout",
     "output_type": "stream",
     "text": [
      "Percentage Completed :  0.2007024586051179\n",
      "Parts Completed :  4\n"
     ]
    },
    {
     "name": "stderr",
     "output_type": "stream",
     "text": [
      "INFO:fbprophet.forecaster:Disabling weekly seasonality. Run prophet with weekly_seasonality=True to override this.\n",
      "INFO:fbprophet.forecaster:Disabling daily seasonality. Run prophet with daily_seasonality=True to override this.\n"
     ]
    },
    {
     "name": "stdout",
     "output_type": "stream",
     "text": [
      "Percentage Completed :  0.2508780732563974\n",
      "Parts Completed :  5\n"
     ]
    },
    {
     "name": "stderr",
     "output_type": "stream",
     "text": [
      "INFO:fbprophet.forecaster:Disabling weekly seasonality. Run prophet with weekly_seasonality=True to override this.\n",
      "INFO:fbprophet.forecaster:Disabling daily seasonality. Run prophet with daily_seasonality=True to override this.\n"
     ]
    },
    {
     "name": "stdout",
     "output_type": "stream",
     "text": [
      "Percentage Completed :  0.3010536879076769\n",
      "Parts Completed :  6\n"
     ]
    },
    {
     "name": "stderr",
     "output_type": "stream",
     "text": [
      "INFO:fbprophet.forecaster:Disabling weekly seasonality. Run prophet with weekly_seasonality=True to override this.\n",
      "INFO:fbprophet.forecaster:Disabling daily seasonality. Run prophet with daily_seasonality=True to override this.\n"
     ]
    },
    {
     "name": "stdout",
     "output_type": "stream",
     "text": [
      "Percentage Completed :  0.35122930255895635\n",
      "Parts Completed :  7\n"
     ]
    },
    {
     "name": "stderr",
     "output_type": "stream",
     "text": [
      "INFO:fbprophet.forecaster:Disabling weekly seasonality. Run prophet with weekly_seasonality=True to override this.\n",
      "INFO:fbprophet.forecaster:Disabling daily seasonality. Run prophet with daily_seasonality=True to override this.\n"
     ]
    },
    {
     "name": "stdout",
     "output_type": "stream",
     "text": [
      "Percentage Completed :  0.4014049172102358\n",
      "Parts Completed :  8\n"
     ]
    },
    {
     "name": "stderr",
     "output_type": "stream",
     "text": [
      "INFO:fbprophet.forecaster:Disabling weekly seasonality. Run prophet with weekly_seasonality=True to override this.\n",
      "INFO:fbprophet.forecaster:Disabling daily seasonality. Run prophet with daily_seasonality=True to override this.\n"
     ]
    },
    {
     "name": "stdout",
     "output_type": "stream",
     "text": [
      "Percentage Completed :  0.4515805318615153\n",
      "Parts Completed :  9\n"
     ]
    },
    {
     "name": "stderr",
     "output_type": "stream",
     "text": [
      "INFO:fbprophet.forecaster:Disabling weekly seasonality. Run prophet with weekly_seasonality=True to override this.\n",
      "INFO:fbprophet.forecaster:Disabling daily seasonality. Run prophet with daily_seasonality=True to override this.\n"
     ]
    },
    {
     "name": "stdout",
     "output_type": "stream",
     "text": [
      "Percentage Completed :  0.5017561465127948\n",
      "Parts Completed :  10\n"
     ]
    },
    {
     "name": "stderr",
     "output_type": "stream",
     "text": [
      "INFO:fbprophet.forecaster:Disabling weekly seasonality. Run prophet with weekly_seasonality=True to override this.\n",
      "INFO:fbprophet.forecaster:Disabling daily seasonality. Run prophet with daily_seasonality=True to override this.\n"
     ]
    },
    {
     "name": "stdout",
     "output_type": "stream",
     "text": [
      "Percentage Completed :  0.5519317611640743\n",
      "Parts Completed :  11\n"
     ]
    },
    {
     "name": "stderr",
     "output_type": "stream",
     "text": [
      "INFO:fbprophet.forecaster:Disabling weekly seasonality. Run prophet with weekly_seasonality=True to override this.\n",
      "INFO:fbprophet.forecaster:Disabling daily seasonality. Run prophet with daily_seasonality=True to override this.\n"
     ]
    },
    {
     "name": "stdout",
     "output_type": "stream",
     "text": [
      "Percentage Completed :  0.6021073758153538\n",
      "Parts Completed :  12\n"
     ]
    },
    {
     "name": "stderr",
     "output_type": "stream",
     "text": [
      "INFO:fbprophet.forecaster:Disabling weekly seasonality. Run prophet with weekly_seasonality=True to override this.\n",
      "INFO:fbprophet.forecaster:Disabling daily seasonality. Run prophet with daily_seasonality=True to override this.\n"
     ]
    },
    {
     "name": "stdout",
     "output_type": "stream",
     "text": [
      "Percentage Completed :  0.6522829904666332\n",
      "Parts Completed :  13\n"
     ]
    },
    {
     "name": "stderr",
     "output_type": "stream",
     "text": [
      "INFO:fbprophet.forecaster:Disabling weekly seasonality. Run prophet with weekly_seasonality=True to override this.\n",
      "INFO:fbprophet.forecaster:Disabling daily seasonality. Run prophet with daily_seasonality=True to override this.\n"
     ]
    },
    {
     "name": "stdout",
     "output_type": "stream",
     "text": [
      "Percentage Completed :  0.7024586051179127\n",
      "Parts Completed :  14\n"
     ]
    },
    {
     "name": "stderr",
     "output_type": "stream",
     "text": [
      "INFO:fbprophet.forecaster:Disabling weekly seasonality. Run prophet with weekly_seasonality=True to override this.\n",
      "INFO:fbprophet.forecaster:Disabling daily seasonality. Run prophet with daily_seasonality=True to override this.\n"
     ]
    },
    {
     "name": "stdout",
     "output_type": "stream",
     "text": [
      "Percentage Completed :  0.7526342197691922\n",
      "Parts Completed :  15\n"
     ]
    },
    {
     "name": "stderr",
     "output_type": "stream",
     "text": [
      "INFO:fbprophet.forecaster:Disabling weekly seasonality. Run prophet with weekly_seasonality=True to override this.\n",
      "INFO:fbprophet.forecaster:Disabling daily seasonality. Run prophet with daily_seasonality=True to override this.\n"
     ]
    },
    {
     "name": "stdout",
     "output_type": "stream",
     "text": [
      "Percentage Completed :  0.8028098344204716\n",
      "Parts Completed :  16\n"
     ]
    },
    {
     "name": "stderr",
     "output_type": "stream",
     "text": [
      "INFO:fbprophet.forecaster:Disabling weekly seasonality. Run prophet with weekly_seasonality=True to override this.\n",
      "INFO:fbprophet.forecaster:Disabling daily seasonality. Run prophet with daily_seasonality=True to override this.\n"
     ]
    },
    {
     "name": "stdout",
     "output_type": "stream",
     "text": [
      "Percentage Completed :  0.8529854490717511\n",
      "Parts Completed :  17\n"
     ]
    },
    {
     "name": "stderr",
     "output_type": "stream",
     "text": [
      "INFO:fbprophet.forecaster:Disabling weekly seasonality. Run prophet with weekly_seasonality=True to override this.\n",
      "INFO:fbprophet.forecaster:Disabling daily seasonality. Run prophet with daily_seasonality=True to override this.\n"
     ]
    },
    {
     "name": "stdout",
     "output_type": "stream",
     "text": [
      "Percentage Completed :  0.9031610637230306\n",
      "Parts Completed :  18\n"
     ]
    },
    {
     "name": "stderr",
     "output_type": "stream",
     "text": [
      "INFO:fbprophet.forecaster:Disabling weekly seasonality. Run prophet with weekly_seasonality=True to override this.\n",
      "INFO:fbprophet.forecaster:Disabling daily seasonality. Run prophet with daily_seasonality=True to override this.\n"
     ]
    },
    {
     "name": "stdout",
     "output_type": "stream",
     "text": [
      "Percentage Completed :  0.9533366783743101\n",
      "Parts Completed :  19\n"
     ]
    },
    {
     "name": "stderr",
     "output_type": "stream",
     "text": [
      "INFO:fbprophet.forecaster:Disabling weekly seasonality. Run prophet with weekly_seasonality=True to override this.\n",
      "INFO:fbprophet.forecaster:Disabling daily seasonality. Run prophet with daily_seasonality=True to override this.\n"
     ]
    },
    {
     "name": "stdout",
     "output_type": "stream",
     "text": [
      "Percentage Completed :  1.0035122930255895\n",
      "Parts Completed :  20\n"
     ]
    },
    {
     "name": "stderr",
     "output_type": "stream",
     "text": [
      "INFO:fbprophet.forecaster:Disabling weekly seasonality. Run prophet with weekly_seasonality=True to override this.\n",
      "INFO:fbprophet.forecaster:Disabling daily seasonality. Run prophet with daily_seasonality=True to override this.\n"
     ]
    },
    {
     "name": "stdout",
     "output_type": "stream",
     "text": [
      "Percentage Completed :  1.053687907676869\n",
      "Parts Completed :  21\n"
     ]
    },
    {
     "name": "stderr",
     "output_type": "stream",
     "text": [
      "INFO:fbprophet.forecaster:Disabling weekly seasonality. Run prophet with weekly_seasonality=True to override this.\n",
      "INFO:fbprophet.forecaster:Disabling daily seasonality. Run prophet with daily_seasonality=True to override this.\n"
     ]
    },
    {
     "name": "stdout",
     "output_type": "stream",
     "text": [
      "Percentage Completed :  1.1038635223281485\n",
      "Parts Completed :  22\n"
     ]
    },
    {
     "name": "stderr",
     "output_type": "stream",
     "text": [
      "INFO:fbprophet.forecaster:Disabling weekly seasonality. Run prophet with weekly_seasonality=True to override this.\n",
      "INFO:fbprophet.forecaster:Disabling daily seasonality. Run prophet with daily_seasonality=True to override this.\n",
      "INFO:fbprophet.forecaster:Disabling weekly seasonality. Run prophet with weekly_seasonality=True to override this.\n",
      "INFO:fbprophet.forecaster:Disabling daily seasonality. Run prophet with daily_seasonality=True to override this.\n"
     ]
    },
    {
     "name": "stdout",
     "output_type": "stream",
     "text": [
      "Percentage Completed :  1.154039136979428\n",
      "Parts Completed :  23\n"
     ]
    },
    {
     "name": "stderr",
     "output_type": "stream",
     "text": [
      "INFO:fbprophet.forecaster:Disabling weekly seasonality. Run prophet with weekly_seasonality=True to override this.\n",
      "INFO:fbprophet.forecaster:Disabling daily seasonality. Run prophet with daily_seasonality=True to override this.\n"
     ]
    },
    {
     "name": "stdout",
     "output_type": "stream",
     "text": [
      "Percentage Completed :  1.2042147516307076\n",
      "Parts Completed :  24\n"
     ]
    },
    {
     "name": "stderr",
     "output_type": "stream",
     "text": [
      "INFO:fbprophet.forecaster:Disabling weekly seasonality. Run prophet with weekly_seasonality=True to override this.\n",
      "INFO:fbprophet.forecaster:Disabling daily seasonality. Run prophet with daily_seasonality=True to override this.\n",
      "INFO:fbprophet.forecaster:Disabling weekly seasonality. Run prophet with weekly_seasonality=True to override this.\n",
      "INFO:fbprophet.forecaster:Disabling daily seasonality. Run prophet with daily_seasonality=True to override this.\n",
      "[                                                                        ]   1%"
     ]
    },
    {
     "name": "stdout",
     "output_type": "stream",
     "text": [
      "Percentage Completed :  1.2543903662819869\n",
      "Parts Completed :  25\n"
     ]
    },
    {
     "name": "stderr",
     "output_type": "stream",
     "text": [
      "INFO:fbprophet.forecaster:Disabling weekly seasonality. Run prophet with weekly_seasonality=True to override this.\n",
      "INFO:fbprophet.forecaster:Disabling daily seasonality. Run prophet with daily_seasonality=True to override this.\n"
     ]
    },
    {
     "name": "stdout",
     "output_type": "stream",
     "text": [
      "Percentage Completed :  1.3045659809332664\n",
      "Parts Completed :  26\n"
     ]
    },
    {
     "name": "stderr",
     "output_type": "stream",
     "text": [
      "INFO:fbprophet.forecaster:Disabling weekly seasonality. Run prophet with weekly_seasonality=True to override this.\n",
      "INFO:fbprophet.forecaster:Disabling daily seasonality. Run prophet with daily_seasonality=True to override this.\n"
     ]
    },
    {
     "name": "stdout",
     "output_type": "stream",
     "text": [
      "Percentage Completed :  1.3547415955845459\n",
      "Parts Completed :  27\n"
     ]
    },
    {
     "name": "stderr",
     "output_type": "stream",
     "text": [
      "INFO:fbprophet.forecaster:Disabling weekly seasonality. Run prophet with weekly_seasonality=True to override this.\n",
      "INFO:fbprophet.forecaster:Disabling daily seasonality. Run prophet with daily_seasonality=True to override this.\n"
     ]
    },
    {
     "name": "stdout",
     "output_type": "stream",
     "text": [
      "Percentage Completed :  1.4049172102358254\n",
      "Parts Completed :  28\n"
     ]
    },
    {
     "name": "stderr",
     "output_type": "stream",
     "text": [
      "INFO:fbprophet.forecaster:Disabling weekly seasonality. Run prophet with weekly_seasonality=True to override this.\n",
      "INFO:fbprophet.forecaster:Disabling daily seasonality. Run prophet with daily_seasonality=True to override this.\n"
     ]
    },
    {
     "name": "stdout",
     "output_type": "stream",
     "text": [
      "Percentage Completed :  1.455092824887105\n",
      "Parts Completed :  29\n"
     ]
    },
    {
     "name": "stderr",
     "output_type": "stream",
     "text": [
      "INFO:fbprophet.forecaster:Disabling weekly seasonality. Run prophet with weekly_seasonality=True to override this.\n",
      "INFO:fbprophet.forecaster:Disabling daily seasonality. Run prophet with daily_seasonality=True to override this.\n"
     ]
    },
    {
     "name": "stdout",
     "output_type": "stream",
     "text": [
      "Percentage Completed :  1.5052684395383844\n",
      "Parts Completed :  30\n"
     ]
    },
    {
     "name": "stderr",
     "output_type": "stream",
     "text": [
      "INFO:fbprophet.forecaster:Disabling weekly seasonality. Run prophet with weekly_seasonality=True to override this.\n",
      "INFO:fbprophet.forecaster:Disabling daily seasonality. Run prophet with daily_seasonality=True to override this.\n"
     ]
    },
    {
     "name": "stdout",
     "output_type": "stream",
     "text": [
      "Percentage Completed :  1.555444054189664\n",
      "Parts Completed :  31\n"
     ]
    },
    {
     "name": "stderr",
     "output_type": "stream",
     "text": [
      "INFO:fbprophet.forecaster:Disabling weekly seasonality. Run prophet with weekly_seasonality=True to override this.\n",
      "INFO:fbprophet.forecaster:Disabling daily seasonality. Run prophet with daily_seasonality=True to override this.\n"
     ]
    },
    {
     "name": "stdout",
     "output_type": "stream",
     "text": [
      "Percentage Completed :  1.6056196688409432\n",
      "Parts Completed :  32\n"
     ]
    },
    {
     "name": "stderr",
     "output_type": "stream",
     "text": [
      "INFO:fbprophet.forecaster:Disabling weekly seasonality. Run prophet with weekly_seasonality=True to override this.\n",
      "INFO:fbprophet.forecaster:Disabling daily seasonality. Run prophet with daily_seasonality=True to override this.\n"
     ]
    },
    {
     "name": "stdout",
     "output_type": "stream",
     "text": [
      "Percentage Completed :  1.6557952834922227\n",
      "Parts Completed :  33\n"
     ]
    },
    {
     "name": "stderr",
     "output_type": "stream",
     "text": [
      "INFO:fbprophet.forecaster:Disabling weekly seasonality. Run prophet with weekly_seasonality=True to override this.\n",
      "INFO:fbprophet.forecaster:Disabling daily seasonality. Run prophet with daily_seasonality=True to override this.\n"
     ]
    },
    {
     "name": "stdout",
     "output_type": "stream",
     "text": [
      "Percentage Completed :  1.7059708981435022\n",
      "Parts Completed :  34\n"
     ]
    },
    {
     "name": "stderr",
     "output_type": "stream",
     "text": [
      "INFO:fbprophet.forecaster:Disabling weekly seasonality. Run prophet with weekly_seasonality=True to override this.\n",
      "INFO:fbprophet.forecaster:Disabling daily seasonality. Run prophet with daily_seasonality=True to override this.\n"
     ]
    },
    {
     "name": "stdout",
     "output_type": "stream",
     "text": [
      "Percentage Completed :  1.7561465127947817\n",
      "Parts Completed :  35\n"
     ]
    },
    {
     "name": "stderr",
     "output_type": "stream",
     "text": [
      "INFO:fbprophet.forecaster:Disabling weekly seasonality. Run prophet with weekly_seasonality=True to override this.\n",
      "INFO:fbprophet.forecaster:Disabling daily seasonality. Run prophet with daily_seasonality=True to override this.\n"
     ]
    },
    {
     "name": "stdout",
     "output_type": "stream",
     "text": [
      "Percentage Completed :  1.8063221274460612\n",
      "Parts Completed :  36\n"
     ]
    },
    {
     "name": "stderr",
     "output_type": "stream",
     "text": [
      "INFO:fbprophet.forecaster:Disabling weekly seasonality. Run prophet with weekly_seasonality=True to override this.\n",
      "INFO:fbprophet.forecaster:Disabling daily seasonality. Run prophet with daily_seasonality=True to override this.\n"
     ]
    },
    {
     "name": "stdout",
     "output_type": "stream",
     "text": [
      "Percentage Completed :  1.8564977420973408\n",
      "Parts Completed :  37\n"
     ]
    },
    {
     "name": "stderr",
     "output_type": "stream",
     "text": [
      "INFO:fbprophet.forecaster:Disabling weekly seasonality. Run prophet with weekly_seasonality=True to override this.\n",
      "INFO:fbprophet.forecaster:Disabling daily seasonality. Run prophet with daily_seasonality=True to override this.\n"
     ]
    },
    {
     "name": "stdout",
     "output_type": "stream",
     "text": [
      "Percentage Completed :  1.9066733567486203\n",
      "Parts Completed :  38\n"
     ]
    },
    {
     "name": "stderr",
     "output_type": "stream",
     "text": [
      "INFO:fbprophet.forecaster:Disabling weekly seasonality. Run prophet with weekly_seasonality=True to override this.\n",
      "INFO:fbprophet.forecaster:Disabling daily seasonality. Run prophet with daily_seasonality=True to override this.\n"
     ]
    },
    {
     "name": "stdout",
     "output_type": "stream",
     "text": [
      "Percentage Completed :  1.9568489713998996\n",
      "Parts Completed :  39\n"
     ]
    },
    {
     "name": "stderr",
     "output_type": "stream",
     "text": [
      "INFO:fbprophet.forecaster:Disabling weekly seasonality. Run prophet with weekly_seasonality=True to override this.\n",
      "INFO:fbprophet.forecaster:Disabling daily seasonality. Run prophet with daily_seasonality=True to override this.\n"
     ]
    },
    {
     "name": "stdout",
     "output_type": "stream",
     "text": [
      "Percentage Completed :  2.007024586051179\n",
      "Parts Completed :  40\n"
     ]
    },
    {
     "name": "stderr",
     "output_type": "stream",
     "text": [
      "INFO:fbprophet.forecaster:Disabling weekly seasonality. Run prophet with weekly_seasonality=True to override this.\n",
      "INFO:fbprophet.forecaster:Disabling daily seasonality. Run prophet with daily_seasonality=True to override this.\n"
     ]
    },
    {
     "name": "stdout",
     "output_type": "stream",
     "text": [
      "Percentage Completed :  2.0572002007024586\n",
      "Parts Completed :  41\n"
     ]
    },
    {
     "name": "stderr",
     "output_type": "stream",
     "text": [
      "INFO:fbprophet.forecaster:Disabling weekly seasonality. Run prophet with weekly_seasonality=True to override this.\n",
      "INFO:fbprophet.forecaster:Disabling daily seasonality. Run prophet with daily_seasonality=True to override this.\n"
     ]
    },
    {
     "name": "stdout",
     "output_type": "stream",
     "text": [
      "Percentage Completed :  2.107375815353738\n",
      "Parts Completed :  42\n"
     ]
    },
    {
     "name": "stderr",
     "output_type": "stream",
     "text": [
      "INFO:fbprophet.forecaster:Disabling weekly seasonality. Run prophet with weekly_seasonality=True to override this.\n",
      "INFO:fbprophet.forecaster:Disabling daily seasonality. Run prophet with daily_seasonality=True to override this.\n"
     ]
    },
    {
     "name": "stdout",
     "output_type": "stream",
     "text": [
      "Percentage Completed :  2.1575514300050176\n",
      "Parts Completed :  43\n"
     ]
    },
    {
     "name": "stderr",
     "output_type": "stream",
     "text": [
      "INFO:fbprophet.forecaster:Disabling weekly seasonality. Run prophet with weekly_seasonality=True to override this.\n",
      "INFO:fbprophet.forecaster:Disabling daily seasonality. Run prophet with daily_seasonality=True to override this.\n"
     ]
    },
    {
     "name": "stdout",
     "output_type": "stream",
     "text": [
      "Percentage Completed :  2.207727044656297\n",
      "Parts Completed :  44\n"
     ]
    },
    {
     "name": "stderr",
     "output_type": "stream",
     "text": [
      "INFO:fbprophet.forecaster:Disabling weekly seasonality. Run prophet with weekly_seasonality=True to override this.\n",
      "INFO:fbprophet.forecaster:Disabling daily seasonality. Run prophet with daily_seasonality=True to override this.\n"
     ]
    },
    {
     "name": "stdout",
     "output_type": "stream",
     "text": [
      "Percentage Completed :  2.2579026593075766\n",
      "Parts Completed :  45\n"
     ]
    },
    {
     "name": "stderr",
     "output_type": "stream",
     "text": [
      "INFO:fbprophet.forecaster:Disabling weekly seasonality. Run prophet with weekly_seasonality=True to override this.\n",
      "INFO:fbprophet.forecaster:Disabling daily seasonality. Run prophet with daily_seasonality=True to override this.\n"
     ]
    },
    {
     "name": "stdout",
     "output_type": "stream",
     "text": [
      "Percentage Completed :  2.308078273958856\n",
      "Parts Completed :  46\n"
     ]
    },
    {
     "name": "stderr",
     "output_type": "stream",
     "text": [
      "INFO:fbprophet.forecaster:Disabling weekly seasonality. Run prophet with weekly_seasonality=True to override this.\n",
      "INFO:fbprophet.forecaster:Disabling daily seasonality. Run prophet with daily_seasonality=True to override this.\n"
     ]
    },
    {
     "name": "stdout",
     "output_type": "stream",
     "text": [
      "Percentage Completed :  2.3582538886101356\n",
      "Parts Completed :  47\n"
     ]
    },
    {
     "name": "stderr",
     "output_type": "stream",
     "text": [
      "INFO:fbprophet.forecaster:Disabling weekly seasonality. Run prophet with weekly_seasonality=True to override this.\n",
      "INFO:fbprophet.forecaster:Disabling daily seasonality. Run prophet with daily_seasonality=True to override this.\n"
     ]
    },
    {
     "name": "stdout",
     "output_type": "stream",
     "text": [
      "Percentage Completed :  2.408429503261415\n",
      "Parts Completed :  48\n"
     ]
    },
    {
     "name": "stderr",
     "output_type": "stream",
     "text": [
      "INFO:fbprophet.forecaster:Disabling weekly seasonality. Run prophet with weekly_seasonality=True to override this.\n",
      "INFO:fbprophet.forecaster:Disabling daily seasonality. Run prophet with daily_seasonality=True to override this.\n"
     ]
    },
    {
     "name": "stdout",
     "output_type": "stream",
     "text": [
      "Percentage Completed :  2.4586051179126946\n",
      "Parts Completed :  49\n"
     ]
    },
    {
     "name": "stderr",
     "output_type": "stream",
     "text": [
      "INFO:fbprophet.forecaster:Disabling weekly seasonality. Run prophet with weekly_seasonality=True to override this.\n",
      "INFO:fbprophet.forecaster:Disabling daily seasonality. Run prophet with daily_seasonality=True to override this.\n",
      "[=                                                                       ]   2%"
     ]
    },
    {
     "name": "stdout",
     "output_type": "stream",
     "text": [
      "Percentage Completed :  2.5087807325639737\n",
      "Parts Completed :  50\n"
     ]
    },
    {
     "name": "stderr",
     "output_type": "stream",
     "text": [
      "INFO:fbprophet.forecaster:Disabling weekly seasonality. Run prophet with weekly_seasonality=True to override this.\n",
      "INFO:fbprophet.forecaster:Disabling daily seasonality. Run prophet with daily_seasonality=True to override this.\n"
     ]
    },
    {
     "name": "stdout",
     "output_type": "stream",
     "text": [
      "Percentage Completed :  2.5589563472152532\n",
      "Parts Completed :  51\n"
     ]
    },
    {
     "name": "stderr",
     "output_type": "stream",
     "text": [
      "INFO:fbprophet.forecaster:Disabling weekly seasonality. Run prophet with weekly_seasonality=True to override this.\n",
      "INFO:fbprophet.forecaster:Disabling daily seasonality. Run prophet with daily_seasonality=True to override this.\n"
     ]
    },
    {
     "name": "stdout",
     "output_type": "stream",
     "text": [
      "Percentage Completed :  2.6091319618665327\n",
      "Parts Completed :  52\n"
     ]
    },
    {
     "name": "stderr",
     "output_type": "stream",
     "text": [
      "INFO:fbprophet.forecaster:Disabling weekly seasonality. Run prophet with weekly_seasonality=True to override this.\n",
      "INFO:fbprophet.forecaster:Disabling daily seasonality. Run prophet with daily_seasonality=True to override this.\n"
     ]
    },
    {
     "name": "stdout",
     "output_type": "stream",
     "text": [
      "Percentage Completed :  2.6593075765178122\n",
      "Parts Completed :  53\n"
     ]
    },
    {
     "name": "stderr",
     "output_type": "stream",
     "text": [
      "INFO:fbprophet.forecaster:Disabling weekly seasonality. Run prophet with weekly_seasonality=True to override this.\n",
      "INFO:fbprophet.forecaster:Disabling daily seasonality. Run prophet with daily_seasonality=True to override this.\n"
     ]
    },
    {
     "name": "stdout",
     "output_type": "stream",
     "text": [
      "Percentage Completed :  2.7094831911690918\n",
      "Parts Completed :  54\n"
     ]
    },
    {
     "name": "stderr",
     "output_type": "stream",
     "text": [
      "INFO:fbprophet.forecaster:Disabling weekly seasonality. Run prophet with weekly_seasonality=True to override this.\n",
      "INFO:fbprophet.forecaster:Disabling daily seasonality. Run prophet with daily_seasonality=True to override this.\n"
     ]
    },
    {
     "name": "stdout",
     "output_type": "stream",
     "text": [
      "Percentage Completed :  2.7596588058203713\n",
      "Parts Completed :  55\n"
     ]
    },
    {
     "name": "stderr",
     "output_type": "stream",
     "text": [
      "INFO:fbprophet.forecaster:Disabling weekly seasonality. Run prophet with weekly_seasonality=True to override this.\n",
      "INFO:fbprophet.forecaster:Disabling daily seasonality. Run prophet with daily_seasonality=True to override this.\n"
     ]
    },
    {
     "name": "stdout",
     "output_type": "stream",
     "text": [
      "Percentage Completed :  2.8098344204716508\n",
      "Parts Completed :  56\n"
     ]
    },
    {
     "name": "stderr",
     "output_type": "stream",
     "text": [
      "INFO:fbprophet.forecaster:Disabling weekly seasonality. Run prophet with weekly_seasonality=True to override this.\n",
      "INFO:fbprophet.forecaster:Disabling daily seasonality. Run prophet with daily_seasonality=True to override this.\n"
     ]
    },
    {
     "name": "stdout",
     "output_type": "stream",
     "text": [
      "Percentage Completed :  2.8600100351229303\n",
      "Parts Completed :  57\n"
     ]
    },
    {
     "name": "stderr",
     "output_type": "stream",
     "text": [
      "INFO:fbprophet.forecaster:Disabling weekly seasonality. Run prophet with weekly_seasonality=True to override this.\n",
      "INFO:fbprophet.forecaster:Disabling daily seasonality. Run prophet with daily_seasonality=True to override this.\n"
     ]
    },
    {
     "name": "stdout",
     "output_type": "stream",
     "text": [
      "Percentage Completed :  2.91018564977421\n",
      "Parts Completed :  58\n"
     ]
    },
    {
     "name": "stderr",
     "output_type": "stream",
     "text": [
      "INFO:fbprophet.forecaster:Disabling weekly seasonality. Run prophet with weekly_seasonality=True to override this.\n",
      "INFO:fbprophet.forecaster:Disabling daily seasonality. Run prophet with daily_seasonality=True to override this.\n"
     ]
    },
    {
     "name": "stdout",
     "output_type": "stream",
     "text": [
      "Percentage Completed :  2.9603612644254893\n",
      "Parts Completed :  59\n"
     ]
    },
    {
     "name": "stderr",
     "output_type": "stream",
     "text": [
      "INFO:fbprophet.forecaster:Disabling weekly seasonality. Run prophet with weekly_seasonality=True to override this.\n",
      "INFO:fbprophet.forecaster:Disabling daily seasonality. Run prophet with daily_seasonality=True to override this.\n"
     ]
    },
    {
     "name": "stdout",
     "output_type": "stream",
     "text": [
      "Percentage Completed :  3.010536879076769\n",
      "Parts Completed :  60\n"
     ]
    },
    {
     "name": "stderr",
     "output_type": "stream",
     "text": [
      "INFO:fbprophet.forecaster:Disabling weekly seasonality. Run prophet with weekly_seasonality=True to override this.\n",
      "INFO:fbprophet.forecaster:Disabling daily seasonality. Run prophet with daily_seasonality=True to override this.\n"
     ]
    },
    {
     "name": "stdout",
     "output_type": "stream",
     "text": [
      "Percentage Completed :  3.0607124937280483\n",
      "Parts Completed :  61\n"
     ]
    },
    {
     "name": "stderr",
     "output_type": "stream",
     "text": [
      "INFO:fbprophet.forecaster:Disabling weekly seasonality. Run prophet with weekly_seasonality=True to override this.\n",
      "INFO:fbprophet.forecaster:Disabling daily seasonality. Run prophet with daily_seasonality=True to override this.\n"
     ]
    },
    {
     "name": "stdout",
     "output_type": "stream",
     "text": [
      "Percentage Completed :  3.110888108379328\n",
      "Parts Completed :  62\n"
     ]
    },
    {
     "name": "stderr",
     "output_type": "stream",
     "text": [
      "INFO:fbprophet.forecaster:Disabling weekly seasonality. Run prophet with weekly_seasonality=True to override this.\n",
      "INFO:fbprophet.forecaster:Disabling daily seasonality. Run prophet with daily_seasonality=True to override this.\n"
     ]
    },
    {
     "name": "stdout",
     "output_type": "stream",
     "text": [
      "Percentage Completed :  3.1610637230306073\n",
      "Parts Completed :  63\n"
     ]
    },
    {
     "name": "stderr",
     "output_type": "stream",
     "text": [
      "INFO:fbprophet.forecaster:Disabling weekly seasonality. Run prophet with weekly_seasonality=True to override this.\n",
      "INFO:fbprophet.forecaster:Disabling daily seasonality. Run prophet with daily_seasonality=True to override this.\n"
     ]
    },
    {
     "name": "stdout",
     "output_type": "stream",
     "text": [
      "Percentage Completed :  3.2112393376818864\n",
      "Parts Completed :  64\n"
     ]
    },
    {
     "name": "stderr",
     "output_type": "stream",
     "text": [
      "INFO:fbprophet.forecaster:Disabling weekly seasonality. Run prophet with weekly_seasonality=True to override this.\n",
      "INFO:fbprophet.forecaster:Disabling daily seasonality. Run prophet with daily_seasonality=True to override this.\n"
     ]
    },
    {
     "name": "stdout",
     "output_type": "stream",
     "text": [
      "Percentage Completed :  3.261414952333166\n",
      "Parts Completed :  65\n"
     ]
    },
    {
     "name": "stderr",
     "output_type": "stream",
     "text": [
      "INFO:fbprophet.forecaster:Disabling weekly seasonality. Run prophet with weekly_seasonality=True to override this.\n",
      "INFO:fbprophet.forecaster:Disabling daily seasonality. Run prophet with daily_seasonality=True to override this.\n"
     ]
    },
    {
     "name": "stdout",
     "output_type": "stream",
     "text": [
      "Percentage Completed :  3.3115905669844454\n",
      "Parts Completed :  66\n"
     ]
    },
    {
     "name": "stderr",
     "output_type": "stream",
     "text": [
      "INFO:fbprophet.forecaster:Disabling weekly seasonality. Run prophet with weekly_seasonality=True to override this.\n",
      "INFO:fbprophet.forecaster:Disabling daily seasonality. Run prophet with daily_seasonality=True to override this.\n"
     ]
    },
    {
     "name": "stdout",
     "output_type": "stream",
     "text": [
      "Percentage Completed :  3.361766181635725\n",
      "Parts Completed :  67\n"
     ]
    },
    {
     "name": "stderr",
     "output_type": "stream",
     "text": [
      "INFO:fbprophet.forecaster:Disabling weekly seasonality. Run prophet with weekly_seasonality=True to override this.\n",
      "INFO:fbprophet.forecaster:Disabling daily seasonality. Run prophet with daily_seasonality=True to override this.\n"
     ]
    },
    {
     "name": "stdout",
     "output_type": "stream",
     "text": [
      "Percentage Completed :  3.4119417962870044\n",
      "Parts Completed :  68\n"
     ]
    },
    {
     "name": "stderr",
     "output_type": "stream",
     "text": [
      "INFO:fbprophet.forecaster:Disabling weekly seasonality. Run prophet with weekly_seasonality=True to override this.\n",
      "INFO:fbprophet.forecaster:Disabling daily seasonality. Run prophet with daily_seasonality=True to override this.\n"
     ]
    },
    {
     "name": "stdout",
     "output_type": "stream",
     "text": [
      "Percentage Completed :  3.462117410938284\n",
      "Parts Completed :  69\n"
     ]
    },
    {
     "name": "stderr",
     "output_type": "stream",
     "text": [
      "INFO:fbprophet.forecaster:Disabling weekly seasonality. Run prophet with weekly_seasonality=True to override this.\n",
      "INFO:fbprophet.forecaster:Disabling daily seasonality. Run prophet with daily_seasonality=True to override this.\n"
     ]
    },
    {
     "name": "stdout",
     "output_type": "stream",
     "text": [
      "Percentage Completed :  3.5122930255895635\n",
      "Parts Completed :  70\n"
     ]
    },
    {
     "name": "stderr",
     "output_type": "stream",
     "text": [
      "INFO:fbprophet.forecaster:Disabling weekly seasonality. Run prophet with weekly_seasonality=True to override this.\n",
      "INFO:fbprophet.forecaster:Disabling daily seasonality. Run prophet with daily_seasonality=True to override this.\n"
     ]
    },
    {
     "name": "stdout",
     "output_type": "stream",
     "text": [
      "Percentage Completed :  3.562468640240843\n",
      "Parts Completed :  71\n"
     ]
    },
    {
     "name": "stderr",
     "output_type": "stream",
     "text": [
      "INFO:fbprophet.forecaster:Disabling weekly seasonality. Run prophet with weekly_seasonality=True to override this.\n",
      "INFO:fbprophet.forecaster:Disabling daily seasonality. Run prophet with daily_seasonality=True to override this.\n"
     ]
    },
    {
     "name": "stdout",
     "output_type": "stream",
     "text": [
      "Percentage Completed :  3.6126442548921225\n",
      "Parts Completed :  72\n"
     ]
    },
    {
     "name": "stderr",
     "output_type": "stream",
     "text": [
      "INFO:fbprophet.forecaster:Disabling weekly seasonality. Run prophet with weekly_seasonality=True to override this.\n",
      "INFO:fbprophet.forecaster:Disabling daily seasonality. Run prophet with daily_seasonality=True to override this.\n"
     ]
    },
    {
     "name": "stdout",
     "output_type": "stream",
     "text": [
      "Percentage Completed :  3.662819869543402\n",
      "Parts Completed :  73\n"
     ]
    },
    {
     "name": "stderr",
     "output_type": "stream",
     "text": [
      "INFO:fbprophet.forecaster:Disabling weekly seasonality. Run prophet with weekly_seasonality=True to override this.\n",
      "INFO:fbprophet.forecaster:Disabling daily seasonality. Run prophet with daily_seasonality=True to override this.\n"
     ]
    },
    {
     "name": "stdout",
     "output_type": "stream",
     "text": [
      "Percentage Completed :  3.7129954841946815\n",
      "Parts Completed :  74\n"
     ]
    },
    {
     "name": "stderr",
     "output_type": "stream",
     "text": [
      "INFO:fbprophet.forecaster:Disabling weekly seasonality. Run prophet with weekly_seasonality=True to override this.\n",
      "INFO:fbprophet.forecaster:Disabling daily seasonality. Run prophet with daily_seasonality=True to override this.\n",
      "[==                                                                      ]   3%"
     ]
    },
    {
     "name": "stdout",
     "output_type": "stream",
     "text": [
      "Percentage Completed :  3.763171098845961\n",
      "Parts Completed :  75\n"
     ]
    },
    {
     "name": "stderr",
     "output_type": "stream",
     "text": [
      "INFO:fbprophet.forecaster:Disabling weekly seasonality. Run prophet with weekly_seasonality=True to override this.\n",
      "INFO:fbprophet.forecaster:Disabling daily seasonality. Run prophet with daily_seasonality=True to override this.\n"
     ]
    },
    {
     "name": "stdout",
     "output_type": "stream",
     "text": [
      "Percentage Completed :  3.8133467134972405\n",
      "Parts Completed :  76\n"
     ]
    },
    {
     "name": "stderr",
     "output_type": "stream",
     "text": [
      "INFO:fbprophet.forecaster:Disabling weekly seasonality. Run prophet with weekly_seasonality=True to override this.\n",
      "INFO:fbprophet.forecaster:Disabling daily seasonality. Run prophet with daily_seasonality=True to override this.\n"
     ]
    },
    {
     "name": "stdout",
     "output_type": "stream",
     "text": [
      "Percentage Completed :  3.86352232814852\n",
      "Parts Completed :  77\n"
     ]
    },
    {
     "name": "stderr",
     "output_type": "stream",
     "text": [
      "INFO:fbprophet.forecaster:Disabling weekly seasonality. Run prophet with weekly_seasonality=True to override this.\n",
      "INFO:fbprophet.forecaster:Disabling daily seasonality. Run prophet with daily_seasonality=True to override this.\n"
     ]
    },
    {
     "name": "stdout",
     "output_type": "stream",
     "text": [
      "Percentage Completed :  3.913697942799799\n",
      "Parts Completed :  78\n"
     ]
    },
    {
     "name": "stderr",
     "output_type": "stream",
     "text": [
      "INFO:fbprophet.forecaster:Disabling weekly seasonality. Run prophet with weekly_seasonality=True to override this.\n",
      "INFO:fbprophet.forecaster:Disabling daily seasonality. Run prophet with daily_seasonality=True to override this.\n"
     ]
    },
    {
     "name": "stdout",
     "output_type": "stream",
     "text": [
      "Percentage Completed :  3.9638735574510786\n",
      "Parts Completed :  79\n"
     ]
    },
    {
     "name": "stderr",
     "output_type": "stream",
     "text": [
      "INFO:fbprophet.forecaster:Disabling weekly seasonality. Run prophet with weekly_seasonality=True to override this.\n",
      "INFO:fbprophet.forecaster:Disabling daily seasonality. Run prophet with daily_seasonality=True to override this.\n"
     ]
    },
    {
     "name": "stdout",
     "output_type": "stream",
     "text": [
      "Percentage Completed :  4.014049172102358\n",
      "Parts Completed :  80\n"
     ]
    },
    {
     "name": "stderr",
     "output_type": "stream",
     "text": [
      "INFO:fbprophet.forecaster:Disabling weekly seasonality. Run prophet with weekly_seasonality=True to override this.\n",
      "INFO:fbprophet.forecaster:Disabling daily seasonality. Run prophet with daily_seasonality=True to override this.\n"
     ]
    },
    {
     "name": "stdout",
     "output_type": "stream",
     "text": [
      "Percentage Completed :  4.064224786753638\n",
      "Parts Completed :  81\n"
     ]
    },
    {
     "name": "stderr",
     "output_type": "stream",
     "text": [
      "INFO:fbprophet.forecaster:Disabling weekly seasonality. Run prophet with weekly_seasonality=True to override this.\n",
      "INFO:fbprophet.forecaster:Disabling daily seasonality. Run prophet with daily_seasonality=True to override this.\n"
     ]
    },
    {
     "name": "stdout",
     "output_type": "stream",
     "text": [
      "Percentage Completed :  4.114400401404917\n",
      "Parts Completed :  82\n"
     ]
    },
    {
     "name": "stderr",
     "output_type": "stream",
     "text": [
      "INFO:fbprophet.forecaster:Disabling weekly seasonality. Run prophet with weekly_seasonality=True to override this.\n",
      "INFO:fbprophet.forecaster:Disabling daily seasonality. Run prophet with daily_seasonality=True to override this.\n"
     ]
    },
    {
     "name": "stdout",
     "output_type": "stream",
     "text": [
      "Percentage Completed :  4.164576016056197\n",
      "Parts Completed :  83\n"
     ]
    },
    {
     "name": "stderr",
     "output_type": "stream",
     "text": [
      "INFO:fbprophet.forecaster:Disabling weekly seasonality. Run prophet with weekly_seasonality=True to override this.\n",
      "INFO:fbprophet.forecaster:Disabling daily seasonality. Run prophet with daily_seasonality=True to override this.\n"
     ]
    },
    {
     "name": "stdout",
     "output_type": "stream",
     "text": [
      "Percentage Completed :  4.214751630707476\n",
      "Parts Completed :  84\n"
     ]
    },
    {
     "name": "stderr",
     "output_type": "stream",
     "text": [
      "INFO:fbprophet.forecaster:Disabling weekly seasonality. Run prophet with weekly_seasonality=True to override this.\n",
      "INFO:fbprophet.forecaster:Disabling daily seasonality. Run prophet with daily_seasonality=True to override this.\n"
     ]
    },
    {
     "name": "stdout",
     "output_type": "stream",
     "text": [
      "Percentage Completed :  4.264927245358756\n",
      "Parts Completed :  85\n"
     ]
    },
    {
     "name": "stderr",
     "output_type": "stream",
     "text": [
      "INFO:fbprophet.forecaster:Disabling weekly seasonality. Run prophet with weekly_seasonality=True to override this.\n",
      "INFO:fbprophet.forecaster:Disabling daily seasonality. Run prophet with daily_seasonality=True to override this.\n"
     ]
    },
    {
     "name": "stdout",
     "output_type": "stream",
     "text": [
      "Percentage Completed :  4.315102860010035\n",
      "Parts Completed :  86\n"
     ]
    },
    {
     "name": "stderr",
     "output_type": "stream",
     "text": [
      "INFO:fbprophet.forecaster:Disabling weekly seasonality. Run prophet with weekly_seasonality=True to override this.\n",
      "INFO:fbprophet.forecaster:Disabling daily seasonality. Run prophet with daily_seasonality=True to override this.\n"
     ]
    },
    {
     "name": "stdout",
     "output_type": "stream",
     "text": [
      "Percentage Completed :  4.365278474661315\n",
      "Parts Completed :  87\n"
     ]
    },
    {
     "name": "stderr",
     "output_type": "stream",
     "text": [
      "INFO:fbprophet.forecaster:Disabling weekly seasonality. Run prophet with weekly_seasonality=True to override this.\n",
      "INFO:fbprophet.forecaster:Disabling daily seasonality. Run prophet with daily_seasonality=True to override this.\n"
     ]
    },
    {
     "name": "stdout",
     "output_type": "stream",
     "text": [
      "Percentage Completed :  4.415454089312594\n",
      "Parts Completed :  88\n"
     ]
    },
    {
     "name": "stderr",
     "output_type": "stream",
     "text": [
      "INFO:fbprophet.forecaster:Disabling weekly seasonality. Run prophet with weekly_seasonality=True to override this.\n",
      "INFO:fbprophet.forecaster:Disabling daily seasonality. Run prophet with daily_seasonality=True to override this.\n"
     ]
    },
    {
     "name": "stdout",
     "output_type": "stream",
     "text": [
      "Percentage Completed :  4.465629703963874\n",
      "Parts Completed :  89\n"
     ]
    },
    {
     "name": "stderr",
     "output_type": "stream",
     "text": [
      "INFO:fbprophet.forecaster:Disabling weekly seasonality. Run prophet with weekly_seasonality=True to override this.\n",
      "INFO:fbprophet.forecaster:Disabling daily seasonality. Run prophet with daily_seasonality=True to override this.\n"
     ]
    },
    {
     "name": "stdout",
     "output_type": "stream",
     "text": [
      "Percentage Completed :  4.515805318615153\n",
      "Parts Completed :  90\n"
     ]
    },
    {
     "name": "stderr",
     "output_type": "stream",
     "text": [
      "INFO:fbprophet.forecaster:Disabling weekly seasonality. Run prophet with weekly_seasonality=True to override this.\n",
      "INFO:fbprophet.forecaster:Disabling daily seasonality. Run prophet with daily_seasonality=True to override this.\n"
     ]
    },
    {
     "name": "stdout",
     "output_type": "stream",
     "text": [
      "Percentage Completed :  4.565980933266433\n",
      "Parts Completed :  91\n"
     ]
    },
    {
     "name": "stderr",
     "output_type": "stream",
     "text": [
      "INFO:fbprophet.forecaster:Disabling weekly seasonality. Run prophet with weekly_seasonality=True to override this.\n",
      "INFO:fbprophet.forecaster:Disabling daily seasonality. Run prophet with daily_seasonality=True to override this.\n"
     ]
    },
    {
     "name": "stdout",
     "output_type": "stream",
     "text": [
      "Percentage Completed :  4.616156547917712\n",
      "Parts Completed :  92\n"
     ]
    },
    {
     "name": "stderr",
     "output_type": "stream",
     "text": [
      "INFO:fbprophet.forecaster:Disabling weekly seasonality. Run prophet with weekly_seasonality=True to override this.\n",
      "INFO:fbprophet.forecaster:Disabling daily seasonality. Run prophet with daily_seasonality=True to override this.\n"
     ]
    },
    {
     "name": "stdout",
     "output_type": "stream",
     "text": [
      "Percentage Completed :  4.666332162568992\n",
      "Parts Completed :  93\n"
     ]
    },
    {
     "name": "stderr",
     "output_type": "stream",
     "text": [
      "INFO:fbprophet.forecaster:Disabling weekly seasonality. Run prophet with weekly_seasonality=True to override this.\n",
      "INFO:fbprophet.forecaster:Disabling daily seasonality. Run prophet with daily_seasonality=True to override this.\n"
     ]
    }
   ],
   "source": [
    "bar = progressbar.ProgressBar(maxval=len(AggRawData[\"CardexDiscretePart\"].unique()), widgets=[progressbar.Bar('=', '[', ']'), ' ', progressbar.Percentage()])\n",
    "b = 0\n",
    "finalForecast = pd.DataFrame()\n",
    "lags = [0,1,2,3,4,5,6,12,13,23,24]\n",
    "for i in AggRawData[\"CardexDiscretePart\"].unique():\n",
    "#for i in range(1):\n",
    "    try:\n",
    "        bar.update(b+1)\n",
    "        b = b + 1\n",
    "        #i = '03DU03'\n",
    "        locDF = AggRawData.loc[AggRawData['CardexDiscretePart'] == i]\n",
    "        minDate =min(locDF['MonthYear'].dt.date)\n",
    "        maxDate = pd.to_datetime(\"2017-10-01\")\n",
    "        MonthYear = np.arange(minDate, maxDate, dtype='datetime64[M]')\n",
    "        CorrectDF = pd.DataFrame(MonthYear)\n",
    "        CorrectDF.columns = ['MonthYear']\n",
    "        locDF = CorrectDF.merge(locDF, how=\"left\", on=\"MonthYear\")\n",
    "        locDF['OrderQuantity'] = locDF['OrderQuantity'].fillna(0)\n",
    "        locDF['CardexDiscretePart'] = locDF['CardexDiscretePart'].fillna(i)\n",
    "        trainDF = locDF.loc[locDF['MonthYear'] <= pd.to_datetime('2016-06-01')]\n",
    "        cvDF = locDF.loc[(locDF['MonthYear'] >= pd.to_datetime('2016-07-01')) & (locDF['MonthYear'] <= pd.to_datetime('2016-09-01'))]\n",
    "        testDF = locDF.loc[locDF['MonthYear'] >= pd.to_datetime('2016-10-01')]\n",
    "        cvForecastDF = cvDF.copy()\n",
    "        errorDF = pd.DataFrame()\n",
    "        try:\n",
    "            cvForecastDF[\"ArimaxForecast\"] = ArimaxKLX(trainDF, cvDF)\n",
    "            cvForecastDF['RMSE_ArimaxForecast'] = ((cvForecastDF['OrderQuantity'] - cvForecastDF['ArimaxForecast'])**2)**0.5\n",
    "            errorDF[\"meanRMSE_ARIMAX\"] = pd.Series(np.mean(cvForecastDF['RMSE_ArimaxForecast']))\n",
    "        except:\n",
    "            print('Arimax Failed')\n",
    "        try:\n",
    "            cvForecastDF[\"SMA\"] = simpleMovingAverage(trainDF, cvDF, order=3)\n",
    "            cvForecastDF['RMSE_SMA'] = ((cvForecastDF['OrderQuantity'] - cvForecastDF['SMA'])**2)**0.5\n",
    "            errorDF[\"meanRMSE_SMA\"] = pd.Series(np.mean(cvForecastDF['RMSE_SMA']))\n",
    "        except:\n",
    "            print(\"SMA Failed\")\n",
    "        try:\n",
    "            cvForecastDF[\"RandomForest\"] = randomForest(trainDF, cvDF, lags)\n",
    "            cvForecastDF['RMSE_RandomForest'] = ((cvForecastDF['OrderQuantity'] - cvForecastDF['RandomForest'])**2)**0.5\n",
    "            errorDF[\"meanRMSE_RandomForest\"] = pd.Series(np.mean(cvForecastDF['RMSE_RandomForest']))\n",
    "        except:\n",
    "            print(\"RF Failed\")\n",
    "        #try:\n",
    "        #    cvForecastDF[\"GradientBoosting\"] = gradientBoosting(trainDF, cvDF, lags)\n",
    "        #    cvForecastDF['RMSE_GradientBoosting'] = ((cvForecastDF['OrderQuantity'] - cvForecastDF['GradientBoosting'])**2)**0.5\n",
    "        #    errorDF[\"meanRMSE_GradientBoosting\"] = pd.Series(np.mean(cvForecastDF['RMSE_GradientBoosting']))\n",
    "        #except:\n",
    "        #    print(\"Gradient Boosting Failed\")\n",
    "        try:\n",
    "            cvForecastDF[\"AdaBoosting\"] = adaBoosting(trainDF, cvDF, lags)\n",
    "            cvForecastDF['RMSE_AdaBoosting'] = ((cvForecastDF['OrderQuantity'] - cvForecastDF['AdaBoosting'])**2)**0.5\n",
    "            errorDF[\"meanRMSE_AdaBoosting\"] = pd.Series(np.mean(cvForecastDF['RMSE_AdaBoosting']))\n",
    "        except:\n",
    "            print(\"Ada Boosting Falied\")\n",
    "        try:\n",
    "            cvForecastDF[\"SVR\"] = svr(trainDF, cvDF, lags)\n",
    "            cvForecastDF['RMSE_SVR'] = ((cvForecastDF['OrderQuantity'] - cvForecastDF['SVR'])**2)**0.5\n",
    "            errorDF[\"meanRMSE_SVR\"] = pd.Series(np.mean(cvForecastDF['RMSE_SVR']))\n",
    "        except:\n",
    "            print(\"SVR Failed\")\n",
    "        try:\n",
    "            cvForecastDF[\"LSTM\"] = lstmKLX(trainDF, cvDF, lags)\n",
    "            cvForecastDF['RMSE_LSTM'] = ((cvForecastDF['OrderQuantity'] - cvForecastDF['LSTM'])**2)**0.5\n",
    "            errorDF[\"meanRMSE_LSTM\"] = pd.Series(np.mean(cvForecastDF['RMSE_LSTM']))\n",
    "        except:\n",
    "            print(\"LSTM Failed\")\n",
    "        try:\n",
    "            cvForecastDF[\"Prophet\"] = prophet(trainDF, cvDF)\n",
    "            cvForecastDF['RMSE_Prophet'] = ((cvForecastDF['OrderQuantity'] - cvForecastDF['Prophet'])**2)**0.5\n",
    "            errorDF[\"meanRMSE_Prophet\"] = pd.Series(np.mean(cvForecastDF['RMSE_Prophet']))\n",
    "        except:\n",
    "            print(\"Prophet Failed\")\n",
    "        try:\n",
    "            cvForecastDF[\"HoltForecast\"] = holtWintersForecast(trainDF, cvDF, 0.2, 0.2, 0.1, 12,3, 0.1)\n",
    "            cvForecastDF['RMSE_HoltForecast'] = ((cvForecastDF['OrderQuantity'] - cvForecastDF['HoltForecast'])**2)**0.5\n",
    "            errorDF[\"meanRMSE_HoltForecast\"] = pd.Series(np.mean(cvForecastDF['RMSE_HoltForecast']))\n",
    "        except:\n",
    "            print(\"Holt Exception\")\n",
    "\n",
    "        minModel = errorDF.idxmin(axis=1)[0]\n",
    "\n",
    "        cvDF.index = cvDF[\"MonthYear\"]\n",
    "        testDF.index = testDF[\"MonthYear\"]\n",
    "\n",
    "        trainDF = trainDF.append(cvDF)\n",
    "\n",
    "        testForecast = testDF.copy()\n",
    "\n",
    "        if minModel == \"meanRMSE_ARIMAX\":\n",
    "            testForecast[\"Forecast\"] = ArimaxKLX(trainDF, testDF)\n",
    "            testForecast[\"BestModel\"] = \"Arimax\"\n",
    "        elif minModel == \"meanRMSE_SMA\":\n",
    "            testForecast[\"Forecast\"] = simpleMovingAverage(trainDF, testDF, order=3)\n",
    "            testForecast[\"BestModel\"] = \"SMA\"\n",
    "        elif minModel == \"meanRMSE_RandomForest\":\n",
    "            testForecast[\"Forecast\"] = randomForest(trainDF, testDF, lags)\n",
    "            testForecast[\"BestModel\"] = \"RandomForest\"\n",
    "        elif minModel == \"meanRMSE_AdaBoosting\":\n",
    "            testForecast[\"Forecast\"] = adaBoosting(trainDF, testDF, lags)\n",
    "            testForecast[\"BestModel\"] = \"AdaBoost\"\n",
    "        elif minModel == \"meanRMSE_SVR\":\n",
    "            testForecast[\"Forecast\"] = svr(trainDF, testDF, lags)\n",
    "            testForecast[\"BestModel\"] = \"SVR\"\n",
    "        elif minModel == \"meanRMSE_LSTM\":\n",
    "            testForecast[\"Forecast\"] = lstmKLX(trainDF, testDF, lags)\n",
    "            testForecast[\"BestModel\"] = \"LSTM\"\n",
    "        elif minModel == \"meanRMSE_Prophet\":\n",
    "            testForecast[\"Forecast\"] = prophet(trainDF, testDF)\n",
    "            testForecast[\"BestModel\"] = \"Prophet\"\n",
    "        elif minModel == \"meanRMSE_HoltForecast\":\n",
    "            testForecast[\"Forecast\"] = holtWintersForecast(trainDF, testDF, 0.2, 0.2, 0.1, 12,3, 0.1)\n",
    "            testForecast[\"BestModel\"] = \"Holts\"\n",
    "        elif minModel == \"meanRMSE_GradientBoosting\":\n",
    "            testForecast[\"Forecast\"] = gradientBoosting(trainDF, testDF, lags)\n",
    "            testForecast[\"BestModel\"] = \"GradientBoost\"\n",
    "        try:\n",
    "            testForecast[\"SaleOrNot\"] = svc(trainDF, testDF, lags)\n",
    "        except:\n",
    "            testForecast[\"SaleOrNot\"] = svc(trainDF, testDF, [0,1,2])\n",
    "\n",
    "        testForecast[\"Forecast_Imputed\"] = testForecast[\"Forecast\"] * testForecast[\"SaleOrNot\"]\n",
    "\n",
    "        print(\"Percentage Completed : \", b*100/len(AggRawData[\"CardexDiscretePart\"].unique()))\n",
    "        print(\"Parts Completed : \", b)\n",
    "\n",
    "        finalForecast = finalForecast.append(testForecast)\n",
    "    \n",
    "    except:\n",
    "        print(\"For Loop Exception\")\n",
    "        \n",
    "bar.finish()"
   ]
  },
  {
   "cell_type": "code",
   "execution_count": null,
   "metadata": {},
   "outputs": [],
   "source": [
    "pd.write"
   ]
  }
 ],
 "metadata": {
  "kernelspec": {
   "display_name": "Python 3",
   "language": "python",
   "name": "python3"
  },
  "language_info": {
   "codemirror_mode": {
    "name": "ipython",
    "version": 3
   },
   "file_extension": ".py",
   "mimetype": "text/x-python",
   "name": "python",
   "nbconvert_exporter": "python",
   "pygments_lexer": "ipython3",
   "version": "3.6.4"
  }
 },
 "nbformat": 4,
 "nbformat_minor": 2
}
