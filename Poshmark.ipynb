{
  "nbformat": 4,
  "nbformat_minor": 0,
  "metadata": {
    "colab": {
      "name": "Poshmark.ipynb",
      "provenance": [],
      "collapsed_sections": [],
      "authorship_tag": "ABX9TyMKHA/0devJj6SO2wafU3UL",
      "include_colab_link": true
    },
    "kernelspec": {
      "name": "python3",
      "display_name": "Python 3"
    }
  },
  "cells": [
    {
      "cell_type": "markdown",
      "metadata": {
        "id": "view-in-github",
        "colab_type": "text"
      },
      "source": [
        "<a href=\"https://colab.research.google.com/github/tsnarendran14/My-Scripts/blob/master/Poshmark.ipynb\" target=\"_parent\"><img src=\"https://colab.research.google.com/assets/colab-badge.svg\" alt=\"Open In Colab\"/></a>"
      ]
    },
    {
      "cell_type": "markdown",
      "metadata": {
        "id": "B71C4-Teldce"
      },
      "source": [
        "# 1. Loading Libraries and Mounting Google Drive"
      ]
    },
    {
      "cell_type": "code",
      "metadata": {
        "id": "8wssg7meorin"
      },
      "source": [
        "# Load Libraries\r\n",
        "import pandas as pd\r\n",
        "import numpy as np\r\n",
        "from sklearn.model_selection import train_test_split\r\n",
        "import matplotlib.pyplot as plt\r\n",
        "import warnings\r\n",
        "warnings.filterwarnings(\"ignore\")\r\n",
        "from tqdm import tqdm\r\n",
        "np.random.seed(123)\r\n",
        "from itertools import product\r\n",
        "import re\r\n",
        "import string\r\n",
        "from sklearn.feature_extraction.text import TfidfVectorizer\r\n",
        "import xgboost as xgb\r\n",
        "from sklearn.metrics import mean_squared_error\r\n",
        "from sklearn.model_selection import TimeSeriesSplit\r\n",
        "from scipy import stats\r\n",
        "from sklearn.model_selection import RandomizedSearchCV, KFold\r\n",
        "from tqdm import tqdm"
      ],
      "execution_count": 2,
      "outputs": []
    },
    {
      "cell_type": "code",
      "metadata": {
        "colab": {
          "base_uri": "https://localhost:8080/"
        },
        "id": "qg5jDwVcow09",
        "outputId": "1f4e9f24-1ed6-49a2-8636-8f2ba1696571"
      },
      "source": [
        "# Load files from google drive\r\n",
        "from google.colab import drive\r\n",
        "drive.mount('/content/drive/')\r\n",
        "%cd /content/drive/My Drive/Colab Notebooks/"
      ],
      "execution_count": 4,
      "outputs": [
        {
          "output_type": "stream",
          "text": [
            "Mounted at /content/drive/\n",
            "/content/drive/My Drive/Colab Notebooks\n"
          ],
          "name": "stdout"
        }
      ]
    },
    {
      "cell_type": "markdown",
      "metadata": {
        "id": "b_Hb6-E2llVX"
      },
      "source": [
        "# 2. Reading Data"
      ]
    },
    {
      "cell_type": "code",
      "metadata": {
        "id": "3IgO-e4ro0Xi"
      },
      "source": [
        "data = pd.read_csv('ds-take-home-dataset.csv')"
      ],
      "execution_count": 5,
      "outputs": []
    },
    {
      "cell_type": "code",
      "metadata": {
        "colab": {
          "base_uri": "https://localhost:8080/",
          "height": 197
        },
        "id": "pqI1dzpQpECc",
        "outputId": "2c4fadf2-bbfa-491d-d393-7d1001115203"
      },
      "source": [
        "data.head()"
      ],
      "execution_count": 6,
      "outputs": [
        {
          "output_type": "execute_result",
          "data": {
            "text/html": [
              "<div>\n",
              "<style scoped>\n",
              "    .dataframe tbody tr th:only-of-type {\n",
              "        vertical-align: middle;\n",
              "    }\n",
              "\n",
              "    .dataframe tbody tr th {\n",
              "        vertical-align: top;\n",
              "    }\n",
              "\n",
              "    .dataframe thead th {\n",
              "        text-align: right;\n",
              "    }\n",
              "</style>\n",
              "<table border=\"1\" class=\"dataframe\">\n",
              "  <thead>\n",
              "    <tr style=\"text-align: right;\">\n",
              "      <th></th>\n",
              "      <th>id</th>\n",
              "      <th>attr1</th>\n",
              "      <th>attr2</th>\n",
              "      <th>attr3</th>\n",
              "      <th>attr4</th>\n",
              "      <th>attr5</th>\n",
              "      <th>attr6</th>\n",
              "      <th>title</th>\n",
              "      <th>sold_price</th>\n",
              "    </tr>\n",
              "  </thead>\n",
              "  <tbody>\n",
              "    <tr>\n",
              "      <th>0</th>\n",
              "      <td>742122</td>\n",
              "      <td>4</td>\n",
              "      <td>27</td>\n",
              "      <td>149.0</td>\n",
              "      <td>3808.0</td>\n",
              "      <td>1.0</td>\n",
              "      <td>99.0</td>\n",
              "      <td>one teaspoon bandit distressed denim shorts (23)</td>\n",
              "      <td>65.0</td>\n",
              "    </tr>\n",
              "    <tr>\n",
              "      <th>1</th>\n",
              "      <td>652751</td>\n",
              "      <td>4</td>\n",
              "      <td>3</td>\n",
              "      <td>89.0</td>\n",
              "      <td>1996.0</td>\n",
              "      <td>NaN</td>\n",
              "      <td>1500.0</td>\n",
              "      <td>gucci emily mini guccissima mini red leather bag</td>\n",
              "      <td>600.0</td>\n",
              "    </tr>\n",
              "    <tr>\n",
              "      <th>2</th>\n",
              "      <td>228229</td>\n",
              "      <td>4</td>\n",
              "      <td>26</td>\n",
              "      <td>301.0</td>\n",
              "      <td>5194.0</td>\n",
              "      <td>NaN</td>\n",
              "      <td>89.0</td>\n",
              "      <td>steve madden polka dot wedges 8.5 - wi06</td>\n",
              "      <td>12.0</td>\n",
              "    </tr>\n",
              "    <tr>\n",
              "      <th>3</th>\n",
              "      <td>645810</td>\n",
              "      <td>4</td>\n",
              "      <td>27</td>\n",
              "      <td>NaN</td>\n",
              "      <td>6335.0</td>\n",
              "      <td>NaN</td>\n",
              "      <td>0.0</td>\n",
              "      <td>crown &amp; ivy navy blue floral print shorts</td>\n",
              "      <td>12.0</td>\n",
              "    </tr>\n",
              "    <tr>\n",
              "      <th>4</th>\n",
              "      <td>854374</td>\n",
              "      <td>4</td>\n",
              "      <td>22</td>\n",
              "      <td>302.0</td>\n",
              "      <td>3606.0</td>\n",
              "      <td>2.0</td>\n",
              "      <td>45.0</td>\n",
              "      <td>grey wide leg dress pants</td>\n",
              "      <td>22.0</td>\n",
              "    </tr>\n",
              "  </tbody>\n",
              "</table>\n",
              "</div>"
            ],
            "text/plain": [
              "       id  attr1  ...                                             title  sold_price\n",
              "0  742122      4  ...  one teaspoon bandit distressed denim shorts (23)        65.0\n",
              "1  652751      4  ...  gucci emily mini guccissima mini red leather bag       600.0\n",
              "2  228229      4  ...          steve madden polka dot wedges 8.5 - wi06        12.0\n",
              "3  645810      4  ...         crown & ivy navy blue floral print shorts        12.0\n",
              "4  854374      4  ...                         grey wide leg dress pants        22.0\n",
              "\n",
              "[5 rows x 9 columns]"
            ]
          },
          "metadata": {
            "tags": []
          },
          "execution_count": 6
        }
      ]
    },
    {
      "cell_type": "markdown",
      "metadata": {
        "id": "B8hxKGzClqZf"
      },
      "source": [
        "# 3. Exploratory Data Analysis"
      ]
    },
    {
      "cell_type": "code",
      "metadata": {
        "colab": {
          "base_uri": "https://localhost:8080/",
          "height": 287
        },
        "id": "sAbKnJQzpGZU",
        "outputId": "b9c52872-66ef-4272-cac2-d6ed5081cb38"
      },
      "source": [
        "# Descriptive Stats\r\n",
        "data.describe().apply(lambda s: s.apply('{0:.5f}'.format))"
      ],
      "execution_count": 114,
      "outputs": [
        {
          "output_type": "execute_result",
          "data": {
            "text/html": [
              "<div>\n",
              "<style scoped>\n",
              "    .dataframe tbody tr th:only-of-type {\n",
              "        vertical-align: middle;\n",
              "    }\n",
              "\n",
              "    .dataframe tbody tr th {\n",
              "        vertical-align: top;\n",
              "    }\n",
              "\n",
              "    .dataframe thead th {\n",
              "        text-align: right;\n",
              "    }\n",
              "</style>\n",
              "<table border=\"1\" class=\"dataframe\">\n",
              "  <thead>\n",
              "    <tr style=\"text-align: right;\">\n",
              "      <th></th>\n",
              "      <th>id</th>\n",
              "      <th>attr1</th>\n",
              "      <th>attr2</th>\n",
              "      <th>attr3</th>\n",
              "      <th>attr4</th>\n",
              "      <th>attr5</th>\n",
              "      <th>attr6</th>\n",
              "      <th>sold_price</th>\n",
              "    </tr>\n",
              "  </thead>\n",
              "  <tbody>\n",
              "    <tr>\n",
              "      <th>count</th>\n",
              "      <td>1029850.00000</td>\n",
              "      <td>1029850.00000</td>\n",
              "      <td>1029850.00000</td>\n",
              "      <td>1029850.00000</td>\n",
              "      <td>1029850.00000</td>\n",
              "      <td>1029850.00000</td>\n",
              "      <td>1029850.00000</td>\n",
              "      <td>1029850.00000</td>\n",
              "    </tr>\n",
              "    <tr>\n",
              "      <th>mean</th>\n",
              "      <td>499963.62359</td>\n",
              "      <td>3.79279</td>\n",
              "      <td>16.11883</td>\n",
              "      <td>185.42626</td>\n",
              "      <td>3005.54674</td>\n",
              "      <td>1.21771</td>\n",
              "      <td>4572186999.40082</td>\n",
              "      <td>195.95868</td>\n",
              "    </tr>\n",
              "    <tr>\n",
              "      <th>std</th>\n",
              "      <td>288635.08956</td>\n",
              "      <td>0.53534</td>\n",
              "      <td>10.87543</td>\n",
              "      <td>88.86451</td>\n",
              "      <td>1689.11349</td>\n",
              "      <td>0.41269</td>\n",
              "      <td>4594749960223.79004</td>\n",
              "      <td>1440.18730</td>\n",
              "    </tr>\n",
              "    <tr>\n",
              "      <th>min</th>\n",
              "      <td>1.00000</td>\n",
              "      <td>1.00000</td>\n",
              "      <td>1.00000</td>\n",
              "      <td>1.00000</td>\n",
              "      <td>1.00000</td>\n",
              "      <td>1.00000</td>\n",
              "      <td>0.00000</td>\n",
              "      <td>0.00000</td>\n",
              "    </tr>\n",
              "    <tr>\n",
              "      <th>25%</th>\n",
              "      <td>250028.25000</td>\n",
              "      <td>4.00000</td>\n",
              "      <td>3.00000</td>\n",
              "      <td>119.00000</td>\n",
              "      <td>1804.00000</td>\n",
              "      <td>1.00000</td>\n",
              "      <td>27.00000</td>\n",
              "      <td>15.00000</td>\n",
              "    </tr>\n",
              "    <tr>\n",
              "      <th>50%</th>\n",
              "      <td>499974.50000</td>\n",
              "      <td>4.00000</td>\n",
              "      <td>14.00000</td>\n",
              "      <td>225.00000</td>\n",
              "      <td>2896.00000</td>\n",
              "      <td>1.00000</td>\n",
              "      <td>119.00000</td>\n",
              "      <td>50.00000</td>\n",
              "    </tr>\n",
              "    <tr>\n",
              "      <th>75%</th>\n",
              "      <td>749908.75000</td>\n",
              "      <td>4.00000</td>\n",
              "      <td>26.00000</td>\n",
              "      <td>252.00000</td>\n",
              "      <td>3852.00000</td>\n",
              "      <td>1.00000</td>\n",
              "      <td>600.00000</td>\n",
              "      <td>279.00000</td>\n",
              "    </tr>\n",
              "    <tr>\n",
              "      <th>max</th>\n",
              "      <td>999850.00000</td>\n",
              "      <td>4.00000</td>\n",
              "      <td>35.00000</td>\n",
              "      <td>306.00000</td>\n",
              "      <td>6640.00000</td>\n",
              "      <td>3.00000</td>\n",
              "      <td>4662595486164680.00000</td>\n",
              "      <td>897901.00000</td>\n",
              "    </tr>\n",
              "  </tbody>\n",
              "</table>\n",
              "</div>"
            ],
            "text/plain": [
              "                  id          attr1  ...                   attr6     sold_price\n",
              "count  1029850.00000  1029850.00000  ...           1029850.00000  1029850.00000\n",
              "mean    499963.62359        3.79279  ...        4572186999.40082      195.95868\n",
              "std     288635.08956        0.53534  ...     4594749960223.79004     1440.18730\n",
              "min          1.00000        1.00000  ...                 0.00000        0.00000\n",
              "25%     250028.25000        4.00000  ...                27.00000       15.00000\n",
              "50%     499974.50000        4.00000  ...               119.00000       50.00000\n",
              "75%     749908.75000        4.00000  ...               600.00000      279.00000\n",
              "max     999850.00000        4.00000  ...  4662595486164680.00000   897901.00000\n",
              "\n",
              "[8 rows x 8 columns]"
            ]
          },
          "metadata": {
            "tags": []
          },
          "execution_count": 114
        }
      ]
    },
    {
      "cell_type": "code",
      "metadata": {
        "colab": {
          "base_uri": "https://localhost:8080/"
        },
        "id": "-v68JUnypNVS",
        "outputId": "e9b3f551-5ef2-47c9-80bf-813dfdda4aff"
      },
      "source": [
        "# Unique Title\r\n",
        "data.title.nunique()/len(data)"
      ],
      "execution_count": 115,
      "outputs": [
        {
          "output_type": "execute_result",
          "data": {
            "text/plain": [
              "0.8057833665096858"
            ]
          },
          "metadata": {
            "tags": []
          },
          "execution_count": 115
        }
      ]
    },
    {
      "cell_type": "code",
      "metadata": {
        "colab": {
          "base_uri": "https://localhost:8080/",
          "height": 257
        },
        "id": "AjrqGgSgpWzX",
        "outputId": "ec8dc1ef-5a56-4165-f762-856256f6f2e9"
      },
      "source": [
        "# Correlation\r\n",
        "data.drop('id', axis = 1).corr()"
      ],
      "execution_count": 9,
      "outputs": [
        {
          "output_type": "execute_result",
          "data": {
            "text/html": [
              "<div>\n",
              "<style scoped>\n",
              "    .dataframe tbody tr th:only-of-type {\n",
              "        vertical-align: middle;\n",
              "    }\n",
              "\n",
              "    .dataframe tbody tr th {\n",
              "        vertical-align: top;\n",
              "    }\n",
              "\n",
              "    .dataframe thead th {\n",
              "        text-align: right;\n",
              "    }\n",
              "</style>\n",
              "<table border=\"1\" class=\"dataframe\">\n",
              "  <thead>\n",
              "    <tr style=\"text-align: right;\">\n",
              "      <th></th>\n",
              "      <th>attr1</th>\n",
              "      <th>attr2</th>\n",
              "      <th>attr3</th>\n",
              "      <th>attr4</th>\n",
              "      <th>attr5</th>\n",
              "      <th>attr6</th>\n",
              "      <th>sold_price</th>\n",
              "    </tr>\n",
              "  </thead>\n",
              "  <tbody>\n",
              "    <tr>\n",
              "      <th>attr1</th>\n",
              "      <td>1.000000</td>\n",
              "      <td>-0.052816</td>\n",
              "      <td>-0.029559</td>\n",
              "      <td>-0.044782</td>\n",
              "      <td>-0.031540</td>\n",
              "      <td>-0.001455</td>\n",
              "      <td>0.021940</td>\n",
              "    </tr>\n",
              "    <tr>\n",
              "      <th>attr2</th>\n",
              "      <td>-0.052816</td>\n",
              "      <td>1.000000</td>\n",
              "      <td>-0.077134</td>\n",
              "      <td>0.062492</td>\n",
              "      <td>-0.010222</td>\n",
              "      <td>0.000884</td>\n",
              "      <td>-0.072571</td>\n",
              "    </tr>\n",
              "    <tr>\n",
              "      <th>attr3</th>\n",
              "      <td>-0.029559</td>\n",
              "      <td>-0.077134</td>\n",
              "      <td>1.000000</td>\n",
              "      <td>0.010479</td>\n",
              "      <td>-0.014137</td>\n",
              "      <td>0.000964</td>\n",
              "      <td>0.018417</td>\n",
              "    </tr>\n",
              "    <tr>\n",
              "      <th>attr4</th>\n",
              "      <td>-0.044782</td>\n",
              "      <td>0.062492</td>\n",
              "      <td>0.010479</td>\n",
              "      <td>1.000000</td>\n",
              "      <td>0.060171</td>\n",
              "      <td>0.000416</td>\n",
              "      <td>-0.029990</td>\n",
              "    </tr>\n",
              "    <tr>\n",
              "      <th>attr5</th>\n",
              "      <td>-0.031540</td>\n",
              "      <td>-0.010222</td>\n",
              "      <td>-0.014137</td>\n",
              "      <td>0.060171</td>\n",
              "      <td>1.000000</td>\n",
              "      <td>-0.001293</td>\n",
              "      <td>-0.005238</td>\n",
              "    </tr>\n",
              "    <tr>\n",
              "      <th>attr6</th>\n",
              "      <td>-0.001455</td>\n",
              "      <td>0.000884</td>\n",
              "      <td>0.000964</td>\n",
              "      <td>0.000416</td>\n",
              "      <td>-0.001293</td>\n",
              "      <td>1.000000</td>\n",
              "      <td>0.000073</td>\n",
              "    </tr>\n",
              "    <tr>\n",
              "      <th>sold_price</th>\n",
              "      <td>0.021940</td>\n",
              "      <td>-0.072571</td>\n",
              "      <td>0.018417</td>\n",
              "      <td>-0.029990</td>\n",
              "      <td>-0.005238</td>\n",
              "      <td>0.000073</td>\n",
              "      <td>1.000000</td>\n",
              "    </tr>\n",
              "  </tbody>\n",
              "</table>\n",
              "</div>"
            ],
            "text/plain": [
              "               attr1     attr2     attr3  ...     attr5     attr6  sold_price\n",
              "attr1       1.000000 -0.052816 -0.029559  ... -0.031540 -0.001455    0.021940\n",
              "attr2      -0.052816  1.000000 -0.077134  ... -0.010222  0.000884   -0.072571\n",
              "attr3      -0.029559 -0.077134  1.000000  ... -0.014137  0.000964    0.018417\n",
              "attr4      -0.044782  0.062492  0.010479  ...  0.060171  0.000416   -0.029990\n",
              "attr5      -0.031540 -0.010222 -0.014137  ...  1.000000 -0.001293   -0.005238\n",
              "attr6      -0.001455  0.000884  0.000964  ... -0.001293  1.000000    0.000073\n",
              "sold_price  0.021940 -0.072571  0.018417  ... -0.005238  0.000073    1.000000\n",
              "\n",
              "[7 rows x 7 columns]"
            ]
          },
          "metadata": {
            "tags": []
          },
          "execution_count": 9
        }
      ]
    },
    {
      "cell_type": "code",
      "metadata": {
        "id": "CowvMztOp5fx"
      },
      "source": [
        "data = data.sort_values(['id'])"
      ],
      "execution_count": 10,
      "outputs": []
    },
    {
      "cell_type": "code",
      "metadata": {
        "colab": {
          "base_uri": "https://localhost:8080/"
        },
        "id": "aY4cy00RuasH",
        "outputId": "5fb8f43c-f4e0-4825-8907-d5971612a935"
      },
      "source": [
        "round(len(data)*.5),round(len(data)*.25), round(len(data)*.75)"
      ],
      "execution_count": 11,
      "outputs": [
        {
          "output_type": "execute_result",
          "data": {
            "text/plain": [
              "(514925, 257462, 772388)"
            ]
          },
          "metadata": {
            "tags": []
          },
          "execution_count": 11
        }
      ]
    },
    {
      "cell_type": "code",
      "metadata": {
        "colab": {
          "base_uri": "https://localhost:8080/"
        },
        "id": "syHZ2lfhxECx",
        "outputId": "d9aac82e-c862-48a4-fd7f-b2046b7927d9"
      },
      "source": [
        "# Missing Value Percentage\r\n",
        "data.isnull().mean()"
      ],
      "execution_count": 12,
      "outputs": [
        {
          "output_type": "execute_result",
          "data": {
            "text/plain": [
              "id            0.000000\n",
              "attr1         0.000000\n",
              "attr2         0.000000\n",
              "attr3         0.181357\n",
              "attr4         0.160638\n",
              "attr5         0.518703\n",
              "attr6         0.000000\n",
              "title         0.000086\n",
              "sold_price    0.000000\n",
              "dtype: float64"
            ]
          },
          "metadata": {
            "tags": []
          },
          "execution_count": 12
        }
      ]
    },
    {
      "cell_type": "markdown",
      "metadata": {
        "id": "M99CG5xfl84Z"
      },
      "source": [
        "# 4. Train Test Split and *Imputation*"
      ]
    },
    {
      "cell_type": "code",
      "metadata": {
        "id": "35cxpGt-sG_E"
      },
      "source": [
        "# 75 - 25 percent Train Test Split\r\n",
        "train = data.iloc[:772388]\r\n",
        "test = data.iloc[772388:]"
      ],
      "execution_count": 13,
      "outputs": []
    },
    {
      "cell_type": "code",
      "metadata": {
        "colab": {
          "base_uri": "https://localhost:8080/"
        },
        "id": "MpX-PrRvsDqF",
        "outputId": "b903fafc-894b-4dc7-8317-356dc178750b"
      },
      "source": [
        "data.shape, train.shape, test.shape"
      ],
      "execution_count": 14,
      "outputs": [
        {
          "output_type": "execute_result",
          "data": {
            "text/plain": [
              "((1029850, 9), (772388, 9), (257462, 9))"
            ]
          },
          "metadata": {
            "tags": []
          },
          "execution_count": 14
        }
      ]
    },
    {
      "cell_type": "code",
      "metadata": {
        "id": "G7KmrXs2yZWi"
      },
      "source": [
        "# Imputation using Mode\r\n",
        "train.attr3 = train.attr3.fillna(train.attr3.mode()[0])\r\n",
        "train.attr4 = train.attr4.fillna(train.attr4.mode()[0])\r\n",
        "train.attr5 = train.attr5.fillna(train.attr5.mode()[0])\r\n",
        "train.title = train.title.fillna(train.title.mode()[0])\r\n",
        "\r\n",
        "test.attr3 = test.attr3.fillna(train.attr3.mode()[0])\r\n",
        "test.attr4 = test.attr4.fillna(train.attr4.mode()[0])\r\n",
        "test.attr5 = test.attr5.fillna(train.attr5.mode()[0])\r\n",
        "test.title = test.title.fillna(train.title.mode()[0])"
      ],
      "execution_count": 15,
      "outputs": []
    },
    {
      "cell_type": "code",
      "metadata": {
        "colab": {
          "base_uri": "https://localhost:8080/"
        },
        "id": "xr9Wdp3mzrMa",
        "outputId": "b119a752-ead6-4b90-dc71-135b5c931bd3"
      },
      "source": [
        "# Null Value Check Again\r\n",
        "train.isnull().mean()"
      ],
      "execution_count": 16,
      "outputs": [
        {
          "output_type": "execute_result",
          "data": {
            "text/plain": [
              "id            0.0\n",
              "attr1         0.0\n",
              "attr2         0.0\n",
              "attr3         0.0\n",
              "attr4         0.0\n",
              "attr5         0.0\n",
              "attr6         0.0\n",
              "title         0.0\n",
              "sold_price    0.0\n",
              "dtype: float64"
            ]
          },
          "metadata": {
            "tags": []
          },
          "execution_count": 16
        }
      ]
    },
    {
      "cell_type": "markdown",
      "metadata": {
        "id": "fR3QdfOxmUDS"
      },
      "source": [
        "# 5. Feature Engineering"
      ]
    },
    {
      "cell_type": "code",
      "metadata": {
        "id": "JgklhXTu70b2"
      },
      "source": [
        "# String cleaning o Title column\r\n",
        "def clean_str(string):\r\n",
        "    \"\"\"\r\n",
        "    String cleaning.\r\n",
        "    Original from https://github.com/yoonkim/CNN_sentence/blob/master/process_data.py\r\n",
        "    \"\"\"\r\n",
        "    string = re.sub(r\"[^A-Za-z0-9(),!?\\'\\`]\", \" \", string)\r\n",
        "    string = re.sub(r\"\\'s\", \" \\'s\", string)\r\n",
        "    string = re.sub(r\"\\'ve\", \" \\'ve\", string)\r\n",
        "    string = re.sub(r\"n\\'t\", \" n\\'t\", string)\r\n",
        "    string = re.sub(r\"\\'re\", \" \\'re\", string)\r\n",
        "    string = re.sub(r\"\\'d\", \" \\'d\", string)\r\n",
        "    string = re.sub(r\"\\'ll\", \" \\'ll\", string)\r\n",
        "    string = re.sub(r\",\", \" , \", string)\r\n",
        "    string = re.sub(r\"!\", \" ! \", string)\r\n",
        "    string = re.sub(r\"\\(\", \" \\( \", string)\r\n",
        "    string = re.sub(r\"\\)\", \" \\) \", string)\r\n",
        "    string = re.sub(r\"\\?\", \" \\? \", string)\r\n",
        "    string = re.sub(r\"\\s{2,}\", \" \", string)\r\n",
        "    \r\n",
        "    return string.strip().lower()"
      ],
      "execution_count": 17,
      "outputs": []
    },
    {
      "cell_type": "code",
      "metadata": {
        "id": "IABAK7iR6e7l"
      },
      "source": [
        "train['title'] = [clean_str(sent) for sent in train['title']]\r\n",
        "test['title'] = [clean_str(sent) for sent in test['title']]"
      ],
      "execution_count": 18,
      "outputs": []
    },
    {
      "cell_type": "code",
      "metadata": {
        "colab": {
          "base_uri": "https://localhost:8080/",
          "height": 197
        },
        "id": "ehEEWeDO96Ul",
        "outputId": "a7da6304-ec2e-4e91-a736-680440813776"
      },
      "source": [
        "train.head()"
      ],
      "execution_count": 19,
      "outputs": [
        {
          "output_type": "execute_result",
          "data": {
            "text/html": [
              "<div>\n",
              "<style scoped>\n",
              "    .dataframe tbody tr th:only-of-type {\n",
              "        vertical-align: middle;\n",
              "    }\n",
              "\n",
              "    .dataframe tbody tr th {\n",
              "        vertical-align: top;\n",
              "    }\n",
              "\n",
              "    .dataframe thead th {\n",
              "        text-align: right;\n",
              "    }\n",
              "</style>\n",
              "<table border=\"1\" class=\"dataframe\">\n",
              "  <thead>\n",
              "    <tr style=\"text-align: right;\">\n",
              "      <th></th>\n",
              "      <th>id</th>\n",
              "      <th>attr1</th>\n",
              "      <th>attr2</th>\n",
              "      <th>attr3</th>\n",
              "      <th>attr4</th>\n",
              "      <th>attr5</th>\n",
              "      <th>attr6</th>\n",
              "      <th>title</th>\n",
              "      <th>sold_price</th>\n",
              "    </tr>\n",
              "  </thead>\n",
              "  <tbody>\n",
              "    <tr>\n",
              "      <th>871108</th>\n",
              "      <td>1</td>\n",
              "      <td>4</td>\n",
              "      <td>9</td>\n",
              "      <td>252.0</td>\n",
              "      <td>2896.0</td>\n",
              "      <td>1.0</td>\n",
              "      <td>1000.0</td>\n",
              "      <td>mandalay dress size6</td>\n",
              "      <td>350.0</td>\n",
              "    </tr>\n",
              "    <tr>\n",
              "      <th>125952</th>\n",
              "      <td>2</td>\n",
              "      <td>4</td>\n",
              "      <td>2</td>\n",
              "      <td>24.0</td>\n",
              "      <td>2896.0</td>\n",
              "      <td>1.0</td>\n",
              "      <td>380.0</td>\n",
              "      <td>gucci belt</td>\n",
              "      <td>100.0</td>\n",
              "    </tr>\n",
              "    <tr>\n",
              "      <th>940965</th>\n",
              "      <td>3</td>\n",
              "      <td>4</td>\n",
              "      <td>3</td>\n",
              "      <td>252.0</td>\n",
              "      <td>2896.0</td>\n",
              "      <td>1.0</td>\n",
              "      <td>495.0</td>\n",
              "      <td>dior handbag</td>\n",
              "      <td>250.0</td>\n",
              "    </tr>\n",
              "    <tr>\n",
              "      <th>483010</th>\n",
              "      <td>4</td>\n",
              "      <td>4</td>\n",
              "      <td>3</td>\n",
              "      <td>252.0</td>\n",
              "      <td>2896.0</td>\n",
              "      <td>1.0</td>\n",
              "      <td>2300.0</td>\n",
              "      <td>collectible gucci purse by tom ford w ostrich</td>\n",
              "      <td>650.0</td>\n",
              "    </tr>\n",
              "    <tr>\n",
              "      <th>218425</th>\n",
              "      <td>5</td>\n",
              "      <td>4</td>\n",
              "      <td>26</td>\n",
              "      <td>252.0</td>\n",
              "      <td>1996.0</td>\n",
              "      <td>1.0</td>\n",
              "      <td>700.0</td>\n",
              "      <td>gucci hollywood heel</td>\n",
              "      <td>125.0</td>\n",
              "    </tr>\n",
              "  </tbody>\n",
              "</table>\n",
              "</div>"
            ],
            "text/plain": [
              "        id  attr1  ...                                          title  sold_price\n",
              "871108   1      4  ...                           mandalay dress size6       350.0\n",
              "125952   2      4  ...                                     gucci belt       100.0\n",
              "940965   3      4  ...                                   dior handbag       250.0\n",
              "483010   4      4  ...  collectible gucci purse by tom ford w ostrich       650.0\n",
              "218425   5      4  ...                           gucci hollywood heel       125.0\n",
              "\n",
              "[5 rows x 9 columns]"
            ]
          },
          "metadata": {
            "tags": []
          },
          "execution_count": 19
        }
      ]
    },
    {
      "cell_type": "code",
      "metadata": {
        "id": "LcVOGVTY_Dqr"
      },
      "source": [
        "# Applying TFIDF vectorizer to title column\r\n",
        "re_tok = re.compile(f'([{string.punctuation}“”¨«»®´·º½¾¿¡§£₤‘’])')\r\n",
        "def tokenize(s): return re_tok.sub(r' \\1 ', s).split()\r\n",
        "\r\n",
        "n = train.shape[0]\r\n",
        "vec = TfidfVectorizer(ngram_range=(1,1), \r\n",
        "               min_df=5000, max_df=0.9, strip_accents='unicode', use_idf=1,\r\n",
        "               smooth_idf=1, sublinear_tf=1, stop_words = {'english'} )\r\n",
        "trn_term_doc = vec.fit_transform(train['title'])\r\n",
        "test_term_doc = vec.transform(test['title'])"
      ],
      "execution_count": 20,
      "outputs": []
    },
    {
      "cell_type": "code",
      "metadata": {
        "colab": {
          "base_uri": "https://localhost:8080/"
        },
        "id": "gxWPQSUj_3fL",
        "outputId": "2cd0c017-df30-4ba8-d177-645a369f0ae8"
      },
      "source": [
        "trn_term_doc"
      ],
      "execution_count": 21,
      "outputs": [
        {
          "output_type": "execute_result",
          "data": {
            "text/plain": [
              "<772388x131 sparse matrix of type '<class 'numpy.float64'>'\n",
              "\twith 1691976 stored elements in Compressed Sparse Row format>"
            ]
          },
          "metadata": {
            "tags": []
          },
          "execution_count": 21
        }
      ]
    },
    {
      "cell_type": "code",
      "metadata": {
        "id": "hq-kjI_t_UPT"
      },
      "source": [
        "# Concatenating TFIDF vector with Actual Data for Train\r\n",
        "train = pd.concat([train.reset_index(), pd.DataFrame(trn_term_doc.toarray(), columns=vec.get_feature_names()).reset_index()], axis = 1)"
      ],
      "execution_count": 22,
      "outputs": []
    },
    {
      "cell_type": "code",
      "metadata": {
        "colab": {
          "base_uri": "https://localhost:8080/"
        },
        "id": "BZMAQc0YGSGR",
        "outputId": "79047693-11d2-4445-8d37-96b823367704"
      },
      "source": [
        "train.shape"
      ],
      "execution_count": 23,
      "outputs": [
        {
          "output_type": "execute_result",
          "data": {
            "text/plain": [
              "(772388, 142)"
            ]
          },
          "metadata": {
            "tags": []
          },
          "execution_count": 23
        }
      ]
    },
    {
      "cell_type": "code",
      "metadata": {
        "id": "sAryy509Esxf"
      },
      "source": [
        "# Concatenating TFIDF vector with Actual Data for Test\r\n",
        "test = pd.concat([test.reset_index(), pd.DataFrame(test_term_doc.toarray(), columns=vec.get_feature_names()).reset_index()], axis = 1)"
      ],
      "execution_count": 24,
      "outputs": []
    },
    {
      "cell_type": "markdown",
      "metadata": {
        "id": "1qJsiBWym0b6"
      },
      "source": [
        "# 6. Feature Reduction and Model Building"
      ]
    },
    {
      "cell_type": "code",
      "metadata": {
        "id": "XVy6mQYI5HPy"
      },
      "source": [
        "# Basic XGBoostRegressor model with default Parameters\r\n",
        "xgb_r = xgb.XGBRegressor(objective ='reg:squarederror', seed = 123)"
      ],
      "execution_count": 25,
      "outputs": []
    },
    {
      "cell_type": "code",
      "metadata": {
        "colab": {
          "base_uri": "https://localhost:8080/"
        },
        "id": "scgN9t_s_SMa",
        "outputId": "7caf51a6-388d-4eac-eae8-ddd1b45e3716"
      },
      "source": [
        "# Fitting the model\r\n",
        "xgb_r.fit(train.drop(['id', 'title', 'sold_price', 'index'], axis = 1), train['sold_price'])"
      ],
      "execution_count": 26,
      "outputs": [
        {
          "output_type": "execute_result",
          "data": {
            "text/plain": [
              "XGBRegressor(base_score=0.5, booster='gbtree', colsample_bylevel=1,\n",
              "             colsample_bynode=1, colsample_bytree=1, gamma=0,\n",
              "             importance_type='gain', learning_rate=0.1, max_delta_step=0,\n",
              "             max_depth=3, min_child_weight=1, missing=None, n_estimators=100,\n",
              "             n_jobs=1, nthread=None, objective='reg:squarederror',\n",
              "             random_state=0, reg_alpha=0, reg_lambda=1, scale_pos_weight=1,\n",
              "             seed=123, silent=None, subsample=1, verbosity=1)"
            ]
          },
          "metadata": {
            "tags": []
          },
          "execution_count": 26
        }
      ]
    },
    {
      "cell_type": "code",
      "metadata": {
        "id": "21A6OA_aQlHl"
      },
      "source": [
        "feature_imp_df = pd.DataFrame({'Features' : train.drop(['id', 'title', 'sold_price', 'index'], axis = 1).columns, 'Importance': xgb_r.feature_importances_})"
      ],
      "execution_count": 28,
      "outputs": []
    },
    {
      "cell_type": "code",
      "metadata": {
        "id": "_AdlaHpRjxAO"
      },
      "source": [
        "feature_imp_df.to_csv('Poshmark_XGB_initial_Feat_imp.csv', index = False)"
      ],
      "execution_count": 106,
      "outputs": []
    },
    {
      "cell_type": "code",
      "metadata": {
        "colab": {
          "base_uri": "https://localhost:8080/",
          "height": 406
        },
        "id": "QEYPR2uHRIMY",
        "outputId": "8e4911e0-8ade-4983-cf8c-afc189de3833"
      },
      "source": [
        "feature_imp_df.sort_values('Importance', ascending=False)"
      ],
      "execution_count": 29,
      "outputs": [
        {
          "output_type": "execute_result",
          "data": {
            "text/html": [
              "<div>\n",
              "<style scoped>\n",
              "    .dataframe tbody tr th:only-of-type {\n",
              "        vertical-align: middle;\n",
              "    }\n",
              "\n",
              "    .dataframe tbody tr th {\n",
              "        vertical-align: top;\n",
              "    }\n",
              "\n",
              "    .dataframe thead th {\n",
              "        text-align: right;\n",
              "    }\n",
              "</style>\n",
              "<table border=\"1\" class=\"dataframe\">\n",
              "  <thead>\n",
              "    <tr style=\"text-align: right;\">\n",
              "      <th></th>\n",
              "      <th>Features</th>\n",
              "      <th>Importance</th>\n",
              "    </tr>\n",
              "  </thead>\n",
              "  <tbody>\n",
              "    <tr>\n",
              "      <th>124</th>\n",
              "      <td>tote</td>\n",
              "      <td>0.757290</td>\n",
              "    </tr>\n",
              "    <tr>\n",
              "      <th>24</th>\n",
              "      <td>brown</td>\n",
              "      <td>0.069540</td>\n",
              "    </tr>\n",
              "    <tr>\n",
              "      <th>3</th>\n",
              "      <td>attr4</td>\n",
              "      <td>0.063478</td>\n",
              "    </tr>\n",
              "    <tr>\n",
              "      <th>77</th>\n",
              "      <td>monogram</td>\n",
              "      <td>0.037206</td>\n",
              "    </tr>\n",
              "    <tr>\n",
              "      <th>109</th>\n",
              "      <td>skirt</td>\n",
              "      <td>0.015437</td>\n",
              "    </tr>\n",
              "    <tr>\n",
              "      <th>...</th>\n",
              "      <td>...</td>\n",
              "      <td>...</td>\n",
              "    </tr>\n",
              "    <tr>\n",
              "      <th>69</th>\n",
              "      <td>lululemon</td>\n",
              "      <td>0.000000</td>\n",
              "    </tr>\n",
              "    <tr>\n",
              "      <th>28</th>\n",
              "      <td>by</td>\n",
              "      <td>0.000000</td>\n",
              "    </tr>\n",
              "    <tr>\n",
              "      <th>29</th>\n",
              "      <td>cardigan</td>\n",
              "      <td>0.000000</td>\n",
              "    </tr>\n",
              "    <tr>\n",
              "      <th>66</th>\n",
              "      <td>long</td>\n",
              "      <td>0.000000</td>\n",
              "    </tr>\n",
              "    <tr>\n",
              "      <th>136</th>\n",
              "      <td>zip</td>\n",
              "      <td>0.000000</td>\n",
              "    </tr>\n",
              "  </tbody>\n",
              "</table>\n",
              "<p>137 rows × 2 columns</p>\n",
              "</div>"
            ],
            "text/plain": [
              "      Features  Importance\n",
              "124       tote    0.757290\n",
              "24       brown    0.069540\n",
              "3        attr4    0.063478\n",
              "77    monogram    0.037206\n",
              "109      skirt    0.015437\n",
              "..         ...         ...\n",
              "69   lululemon    0.000000\n",
              "28          by    0.000000\n",
              "29    cardigan    0.000000\n",
              "66        long    0.000000\n",
              "136        zip    0.000000\n",
              "\n",
              "[137 rows x 2 columns]"
            ]
          },
          "metadata": {
            "tags": []
          },
          "execution_count": 29
        }
      ]
    },
    {
      "cell_type": "markdown",
      "metadata": {
        "id": "uoR4-fr1nEuc"
      },
      "source": [
        "##### Only Non zero feature importance features will be sent for Random search cv as final features. From 137 features, final 42 non zero features were selected hyper parameter tuning"
      ]
    },
    {
      "cell_type": "code",
      "metadata": {
        "id": "fG83zUZNRyyr"
      },
      "source": [
        "feature_imp_df_not_zero = feature_imp_df[feature_imp_df['Importance']!=0]"
      ],
      "execution_count": 30,
      "outputs": []
    },
    {
      "cell_type": "code",
      "metadata": {
        "colab": {
          "base_uri": "https://localhost:8080/"
        },
        "id": "lPZ1VEvdSada",
        "outputId": "97cbe181-5df9-41d2-f9a6-2ee54e36a043"
      },
      "source": [
        "feature_imp_df_not_zero.shape"
      ],
      "execution_count": 31,
      "outputs": [
        {
          "output_type": "execute_result",
          "data": {
            "text/plain": [
              "(42, 2)"
            ]
          },
          "metadata": {
            "tags": []
          },
          "execution_count": 31
        }
      ]
    },
    {
      "cell_type": "markdown",
      "metadata": {
        "id": "n38yzlXbnzN5"
      },
      "source": [
        "# 7. Random Search using Time Series Cross Validation"
      ]
    },
    {
      "cell_type": "code",
      "metadata": {
        "id": "KClJ-nPqfg23"
      },
      "source": [
        "# Time series fold split\r\n",
        "tscv = TimeSeriesSplit(n_splits=2)"
      ],
      "execution_count": 32,
      "outputs": []
    },
    {
      "cell_type": "code",
      "metadata": {
        "id": "l7i4N9GlSdfq"
      },
      "source": [
        "# Preparing Random Search CV\r\n",
        "param_dist = {'n_estimators': stats.randint(150, 500),\r\n",
        "              'learning_rate': stats.uniform(0.01, 0.07),\r\n",
        "              'subsample': stats.uniform(0.3, 0.7),\r\n",
        "              'max_depth': [3, 4, 5, 6, 7, 8, 9],\r\n",
        "              'colsample_bytree': stats.uniform(0.5, 0.45),\r\n",
        "              'min_child_weight': [1, 2, 3]\r\n",
        "             }\r\n",
        "reg = RandomizedSearchCV(xgb_r, param_distributions = param_dist, n_iter = 5,\r\n",
        "                         scoring = 'neg_mean_squared_error', verbose = 3, n_jobs = -1, cv= tscv)"
      ],
      "execution_count": 33,
      "outputs": []
    },
    {
      "cell_type": "code",
      "metadata": {
        "colab": {
          "base_uri": "https://localhost:8080/"
        },
        "id": "R5Kx_tc-d_fN",
        "outputId": "a3e20bd7-1835-4208-dff6-0c3b171ba76c"
      },
      "source": [
        "# Fitting the model\r\n",
        "reg.fit(train[feature_imp_df_not_zero.Features.values],train['sold_price'])"
      ],
      "execution_count": 34,
      "outputs": [
        {
          "output_type": "stream",
          "text": [
            "Fitting 2 folds for each of 5 candidates, totalling 10 fits\n"
          ],
          "name": "stdout"
        },
        {
          "output_type": "stream",
          "text": [
            "[Parallel(n_jobs=-1)]: Using backend LokyBackend with 2 concurrent workers.\n",
            "[Parallel(n_jobs=-1)]: Done  10 out of  10 | elapsed: 39.4min finished\n"
          ],
          "name": "stderr"
        },
        {
          "output_type": "execute_result",
          "data": {
            "text/plain": [
              "RandomizedSearchCV(cv=TimeSeriesSplit(max_train_size=None, n_splits=2),\n",
              "                   error_score=nan,\n",
              "                   estimator=XGBRegressor(base_score=0.5, booster='gbtree',\n",
              "                                          colsample_bylevel=1,\n",
              "                                          colsample_bynode=1,\n",
              "                                          colsample_bytree=1, gamma=0,\n",
              "                                          importance_type='gain',\n",
              "                                          learning_rate=0.1, max_delta_step=0,\n",
              "                                          max_depth=3, min_child_weight=1,\n",
              "                                          missing=None, n_estimators=100,\n",
              "                                          n_jobs=1, nthread=None,\n",
              "                                          ob...\n",
              "                                        'learning_rate': <scipy.stats._distn_infrastructure.rv_frozen object at 0x7fdfccd766d8>,\n",
              "                                        'max_depth': [3, 4, 5, 6, 7, 8, 9],\n",
              "                                        'min_child_weight': [1, 2, 3],\n",
              "                                        'n_estimators': <scipy.stats._distn_infrastructure.rv_frozen object at 0x7fdfccdb6e10>,\n",
              "                                        'subsample': <scipy.stats._distn_infrastructure.rv_frozen object at 0x7fdfccd76c50>},\n",
              "                   pre_dispatch='2*n_jobs', random_state=None, refit=True,\n",
              "                   return_train_score=False, scoring='neg_mean_squared_error',\n",
              "                   verbose=3)"
            ]
          },
          "metadata": {
            "tags": []
          },
          "execution_count": 34
        }
      ]
    },
    {
      "cell_type": "code",
      "metadata": {
        "colab": {
          "base_uri": "https://localhost:8080/"
        },
        "id": "wl65liYzTooI",
        "outputId": "dc02cac5-b9cf-4725-fa06-3fa06948a2f4"
      },
      "source": [
        "# Best Estimator and Score\r\n",
        "print('Best Estimator : ', reg.best_estimator_,) \r\n",
        "print('Best Score : ', reg.best_score_)"
      ],
      "execution_count": 108,
      "outputs": [
        {
          "output_type": "stream",
          "text": [
            "Best Estimator :  XGBRegressor(base_score=0.5, booster='gbtree', colsample_bylevel=1,\n",
            "             colsample_bynode=1, colsample_bytree=0.7393224141935897, gamma=0,\n",
            "             importance_type='gain', learning_rate=0.05440806709859248,\n",
            "             max_delta_step=0, max_depth=3, min_child_weight=2, missing=None,\n",
            "             n_estimators=249, n_jobs=1, nthread=None,\n",
            "             objective='reg:squarederror', random_state=0, reg_alpha=0,\n",
            "             reg_lambda=1, scale_pos_weight=1, seed=123, silent=None,\n",
            "             subsample=0.727716457474308, verbosity=1)\n",
            "Best Score :  -2930120.7269459087\n"
          ],
          "name": "stdout"
        }
      ]
    },
    {
      "cell_type": "code",
      "metadata": {
        "colab": {
          "base_uri": "https://localhost:8080/",
          "height": 384
        },
        "id": "tX_1sL51Xxdl",
        "outputId": "8bf28e2e-1e3d-48ca-a3f3-8e1276d54d1f"
      },
      "source": [
        "# Cross Validation Results\r\n",
        "pd.DataFrame(reg.cv_results_)"
      ],
      "execution_count": 110,
      "outputs": [
        {
          "output_type": "execute_result",
          "data": {
            "text/html": [
              "<div>\n",
              "<style scoped>\n",
              "    .dataframe tbody tr th:only-of-type {\n",
              "        vertical-align: middle;\n",
              "    }\n",
              "\n",
              "    .dataframe tbody tr th {\n",
              "        vertical-align: top;\n",
              "    }\n",
              "\n",
              "    .dataframe thead th {\n",
              "        text-align: right;\n",
              "    }\n",
              "</style>\n",
              "<table border=\"1\" class=\"dataframe\">\n",
              "  <thead>\n",
              "    <tr style=\"text-align: right;\">\n",
              "      <th></th>\n",
              "      <th>mean_fit_time</th>\n",
              "      <th>std_fit_time</th>\n",
              "      <th>mean_score_time</th>\n",
              "      <th>std_score_time</th>\n",
              "      <th>param_colsample_bytree</th>\n",
              "      <th>param_learning_rate</th>\n",
              "      <th>param_max_depth</th>\n",
              "      <th>param_min_child_weight</th>\n",
              "      <th>param_n_estimators</th>\n",
              "      <th>param_subsample</th>\n",
              "      <th>params</th>\n",
              "      <th>split0_test_score</th>\n",
              "      <th>split1_test_score</th>\n",
              "      <th>mean_test_score</th>\n",
              "      <th>std_test_score</th>\n",
              "      <th>rank_test_score</th>\n",
              "    </tr>\n",
              "  </thead>\n",
              "  <tbody>\n",
              "    <tr>\n",
              "      <th>0</th>\n",
              "      <td>695.327690</td>\n",
              "      <td>259.101377</td>\n",
              "      <td>7.312149</td>\n",
              "      <td>0.731501</td>\n",
              "      <td>0.813411</td>\n",
              "      <td>0.0300298</td>\n",
              "      <td>7</td>\n",
              "      <td>3</td>\n",
              "      <td>380</td>\n",
              "      <td>0.803405</td>\n",
              "      <td>{'colsample_bytree': 0.8134111335190377, 'lear...</td>\n",
              "      <td>-4.305101e+06</td>\n",
              "      <td>-2.048970e+06</td>\n",
              "      <td>-3.177035e+06</td>\n",
              "      <td>1.128065e+06</td>\n",
              "      <td>3</td>\n",
              "    </tr>\n",
              "    <tr>\n",
              "      <th>1</th>\n",
              "      <td>268.768057</td>\n",
              "      <td>97.285842</td>\n",
              "      <td>2.510196</td>\n",
              "      <td>0.111506</td>\n",
              "      <td>0.721004</td>\n",
              "      <td>0.0646019</td>\n",
              "      <td>4</td>\n",
              "      <td>1</td>\n",
              "      <td>263</td>\n",
              "      <td>0.636652</td>\n",
              "      <td>{'colsample_bytree': 0.7210035200446687, 'lear...</td>\n",
              "      <td>-4.415297e+06</td>\n",
              "      <td>-2.151455e+06</td>\n",
              "      <td>-3.283376e+06</td>\n",
              "      <td>1.131921e+06</td>\n",
              "      <td>4</td>\n",
              "    </tr>\n",
              "    <tr>\n",
              "      <th>2</th>\n",
              "      <td>365.636661</td>\n",
              "      <td>133.248824</td>\n",
              "      <td>3.673815</td>\n",
              "      <td>0.031777</td>\n",
              "      <td>0.676453</td>\n",
              "      <td>0.0340225</td>\n",
              "      <td>4</td>\n",
              "      <td>3</td>\n",
              "      <td>403</td>\n",
              "      <td>0.786329</td>\n",
              "      <td>{'colsample_bytree': 0.6764528831873677, 'lear...</td>\n",
              "      <td>-4.247620e+06</td>\n",
              "      <td>-1.678427e+06</td>\n",
              "      <td>-2.963024e+06</td>\n",
              "      <td>1.284596e+06</td>\n",
              "      <td>2</td>\n",
              "    </tr>\n",
              "    <tr>\n",
              "      <th>3</th>\n",
              "      <td>673.314840</td>\n",
              "      <td>194.596195</td>\n",
              "      <td>5.702409</td>\n",
              "      <td>1.084959</td>\n",
              "      <td>0.767256</td>\n",
              "      <td>0.0542254</td>\n",
              "      <td>6</td>\n",
              "      <td>3</td>\n",
              "      <td>490</td>\n",
              "      <td>0.672086</td>\n",
              "      <td>{'colsample_bytree': 0.7672560798533107, 'lear...</td>\n",
              "      <td>-4.327427e+06</td>\n",
              "      <td>-3.162494e+06</td>\n",
              "      <td>-3.744960e+06</td>\n",
              "      <td>5.824664e+05</td>\n",
              "      <td>5</td>\n",
              "    </tr>\n",
              "    <tr>\n",
              "      <th>4</th>\n",
              "      <td>192.434028</td>\n",
              "      <td>66.243746</td>\n",
              "      <td>1.839349</td>\n",
              "      <td>0.023573</td>\n",
              "      <td>0.739322</td>\n",
              "      <td>0.0544081</td>\n",
              "      <td>3</td>\n",
              "      <td>2</td>\n",
              "      <td>249</td>\n",
              "      <td>0.727716</td>\n",
              "      <td>{'colsample_bytree': 0.7393224141935897, 'lear...</td>\n",
              "      <td>-4.246716e+06</td>\n",
              "      <td>-1.613525e+06</td>\n",
              "      <td>-2.930121e+06</td>\n",
              "      <td>1.316596e+06</td>\n",
              "      <td>1</td>\n",
              "    </tr>\n",
              "  </tbody>\n",
              "</table>\n",
              "</div>"
            ],
            "text/plain": [
              "   mean_fit_time  std_fit_time  ...  std_test_score  rank_test_score\n",
              "0     695.327690    259.101377  ...    1.128065e+06                3\n",
              "1     268.768057     97.285842  ...    1.131921e+06                4\n",
              "2     365.636661    133.248824  ...    1.284596e+06                2\n",
              "3     673.314840    194.596195  ...    5.824664e+05                5\n",
              "4     192.434028     66.243746  ...    1.316596e+06                1\n",
              "\n",
              "[5 rows x 16 columns]"
            ]
          },
          "metadata": {
            "tags": []
          },
          "execution_count": 110
        }
      ]
    },
    {
      "cell_type": "code",
      "metadata": {
        "id": "NKfX7CwTdhwT"
      },
      "source": [
        "# The model with best hyper parameters\r\n",
        "xgb_final = xgb.XGBRegressor(base_score=0.5, booster='gbtree', colsample_bylevel=1,\r\n",
        "              colsample_bynode=1, colsample_bytree=0.7393224141935897, gamma=0,\r\n",
        "              importance_type='gain', learning_rate=0.05440806709859248,\r\n",
        "              max_delta_step=0, max_depth=3, min_child_weight=2, missing=None,\r\n",
        "              n_estimators=249, n_jobs=1, nthread=None,\r\n",
        "              objective='reg:squarederror', random_state=0, reg_alpha=0,\r\n",
        "              reg_lambda=1, scale_pos_weight=1, seed=123, silent=None,\r\n",
        "              subsample=0.727716457474308, verbosity=1)"
      ],
      "execution_count": 61,
      "outputs": []
    },
    {
      "cell_type": "code",
      "metadata": {
        "colab": {
          "base_uri": "https://localhost:8080/"
        },
        "id": "xx1pmvEZdwA-",
        "outputId": "a4cec285-3dce-42a2-95b9-399cf0aa4f26"
      },
      "source": [
        "# Retraining train data with final hyper parameters from randomsearchcv\r\n",
        "xgb_final.fit(train[feature_imp_df_not_zero.Features.values],train['sold_price'])"
      ],
      "execution_count": 62,
      "outputs": [
        {
          "output_type": "execute_result",
          "data": {
            "text/plain": [
              "XGBRegressor(base_score=0.5, booster='gbtree', colsample_bylevel=1,\n",
              "             colsample_bynode=1, colsample_bytree=0.7393224141935897, gamma=0,\n",
              "             importance_type='gain', learning_rate=0.05440806709859248,\n",
              "             max_delta_step=0, max_depth=3, min_child_weight=2, missing=None,\n",
              "             n_estimators=249, n_jobs=1, nthread=None,\n",
              "             objective='reg:squarederror', random_state=0, reg_alpha=0,\n",
              "             reg_lambda=1, scale_pos_weight=1, seed=123, silent=None,\n",
              "             subsample=0.727716457474308, verbosity=1)"
            ]
          },
          "metadata": {
            "tags": []
          },
          "execution_count": 62
        }
      ]
    },
    {
      "cell_type": "code",
      "metadata": {
        "id": "Z0AeS-PjX6CV"
      },
      "source": [
        "# Predicting the Results\r\n",
        "train['Predictions'] = xgb_final.predict(train[feature_imp_df_not_zero.Features.values])\r\n",
        "test['Predictions'] = xgb_final.predict(test[feature_imp_df_not_zero.Features.values])"
      ],
      "execution_count": 63,
      "outputs": []
    },
    {
      "cell_type": "markdown",
      "metadata": {
        "id": "b2FZ9EIXo9TY"
      },
      "source": [
        "# 8. Evaluating the Model"
      ]
    },
    {
      "cell_type": "code",
      "metadata": {
        "colab": {
          "base_uri": "https://localhost:8080/"
        },
        "id": "O7DX3QKQYYGO",
        "outputId": "d80e1eed-edb7-4764-bb9d-bf055a4bbd09"
      },
      "source": [
        "# Train Error RMSE\r\n",
        "mean_squared_error(train['sold_price'], train['Predictions']) ** 0.5"
      ],
      "execution_count": 64,
      "outputs": [
        {
          "output_type": "execute_result",
          "data": {
            "text/plain": [
              "1234.2634237290156"
            ]
          },
          "metadata": {
            "tags": []
          },
          "execution_count": 64
        }
      ]
    },
    {
      "cell_type": "code",
      "metadata": {
        "colab": {
          "base_uri": "https://localhost:8080/"
        },
        "id": "bMJkJ5LdY9Gx",
        "outputId": "f15975e0-93f6-4c01-aae2-40b4c4a10a48"
      },
      "source": [
        "# Test Error RMSE\r\n",
        "mean_squared_error(test['sold_price'], test['Predictions']) ** 0.5"
      ],
      "execution_count": 65,
      "outputs": [
        {
          "output_type": "execute_result",
          "data": {
            "text/plain": [
              "1596.3373896674454"
            ]
          },
          "metadata": {
            "tags": []
          },
          "execution_count": 65
        }
      ]
    },
    {
      "cell_type": "code",
      "metadata": {
        "id": "QDYRZV7HZUoe"
      },
      "source": [
        "# Function for calculating error across different buckets\r\n",
        "def bucket_error(df):\r\n",
        "  bucket_1 = df[df['sold_price'] <= 50]\r\n",
        "  bucket_2 = df[(df['sold_price'] > 50) & (df['sold_price'] <= 100)]\r\n",
        "  bucket_3 = df[(df['sold_price'] > 100) & (df['sold_price'] <= 500)]\r\n",
        "  bucket_4 = df[(df['sold_price'] > 500) & (df['sold_price'] <= 1000)]\r\n",
        "  bucket_5 = df[df['sold_price'] > 1000]\r\n",
        "  bucket_1_error = mean_squared_error(bucket_1['sold_price'], bucket_1['Predictions']) ** 0.5\r\n",
        "  bucket_2_error = mean_squared_error(bucket_2['sold_price'], bucket_2['Predictions']) ** 0.5\r\n",
        "  bucket_3_error = mean_squared_error(bucket_3['sold_price'], bucket_3['Predictions']) ** 0.5\r\n",
        "  bucket_4_error = mean_squared_error(bucket_4['sold_price'], bucket_4['Predictions']) ** 0.5\r\n",
        "  bucket_5_error = mean_squared_error(bucket_5['sold_price'], bucket_5['Predictions']) ** 0.5\r\n",
        "  return pd.DataFrame({'bucket_1' : bucket_1_error, 'bucket_2' : bucket_2_error, 'bucket_3' : bucket_3_error, 'bucket_4' : bucket_4_error, \r\n",
        "                       'bucket_5' : bucket_5_error}, index = [0])"
      ],
      "execution_count": 67,
      "outputs": []
    },
    {
      "cell_type": "code",
      "metadata": {
        "colab": {
          "base_uri": "https://localhost:8080/",
          "height": 77
        },
        "id": "ybg4_Qpvbox-",
        "outputId": "029efa84-d75b-463c-9e72-a16f1927b0d3"
      },
      "source": [
        "# Train Bucket Error\r\n",
        "bucket_error(train)"
      ],
      "execution_count": 68,
      "outputs": [
        {
          "output_type": "execute_result",
          "data": {
            "text/html": [
              "<div>\n",
              "<style scoped>\n",
              "    .dataframe tbody tr th:only-of-type {\n",
              "        vertical-align: middle;\n",
              "    }\n",
              "\n",
              "    .dataframe tbody tr th {\n",
              "        vertical-align: top;\n",
              "    }\n",
              "\n",
              "    .dataframe thead th {\n",
              "        text-align: right;\n",
              "    }\n",
              "</style>\n",
              "<table border=\"1\" class=\"dataframe\">\n",
              "  <thead>\n",
              "    <tr style=\"text-align: right;\">\n",
              "      <th></th>\n",
              "      <th>bucket_1</th>\n",
              "      <th>bucket_2</th>\n",
              "      <th>bucket_3</th>\n",
              "      <th>bucket_4</th>\n",
              "      <th>bucket_5</th>\n",
              "    </tr>\n",
              "  </thead>\n",
              "  <tbody>\n",
              "    <tr>\n",
              "      <th>0</th>\n",
              "      <td>87.016211</td>\n",
              "      <td>102.347769</td>\n",
              "      <td>242.870291</td>\n",
              "      <td>500.110339</td>\n",
              "      <td>8852.742892</td>\n",
              "    </tr>\n",
              "  </tbody>\n",
              "</table>\n",
              "</div>"
            ],
            "text/plain": [
              "    bucket_1    bucket_2    bucket_3    bucket_4     bucket_5\n",
              "0  87.016211  102.347769  242.870291  500.110339  8852.742892"
            ]
          },
          "metadata": {
            "tags": []
          },
          "execution_count": 68
        }
      ]
    },
    {
      "cell_type": "code",
      "metadata": {
        "id": "GdwQTEzNioFo"
      },
      "source": [
        "bucket_error(train).to_csv('Poshmark_train_error.csv', index = False)"
      ],
      "execution_count": 100,
      "outputs": []
    },
    {
      "cell_type": "code",
      "metadata": {
        "colab": {
          "base_uri": "https://localhost:8080/",
          "height": 77
        },
        "id": "SVfEW1J9b7Xt",
        "outputId": "be4443fa-4ef7-42ed-f671-ef695f2e585b"
      },
      "source": [
        "# Test Buvket Error\r\n",
        "bucket_error(test)"
      ],
      "execution_count": 69,
      "outputs": [
        {
          "output_type": "execute_result",
          "data": {
            "text/html": [
              "<div>\n",
              "<style scoped>\n",
              "    .dataframe tbody tr th:only-of-type {\n",
              "        vertical-align: middle;\n",
              "    }\n",
              "\n",
              "    .dataframe tbody tr th {\n",
              "        vertical-align: top;\n",
              "    }\n",
              "\n",
              "    .dataframe thead th {\n",
              "        text-align: right;\n",
              "    }\n",
              "</style>\n",
              "<table border=\"1\" class=\"dataframe\">\n",
              "  <thead>\n",
              "    <tr style=\"text-align: right;\">\n",
              "      <th></th>\n",
              "      <th>bucket_1</th>\n",
              "      <th>bucket_2</th>\n",
              "      <th>bucket_3</th>\n",
              "      <th>bucket_4</th>\n",
              "      <th>bucket_5</th>\n",
              "    </tr>\n",
              "  </thead>\n",
              "  <tbody>\n",
              "    <tr>\n",
              "      <th>0</th>\n",
              "      <td>100.870347</td>\n",
              "      <td>149.051056</td>\n",
              "      <td>188.592175</td>\n",
              "      <td>862.64956</td>\n",
              "      <td>9753.995345</td>\n",
              "    </tr>\n",
              "  </tbody>\n",
              "</table>\n",
              "</div>"
            ],
            "text/plain": [
              "     bucket_1    bucket_2    bucket_3   bucket_4     bucket_5\n",
              "0  100.870347  149.051056  188.592175  862.64956  9753.995345"
            ]
          },
          "metadata": {
            "tags": []
          },
          "execution_count": 69
        }
      ]
    },
    {
      "cell_type": "code",
      "metadata": {
        "id": "VBhUH78uiyZD"
      },
      "source": [
        "bucket_error(test).to_csv('Poshmark_test_error.csv', index = False)"
      ],
      "execution_count": 101,
      "outputs": []
    },
    {
      "cell_type": "code",
      "metadata": {
        "id": "1Z97nHKMe3aT",
        "colab": {
          "base_uri": "https://localhost:8080/"
        },
        "outputId": "faae4993-7310-4369-adcd-931667e5ecc0"
      },
      "source": [
        "# Feature Contribution calculation \r\n",
        "data_100 = train.iloc[:100].copy()\r\n",
        "data_100_p2 = data_100[feature_imp_df_not_zero.Features.values].sample(frac = 1).copy()\r\n",
        "data_100_p2 = data_100_p2.reset_index()\r\n",
        "data_100_p2.drop(['index'], axis = 1, inplace = True)\r\n",
        "final_feature_df = pd.DataFrame()\r\n",
        "k = 0\r\n",
        "for i in tqdm(feature_imp_df_not_zero.Features.values):\r\n",
        "  data_100_p1 = data_100_p2.copy()\r\n",
        "  data_100_p1[i] = data_100[i]\r\n",
        "  phi = 0\r\n",
        "  for j in range(len(data_100)):    \r\n",
        "    b1 = data_100_p1.iloc[[j]]\r\n",
        "    b2 = data_100_p2.iloc[[j]]\r\n",
        "    phi =  phi + xgb_final.predict(b1)[0] - xgb_final.predict(b2)[0]\r\n",
        "  phi_avg = phi/len(data_100)\r\n",
        "  temp_df = pd.DataFrame({'Feature' : i, 'Feature_contrib' : phi_avg}, index = [k])\r\n",
        "  final_feature_df = final_feature_df.append(temp_df)\r\n",
        "  k = k+ 1"
      ],
      "execution_count": 97,
      "outputs": [
        {
          "output_type": "stream",
          "text": [
            "100%|██████████| 42/42 [00:10<00:00,  3.83it/s]\n"
          ],
          "name": "stderr"
        }
      ]
    },
    {
      "cell_type": "code",
      "metadata": {
        "id": "wQz-uas3e5fg",
        "colab": {
          "base_uri": "https://localhost:8080/",
          "height": 1000
        },
        "outputId": "fc08d565-1255-4d34-ae42-768c625cfdcb"
      },
      "source": [
        "# Feature contribution output\r\n",
        "final_feature_df.sort_values('Feature_contrib', ascending = False)"
      ],
      "execution_count": 112,
      "outputs": [
        {
          "output_type": "execute_result",
          "data": {
            "text/html": [
              "<div>\n",
              "<style scoped>\n",
              "    .dataframe tbody tr th:only-of-type {\n",
              "        vertical-align: middle;\n",
              "    }\n",
              "\n",
              "    .dataframe tbody tr th {\n",
              "        vertical-align: top;\n",
              "    }\n",
              "\n",
              "    .dataframe thead th {\n",
              "        text-align: right;\n",
              "    }\n",
              "</style>\n",
              "<table border=\"1\" class=\"dataframe\">\n",
              "  <thead>\n",
              "    <tr style=\"text-align: right;\">\n",
              "      <th></th>\n",
              "      <th>Feature</th>\n",
              "      <th>Feature_contrib</th>\n",
              "    </tr>\n",
              "  </thead>\n",
              "  <tbody>\n",
              "    <tr>\n",
              "      <th>10</th>\n",
              "      <td>chanel</td>\n",
              "      <td>3.443725e+00</td>\n",
              "    </tr>\n",
              "    <tr>\n",
              "      <th>9</th>\n",
              "      <td>brown</td>\n",
              "      <td>3.428717e+00</td>\n",
              "    </tr>\n",
              "    <tr>\n",
              "      <th>39</th>\n",
              "      <td>vuitton</td>\n",
              "      <td>2.863134e+00</td>\n",
              "    </tr>\n",
              "    <tr>\n",
              "      <th>1</th>\n",
              "      <td>attr2</td>\n",
              "      <td>2.215206e+00</td>\n",
              "    </tr>\n",
              "    <tr>\n",
              "      <th>27</th>\n",
              "      <td>pants</td>\n",
              "      <td>1.909196e+00</td>\n",
              "    </tr>\n",
              "    <tr>\n",
              "      <th>5</th>\n",
              "      <td>attr6</td>\n",
              "      <td>1.651646e+00</td>\n",
              "    </tr>\n",
              "    <tr>\n",
              "      <th>3</th>\n",
              "      <td>attr4</td>\n",
              "      <td>4.809468e-01</td>\n",
              "    </tr>\n",
              "    <tr>\n",
              "      <th>7</th>\n",
              "      <td>bag</td>\n",
              "      <td>2.205469e-01</td>\n",
              "    </tr>\n",
              "    <tr>\n",
              "      <th>41</th>\n",
              "      <td>yurman</td>\n",
              "      <td>1.616646e-01</td>\n",
              "    </tr>\n",
              "    <tr>\n",
              "      <th>6</th>\n",
              "      <td>authentic</td>\n",
              "      <td>1.446065e-01</td>\n",
              "    </tr>\n",
              "    <tr>\n",
              "      <th>8</th>\n",
              "      <td>bracelet</td>\n",
              "      <td>9.493226e-02</td>\n",
              "    </tr>\n",
              "    <tr>\n",
              "      <th>13</th>\n",
              "      <td>dress</td>\n",
              "      <td>3.364232e-02</td>\n",
              "    </tr>\n",
              "    <tr>\n",
              "      <th>30</th>\n",
              "      <td>ring</td>\n",
              "      <td>3.272583e-02</td>\n",
              "    </tr>\n",
              "    <tr>\n",
              "      <th>37</th>\n",
              "      <td>tote</td>\n",
              "      <td>4.649162e-07</td>\n",
              "    </tr>\n",
              "    <tr>\n",
              "      <th>24</th>\n",
              "      <td>mm</td>\n",
              "      <td>0.000000e+00</td>\n",
              "    </tr>\n",
              "    <tr>\n",
              "      <th>36</th>\n",
              "      <td>sz</td>\n",
              "      <td>0.000000e+00</td>\n",
              "    </tr>\n",
              "    <tr>\n",
              "      <th>35</th>\n",
              "      <td>speedy</td>\n",
              "      <td>0.000000e+00</td>\n",
              "    </tr>\n",
              "    <tr>\n",
              "      <th>34</th>\n",
              "      <td>small</td>\n",
              "      <td>0.000000e+00</td>\n",
              "    </tr>\n",
              "    <tr>\n",
              "      <th>33</th>\n",
              "      <td>skirt</td>\n",
              "      <td>0.000000e+00</td>\n",
              "    </tr>\n",
              "    <tr>\n",
              "      <th>32</th>\n",
              "      <td>set</td>\n",
              "      <td>0.000000e+00</td>\n",
              "    </tr>\n",
              "    <tr>\n",
              "      <th>31</th>\n",
              "      <td>sandals</td>\n",
              "      <td>0.000000e+00</td>\n",
              "    </tr>\n",
              "    <tr>\n",
              "      <th>28</th>\n",
              "      <td>pink</td>\n",
              "      <td>0.000000e+00</td>\n",
              "    </tr>\n",
              "    <tr>\n",
              "      <th>40</th>\n",
              "      <td>white</td>\n",
              "      <td>0.000000e+00</td>\n",
              "    </tr>\n",
              "    <tr>\n",
              "      <th>0</th>\n",
              "      <td>attr1</td>\n",
              "      <td>0.000000e+00</td>\n",
              "    </tr>\n",
              "    <tr>\n",
              "      <th>16</th>\n",
              "      <td>heels</td>\n",
              "      <td>0.000000e+00</td>\n",
              "    </tr>\n",
              "    <tr>\n",
              "      <th>19</th>\n",
              "      <td>louboutin</td>\n",
              "      <td>0.000000e+00</td>\n",
              "    </tr>\n",
              "    <tr>\n",
              "      <th>14</th>\n",
              "      <td>gold</td>\n",
              "      <td>0.000000e+00</td>\n",
              "    </tr>\n",
              "    <tr>\n",
              "      <th>22</th>\n",
              "      <td>mens</td>\n",
              "      <td>0.000000e+00</td>\n",
              "    </tr>\n",
              "    <tr>\n",
              "      <th>17</th>\n",
              "      <td>jacket</td>\n",
              "      <td>0.000000e+00</td>\n",
              "    </tr>\n",
              "    <tr>\n",
              "      <th>23</th>\n",
              "      <td>mini</td>\n",
              "      <td>-2.527237e-07</td>\n",
              "    </tr>\n",
              "    <tr>\n",
              "      <th>26</th>\n",
              "      <td>new</td>\n",
              "      <td>-3.533707e-03</td>\n",
              "    </tr>\n",
              "    <tr>\n",
              "      <th>21</th>\n",
              "      <td>medium</td>\n",
              "      <td>-3.421268e-02</td>\n",
              "    </tr>\n",
              "    <tr>\n",
              "      <th>18</th>\n",
              "      <td>leather</td>\n",
              "      <td>-8.653641e-02</td>\n",
              "    </tr>\n",
              "    <tr>\n",
              "      <th>29</th>\n",
              "      <td>purse</td>\n",
              "      <td>-1.071055e-01</td>\n",
              "    </tr>\n",
              "    <tr>\n",
              "      <th>2</th>\n",
              "      <td>attr3</td>\n",
              "      <td>-1.992264e-01</td>\n",
              "    </tr>\n",
              "    <tr>\n",
              "      <th>15</th>\n",
              "      <td>gucci</td>\n",
              "      <td>-2.145720e-01</td>\n",
              "    </tr>\n",
              "    <tr>\n",
              "      <th>20</th>\n",
              "      <td>louis</td>\n",
              "      <td>-2.180096e-01</td>\n",
              "    </tr>\n",
              "    <tr>\n",
              "      <th>12</th>\n",
              "      <td>diamond</td>\n",
              "      <td>-2.922162e-01</td>\n",
              "    </tr>\n",
              "    <tr>\n",
              "      <th>11</th>\n",
              "      <td>coach</td>\n",
              "      <td>-3.148748e-01</td>\n",
              "    </tr>\n",
              "    <tr>\n",
              "      <th>38</th>\n",
              "      <td>vintage</td>\n",
              "      <td>-4.442329e-01</td>\n",
              "    </tr>\n",
              "    <tr>\n",
              "      <th>25</th>\n",
              "      <td>monogram</td>\n",
              "      <td>-8.068604e-01</td>\n",
              "    </tr>\n",
              "    <tr>\n",
              "      <th>4</th>\n",
              "      <td>attr5</td>\n",
              "      <td>-8.833625e-01</td>\n",
              "    </tr>\n",
              "  </tbody>\n",
              "</table>\n",
              "</div>"
            ],
            "text/plain": [
              "      Feature  Feature_contrib\n",
              "10     chanel     3.443725e+00\n",
              "9       brown     3.428717e+00\n",
              "39    vuitton     2.863134e+00\n",
              "1       attr2     2.215206e+00\n",
              "27      pants     1.909196e+00\n",
              "5       attr6     1.651646e+00\n",
              "3       attr4     4.809468e-01\n",
              "7         bag     2.205469e-01\n",
              "41     yurman     1.616646e-01\n",
              "6   authentic     1.446065e-01\n",
              "8    bracelet     9.493226e-02\n",
              "13      dress     3.364232e-02\n",
              "30       ring     3.272583e-02\n",
              "37       tote     4.649162e-07\n",
              "24         mm     0.000000e+00\n",
              "36         sz     0.000000e+00\n",
              "35     speedy     0.000000e+00\n",
              "34      small     0.000000e+00\n",
              "33      skirt     0.000000e+00\n",
              "32        set     0.000000e+00\n",
              "31    sandals     0.000000e+00\n",
              "28       pink     0.000000e+00\n",
              "40      white     0.000000e+00\n",
              "0       attr1     0.000000e+00\n",
              "16      heels     0.000000e+00\n",
              "19  louboutin     0.000000e+00\n",
              "14       gold     0.000000e+00\n",
              "22       mens     0.000000e+00\n",
              "17     jacket     0.000000e+00\n",
              "23       mini    -2.527237e-07\n",
              "26        new    -3.533707e-03\n",
              "21     medium    -3.421268e-02\n",
              "18    leather    -8.653641e-02\n",
              "29      purse    -1.071055e-01\n",
              "2       attr3    -1.992264e-01\n",
              "15      gucci    -2.145720e-01\n",
              "20      louis    -2.180096e-01\n",
              "12    diamond    -2.922162e-01\n",
              "11      coach    -3.148748e-01\n",
              "38    vintage    -4.442329e-01\n",
              "25   monogram    -8.068604e-01\n",
              "4       attr5    -8.833625e-01"
            ]
          },
          "metadata": {
            "tags": []
          },
          "execution_count": 112
        }
      ]
    },
    {
      "cell_type": "code",
      "metadata": {
        "id": "7gmUQJG5h5_g"
      },
      "source": [
        "final_feature_df.to_csv('final_feature_contrib_df.csv', index = False)"
      ],
      "execution_count": 99,
      "outputs": []
    },
    {
      "cell_type": "code",
      "metadata": {
        "id": "XcwEP-QdiTY0"
      },
      "source": [
        "final_feature_imp = pd.DataFrame({'Features': feature_imp_df_not_zero.Features.values, 'Feature_importance' : xgb_final.feature_importances_})"
      ],
      "execution_count": 103,
      "outputs": []
    },
    {
      "cell_type": "code",
      "metadata": {
        "colab": {
          "base_uri": "https://localhost:8080/",
          "height": 1000
        },
        "id": "LT5cmPWkjBsh",
        "outputId": "b3c0608f-066c-4ef7-fe1f-79cdde8ad2af"
      },
      "source": [
        "# Final SGBoost model feature Importance\r\n",
        "final_feature_imp.sort_values('Feature_importance', ascending = False)"
      ],
      "execution_count": 113,
      "outputs": [
        {
          "output_type": "execute_result",
          "data": {
            "text/html": [
              "<div>\n",
              "<style scoped>\n",
              "    .dataframe tbody tr th:only-of-type {\n",
              "        vertical-align: middle;\n",
              "    }\n",
              "\n",
              "    .dataframe tbody tr th {\n",
              "        vertical-align: top;\n",
              "    }\n",
              "\n",
              "    .dataframe thead th {\n",
              "        text-align: right;\n",
              "    }\n",
              "</style>\n",
              "<table border=\"1\" class=\"dataframe\">\n",
              "  <thead>\n",
              "    <tr style=\"text-align: right;\">\n",
              "      <th></th>\n",
              "      <th>Features</th>\n",
              "      <th>Feature_importance</th>\n",
              "    </tr>\n",
              "  </thead>\n",
              "  <tbody>\n",
              "    <tr>\n",
              "      <th>9</th>\n",
              "      <td>brown</td>\n",
              "      <td>0.209596</td>\n",
              "    </tr>\n",
              "    <tr>\n",
              "      <th>25</th>\n",
              "      <td>monogram</td>\n",
              "      <td>0.139463</td>\n",
              "    </tr>\n",
              "    <tr>\n",
              "      <th>5</th>\n",
              "      <td>attr6</td>\n",
              "      <td>0.110280</td>\n",
              "    </tr>\n",
              "    <tr>\n",
              "      <th>22</th>\n",
              "      <td>mens</td>\n",
              "      <td>0.096607</td>\n",
              "    </tr>\n",
              "    <tr>\n",
              "      <th>20</th>\n",
              "      <td>louis</td>\n",
              "      <td>0.084933</td>\n",
              "    </tr>\n",
              "    <tr>\n",
              "      <th>16</th>\n",
              "      <td>heels</td>\n",
              "      <td>0.080945</td>\n",
              "    </tr>\n",
              "    <tr>\n",
              "      <th>37</th>\n",
              "      <td>tote</td>\n",
              "      <td>0.065852</td>\n",
              "    </tr>\n",
              "    <tr>\n",
              "      <th>2</th>\n",
              "      <td>attr3</td>\n",
              "      <td>0.032722</td>\n",
              "    </tr>\n",
              "    <tr>\n",
              "      <th>1</th>\n",
              "      <td>attr2</td>\n",
              "      <td>0.029731</td>\n",
              "    </tr>\n",
              "    <tr>\n",
              "      <th>39</th>\n",
              "      <td>vuitton</td>\n",
              "      <td>0.027641</td>\n",
              "    </tr>\n",
              "    <tr>\n",
              "      <th>4</th>\n",
              "      <td>attr5</td>\n",
              "      <td>0.024948</td>\n",
              "    </tr>\n",
              "    <tr>\n",
              "      <th>28</th>\n",
              "      <td>pink</td>\n",
              "      <td>0.014282</td>\n",
              "    </tr>\n",
              "    <tr>\n",
              "      <th>10</th>\n",
              "      <td>chanel</td>\n",
              "      <td>0.011695</td>\n",
              "    </tr>\n",
              "    <tr>\n",
              "      <th>31</th>\n",
              "      <td>sandals</td>\n",
              "      <td>0.008267</td>\n",
              "    </tr>\n",
              "    <tr>\n",
              "      <th>19</th>\n",
              "      <td>louboutin</td>\n",
              "      <td>0.007072</td>\n",
              "    </tr>\n",
              "    <tr>\n",
              "      <th>27</th>\n",
              "      <td>pants</td>\n",
              "      <td>0.006090</td>\n",
              "    </tr>\n",
              "    <tr>\n",
              "      <th>17</th>\n",
              "      <td>jacket</td>\n",
              "      <td>0.005699</td>\n",
              "    </tr>\n",
              "    <tr>\n",
              "      <th>12</th>\n",
              "      <td>diamond</td>\n",
              "      <td>0.005643</td>\n",
              "    </tr>\n",
              "    <tr>\n",
              "      <th>7</th>\n",
              "      <td>bag</td>\n",
              "      <td>0.004862</td>\n",
              "    </tr>\n",
              "    <tr>\n",
              "      <th>6</th>\n",
              "      <td>authentic</td>\n",
              "      <td>0.004174</td>\n",
              "    </tr>\n",
              "    <tr>\n",
              "      <th>24</th>\n",
              "      <td>mm</td>\n",
              "      <td>0.003447</td>\n",
              "    </tr>\n",
              "    <tr>\n",
              "      <th>15</th>\n",
              "      <td>gucci</td>\n",
              "      <td>0.003385</td>\n",
              "    </tr>\n",
              "    <tr>\n",
              "      <th>3</th>\n",
              "      <td>attr4</td>\n",
              "      <td>0.003229</td>\n",
              "    </tr>\n",
              "    <tr>\n",
              "      <th>21</th>\n",
              "      <td>medium</td>\n",
              "      <td>0.002579</td>\n",
              "    </tr>\n",
              "    <tr>\n",
              "      <th>8</th>\n",
              "      <td>bracelet</td>\n",
              "      <td>0.002452</td>\n",
              "    </tr>\n",
              "    <tr>\n",
              "      <th>18</th>\n",
              "      <td>leather</td>\n",
              "      <td>0.002233</td>\n",
              "    </tr>\n",
              "    <tr>\n",
              "      <th>38</th>\n",
              "      <td>vintage</td>\n",
              "      <td>0.002007</td>\n",
              "    </tr>\n",
              "    <tr>\n",
              "      <th>14</th>\n",
              "      <td>gold</td>\n",
              "      <td>0.001386</td>\n",
              "    </tr>\n",
              "    <tr>\n",
              "      <th>0</th>\n",
              "      <td>attr1</td>\n",
              "      <td>0.001214</td>\n",
              "    </tr>\n",
              "    <tr>\n",
              "      <th>41</th>\n",
              "      <td>yurman</td>\n",
              "      <td>0.001040</td>\n",
              "    </tr>\n",
              "    <tr>\n",
              "      <th>40</th>\n",
              "      <td>white</td>\n",
              "      <td>0.000972</td>\n",
              "    </tr>\n",
              "    <tr>\n",
              "      <th>23</th>\n",
              "      <td>mini</td>\n",
              "      <td>0.000942</td>\n",
              "    </tr>\n",
              "    <tr>\n",
              "      <th>13</th>\n",
              "      <td>dress</td>\n",
              "      <td>0.000792</td>\n",
              "    </tr>\n",
              "    <tr>\n",
              "      <th>29</th>\n",
              "      <td>purse</td>\n",
              "      <td>0.000712</td>\n",
              "    </tr>\n",
              "    <tr>\n",
              "      <th>35</th>\n",
              "      <td>speedy</td>\n",
              "      <td>0.000696</td>\n",
              "    </tr>\n",
              "    <tr>\n",
              "      <th>30</th>\n",
              "      <td>ring</td>\n",
              "      <td>0.000666</td>\n",
              "    </tr>\n",
              "    <tr>\n",
              "      <th>11</th>\n",
              "      <td>coach</td>\n",
              "      <td>0.000662</td>\n",
              "    </tr>\n",
              "    <tr>\n",
              "      <th>33</th>\n",
              "      <td>skirt</td>\n",
              "      <td>0.000645</td>\n",
              "    </tr>\n",
              "    <tr>\n",
              "      <th>26</th>\n",
              "      <td>new</td>\n",
              "      <td>0.000437</td>\n",
              "    </tr>\n",
              "    <tr>\n",
              "      <th>32</th>\n",
              "      <td>set</td>\n",
              "      <td>0.000000</td>\n",
              "    </tr>\n",
              "    <tr>\n",
              "      <th>34</th>\n",
              "      <td>small</td>\n",
              "      <td>0.000000</td>\n",
              "    </tr>\n",
              "    <tr>\n",
              "      <th>36</th>\n",
              "      <td>sz</td>\n",
              "      <td>0.000000</td>\n",
              "    </tr>\n",
              "  </tbody>\n",
              "</table>\n",
              "</div>"
            ],
            "text/plain": [
              "     Features  Feature_importance\n",
              "9       brown            0.209596\n",
              "25   monogram            0.139463\n",
              "5       attr6            0.110280\n",
              "22       mens            0.096607\n",
              "20      louis            0.084933\n",
              "16      heels            0.080945\n",
              "37       tote            0.065852\n",
              "2       attr3            0.032722\n",
              "1       attr2            0.029731\n",
              "39    vuitton            0.027641\n",
              "4       attr5            0.024948\n",
              "28       pink            0.014282\n",
              "10     chanel            0.011695\n",
              "31    sandals            0.008267\n",
              "19  louboutin            0.007072\n",
              "27      pants            0.006090\n",
              "17     jacket            0.005699\n",
              "12    diamond            0.005643\n",
              "7         bag            0.004862\n",
              "6   authentic            0.004174\n",
              "24         mm            0.003447\n",
              "15      gucci            0.003385\n",
              "3       attr4            0.003229\n",
              "21     medium            0.002579\n",
              "8    bracelet            0.002452\n",
              "18    leather            0.002233\n",
              "38    vintage            0.002007\n",
              "14       gold            0.001386\n",
              "0       attr1            0.001214\n",
              "41     yurman            0.001040\n",
              "40      white            0.000972\n",
              "23       mini            0.000942\n",
              "13      dress            0.000792\n",
              "29      purse            0.000712\n",
              "35     speedy            0.000696\n",
              "30       ring            0.000666\n",
              "11      coach            0.000662\n",
              "33      skirt            0.000645\n",
              "26        new            0.000437\n",
              "32        set            0.000000\n",
              "34      small            0.000000\n",
              "36         sz            0.000000"
            ]
          },
          "metadata": {
            "tags": []
          },
          "execution_count": 113
        }
      ]
    },
    {
      "cell_type": "code",
      "metadata": {
        "id": "SdmlK3PcjXiN"
      },
      "source": [
        "final_feature_imp.to_csv('Poshmark_XGB_Final_feature_importance.csv', index = False)"
      ],
      "execution_count": 105,
      "outputs": []
    },
    {
      "cell_type": "markdown",
      "metadata": {
        "id": "HRXv14OlqHCS"
      },
      "source": [
        "# End"
      ]
    }
  ]
}