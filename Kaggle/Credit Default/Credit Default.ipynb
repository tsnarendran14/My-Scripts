{
 "cells": [
  {
   "cell_type": "code",
   "execution_count": null,
   "metadata": {},
   "outputs": [],
   "source": [
    "import numpy as np\n",
    "import pandas as pd"
   ]
  },
  {
   "cell_type": "code",
   "execution_count": null,
   "metadata": {},
   "outputs": [],
   "source": [
    "train = pd.read_csv(\"application_train.csv\")\n",
    "test = pd.read_csv(\"application_test.csv\")\n",
    "bureau = pd.read_csv(\"bureau.csv\")\n",
    "bureau_bal = pd.read_csv(\"bureau_balance.csv\")\n",
    "credit_card_bal = pd.read_csv(\"credit_card_balance.csv\")\n",
    "installment_payments = pd.read_csv(\"installments_payments.csv\")\n",
    "pos_cash_bal = pd.read_csv(\"POS_CASH_balance.csv\")\n",
    "previous_application = pd.read_csv(\"previous_application.csv\")\n",
    "sample_application = pd.read_csv(\"sample_submission.csv\")"
   ]
  },
  {
   "cell_type": "code",
   "execution_count": null,
   "metadata": {},
   "outputs": [],
   "source": [
    "trainCopy = train.copy()\n",
    "testCopy = test.copy()\n",
    "bureauCopy = bureau.copy()\n",
    "bureau_balCopy = bureau_bal.copy()\n",
    "credit_card_balCopy = credit_card_bal.copy()\n",
    "installment_paymentsCopy = installment_payments.copy()\n",
    "pos_cash_balCopy = pos_cash_bal.copy()\n",
    "previous_applicationCopy = previous_application.copy()"
   ]
  },
  {
   "cell_type": "code",
   "execution_count": null,
   "metadata": {},
   "outputs": [],
   "source": [
    "train.head()"
   ]
  },
  {
   "cell_type": "code",
   "execution_count": null,
   "metadata": {},
   "outputs": [],
   "source": [
    "test.head()"
   ]
  },
  {
   "cell_type": "code",
   "execution_count": null,
   "metadata": {},
   "outputs": [],
   "source": [
    "bureau.head()"
   ]
  },
  {
   "cell_type": "code",
   "execution_count": null,
   "metadata": {},
   "outputs": [],
   "source": [
    "bureau_bal.head()"
   ]
  },
  {
   "cell_type": "code",
   "execution_count": null,
   "metadata": {},
   "outputs": [],
   "source": [
    "credit_card_bal.head()"
   ]
  },
  {
   "cell_type": "code",
   "execution_count": null,
   "metadata": {},
   "outputs": [],
   "source": [
    "installment_payments.head()"
   ]
  },
  {
   "cell_type": "code",
   "execution_count": null,
   "metadata": {},
   "outputs": [],
   "source": [
    "pos_cash_bal.head()"
   ]
  },
  {
   "cell_type": "code",
   "execution_count": null,
   "metadata": {},
   "outputs": [],
   "source": [
    "previous_application.head()"
   ]
  },
  {
   "cell_type": "code",
   "execution_count": null,
   "metadata": {},
   "outputs": [],
   "source": [
    "list(bureau)"
   ]
  },
  {
   "cell_type": "code",
   "execution_count": null,
   "metadata": {},
   "outputs": [],
   "source": [
    "list(bureau)"
   ]
  },
  {
   "cell_type": "markdown",
   "metadata": {},
   "source": [
    "### Feature Creation - Numeric"
   ]
  },
  {
   "cell_type": "code",
   "execution_count": null,
   "metadata": {},
   "outputs": [],
   "source": [
    "bureauCopy = bureauCopy.drop('CREDIT_ACTIVE', axis = 1)\n",
    "bureauCopy = bureauCopy.drop('CREDIT_CURRENCY', axis = 1)\n",
    "bureauCopy = bureauCopy.drop('CREDIT_TYPE', axis = 1)\n",
    "bureau_summarise = bureauCopy.groupby(['SK_ID_CURR']).agg([np.min, np.max, np.mean]).reset_index()\n",
    "bureau_summarise.columns = ['_'.join(col).strip() for col in bureau_summarise.columns.values]\n",
    "bureau_summarise = bureau_summarise.rename(columns={'SK_ID_CURR_':'SK_ID_CURR'})\n",
    "bureau_summarise.head()"
   ]
  },
  {
   "cell_type": "code",
   "execution_count": null,
   "metadata": {},
   "outputs": [],
   "source": [
    "credit_card_balCopy =  credit_card_balCopy.drop('NAME_CONTRACT_STATUS', axis = 1)\n",
    "credit_card_balCopy = credit_card_bal.drop('SK_ID_PREV', axis = 1)\n",
    "credit_card_bal_summarise = credit_card_bal.groupby(['SK_ID_CURR']).agg([np.mean, np.min, np.max]).reset_index()\n",
    "credit_card_bal_summarise.columns = ['_'.join(col).strip() for col in credit_card_bal_summarise.columns.values]\n",
    "credit_card_bal_summarise = credit_card_bal_summarise.rename(columns={'SK_ID_CURR_':'SK_ID_CURR'})\n",
    "credit_card_bal_summarise.head()"
   ]
  },
  {
   "cell_type": "code",
   "execution_count": null,
   "metadata": {},
   "outputs": [],
   "source": [
    "installment_paymentsCopy = installment_paymentsCopy.drop('SK_ID_PREV', axis=1)\n",
    "installment_payments_summarise = installment_paymentsCopy.groupby(['SK_ID_CURR']).agg([np.mean, np.min, np.max]).reset_index()\n",
    "installment_payments_summarise.columns = ['_'.join(col).strip() for col in installment_payments_summarise.columns.values]\n",
    "installment_payments_summarise = installment_payments_summarise.rename(columns={'SK_ID_CURR_':'SK_ID_CURR'})\n",
    "installment_payments_summarise.head()"
   ]
  },
  {
   "cell_type": "code",
   "execution_count": null,
   "metadata": {
    "scrolled": true
   },
   "outputs": [],
   "source": [
    "pos_cash_balCopy =  pos_cash_balCopy.drop('NAME_CONTRACT_STATUS', axis = 1)\n",
    "pos_cash_balCopy = pos_cash_balCopy.drop('SK_ID_PREV', axis=1)\n",
    "pos_cash_bal_summarise = pos_cash_balCopy.groupby(['SK_ID_CURR']).agg([np.mean, np.min, np.max]).reset_index()\n",
    "pos_cash_bal_summarise.columns = ['_'.join(col).strip() for col in pos_cash_bal_summarise.columns.values]\n",
    "pos_cash_bal_summarise = pos_cash_bal_summarise.rename(columns={'SK_ID_CURR_':'SK_ID_CURR'})\n",
    "pos_cash_bal_summarise.head()"
   ]
  },
  {
   "cell_type": "code",
   "execution_count": null,
   "metadata": {},
   "outputs": [],
   "source": [
    "curr_bureau_map_id = bureau.loc[:,['SK_ID_CURR', 'SK_ID_BUREAU']]\n",
    "curr_bureau_map_id = curr_bureau_map_id.drop_duplicates()\n",
    "curr_bureau_map_id.head()"
   ]
  },
  {
   "cell_type": "code",
   "execution_count": null,
   "metadata": {},
   "outputs": [],
   "source": [
    "bureau_bal['STATUS'].unique()"
   ]
  },
  {
   "cell_type": "code",
   "execution_count": null,
   "metadata": {},
   "outputs": [],
   "source": [
    "bureau_bal_summarise = bureau_balCopy.groupby(['SK_ID_BUREAU']).aggregate([np.min,np.max,np.mean]).reset_index()\n",
    "bureau_bal_summarise.columns = ['_'.join(col).strip() for col in bureau_bal_summarise.columns.values]\n",
    "bureau_bal_summarise = bureau_bal_summarise.rename(columns={'SK_ID_BUREAU_':'SK_ID_BUREAU'})\n",
    "bureau_bal_summarise = bureau_bal_summarise.merge(curr_bureau_map_id, on = \"SK_ID_BUREAU\", how = \"inner\")\n",
    "bureau_bal_summarise = bureau_bal_summarise.drop('SK_ID_BUREAU', axis = 1)\n",
    "bureau_bal_summarise = bureau_bal_summarise.groupby(['SK_ID_CURR']).aggregate([np.mean]).reset_index()\n",
    "bureau_bal_summarise.columns = ['_'.join(col).strip() for col in bureau_bal_summarise.columns.values]\n",
    "bureau_bal_summarise = bureau_bal_summarise.rename(columns={'SK_ID_CURR_':'SK_ID_CURR'})\n",
    "bureau_bal_summarise.head()"
   ]
  },
  {
   "cell_type": "code",
   "execution_count": null,
   "metadata": {},
   "outputs": [],
   "source": [
    "#bureau_bal_summarise = bureau_bal_summarise.rename(columns={'SK_ID_BUREAU_':'SK_ID_BUREAU'})\n",
    "bureau_bal_summarise.head()"
   ]
  },
  {
   "cell_type": "code",
   "execution_count": null,
   "metadata": {},
   "outputs": [],
   "source": [
    "previous_applicationCopy = previous_applicationCopy.drop('SK_ID_PREV', axis = 1)\n",
    "previous_applicationCopy = previous_applicationCopy.drop('NAME_CONTRACT_TYPE', axis = 1)\n",
    "previous_applicationCopy = previous_applicationCopy.drop('WEEKDAY_APPR_PROCESS_START', axis = 1)\n",
    "previous_applicationCopy = previous_applicationCopy.drop('NAME_SELLER_INDUSTRY', axis = 1)\n",
    "previous_applicationCopy = previous_applicationCopy.drop('NAME_YIELD_GROUP', axis = 1)\n",
    "previous_applicationCopy = previous_applicationCopy.drop('PRODUCT_COMBINATION', axis = 1)\n",
    "previous_application_summarise = previous_applicationCopy.groupby(['SK_ID_CURR']).aggregate([np.min,np.max,np.mean]).reset_index()\n",
    "previous_application_summarise.columns = ['_'.join(col).strip() for col in previous_application_summarise.columns.values]\n",
    "previous_application_summarise = previous_application_summarise.rename(columns={'SK_ID_CURR_':'SK_ID_CURR'})"
   ]
  },
  {
   "cell_type": "code",
   "execution_count": null,
   "metadata": {},
   "outputs": [],
   "source": [
    "previous_application_summarise.head()"
   ]
  },
  {
   "cell_type": "markdown",
   "metadata": {},
   "source": [
    "## Label Encoding"
   ]
  },
  {
   "cell_type": "markdown",
   "metadata": {},
   "source": [
    "### Train:\n",
    "NAME_CONTRACT_TYPE,\n",
    "CODE_GENDER,\n",
    "FLAG_OWN_CAR,\n",
    "FLAG_OWN_REALTY,\n",
    "NAME_TYPE_SUITE,\n",
    "NAME_INCOME_TYPE,\n",
    "NAME_EDUCATION_TYPE,\n",
    "NAME_FAMILY_STATUS,\n",
    "NAME_HOUSING_TYPE,\n",
    "OCCUPATION_TYPE,\n",
    "ORGANIZATION_TYPE,\n",
    "WEEKDAY_APPR_PROCESS_START,\n",
    "FONDKAPREMONT_MODE,\n",
    "HOUSETYPE_MODE,\n",
    "WALLSMATERIAL_MODE,\n",
    "EMERGENCYSTATE_MODE"
   ]
  },
  {
   "cell_type": "markdown",
   "metadata": {},
   "source": [
    "### Bureau:\n",
    "CREDIT_ACTIVE,\n",
    "CREDIT_CURRENCY,\n",
    "CREDIT_TYPE"
   ]
  },
  {
   "cell_type": "markdown",
   "metadata": {},
   "source": [
    "### Bureau_bal:\n",
    "STATUS"
   ]
  },
  {
   "cell_type": "markdown",
   "metadata": {},
   "source": [
    "### Credit_card_bal:\n",
    "NAME_CONTRACT_STATUS"
   ]
  },
  {
   "cell_type": "markdown",
   "metadata": {},
   "source": [
    "### Installment_payments:\n",
    "NA"
   ]
  },
  {
   "cell_type": "markdown",
   "metadata": {},
   "source": [
    "### Pos_cash_bal:\n",
    "NAME_CONTRACT_STATUS"
   ]
  },
  {
   "cell_type": "code",
   "execution_count": null,
   "metadata": {},
   "outputs": [],
   "source": [
    "train['NAME_CONTRACT_TYPE'].unique()"
   ]
  },
  {
   "cell_type": "code",
   "execution_count": null,
   "metadata": {},
   "outputs": [],
   "source": [
    "from sklearn import preprocessing\n",
    "le = preprocessing.LabelEncoder()\n",
    "\n",
    "trainCopy['NAME_CONTRACT_TYPE'] = trainCopy['NAME_CONTRACT_TYPE'].fillna(\"Unknown\")\n",
    "le.fit(trainCopy['NAME_CONTRACT_TYPE'])\n",
    "le.classes_\n",
    "trainCopy['NAME_CONTRACT_TYPE'] = le.transform(trainCopy['NAME_CONTRACT_TYPE'])\n",
    "\n",
    "trainCopy['CODE_GENDER'] = trainCopy['CODE_GENDER'].fillna(\"Unknown\")\n",
    "le.fit(trainCopy['CODE_GENDER'])\n",
    "le.classes_\n",
    "trainCopy['CODE_GENDER'] = le.transform(trainCopy['CODE_GENDER'])\n",
    "\n",
    "trainCopy['FLAG_OWN_CAR'] = trainCopy['FLAG_OWN_CAR'].fillna(\"Unknown\")\n",
    "le.fit(trainCopy['FLAG_OWN_CAR'])\n",
    "le.classes_\n",
    "trainCopy['FLAG_OWN_CAR'] = le.transform(trainCopy['FLAG_OWN_CAR'])\n",
    "\n",
    "trainCopy['FLAG_OWN_REALTY'] = trainCopy['FLAG_OWN_REALTY'].fillna(\"Unknown\")\n",
    "le.fit(trainCopy['FLAG_OWN_REALTY'])\n",
    "le.classes_\n",
    "trainCopy['FLAG_OWN_REALTY'] = le.transform(trainCopy['FLAG_OWN_REALTY'])\n",
    "\n",
    "\n",
    "trainCopy['NAME_TYPE_SUITE'] = trainCopy['NAME_TYPE_SUITE'].fillna(\"Unknown\")\n",
    "le.fit(trainCopy['NAME_TYPE_SUITE'])\n",
    "le.classes_\n",
    "trainCopy['NAME_TYPE_SUITE'] = le.transform(trainCopy['NAME_TYPE_SUITE'])\n",
    "\n",
    "trainCopy['NAME_INCOME_TYPE'] = trainCopy['NAME_INCOME_TYPE'].fillna(\"Unknown\")\n",
    "le.fit(trainCopy['NAME_INCOME_TYPE'])\n",
    "le.classes_\n",
    "trainCopy['NAME_INCOME_TYPE'] = le.transform(trainCopy['NAME_INCOME_TYPE'])\n",
    "\n",
    "trainCopy['NAME_EDUCATION_TYPE'] = trainCopy['NAME_EDUCATION_TYPE'].fillna(\"Unknown\")\n",
    "le.fit(trainCopy['NAME_EDUCATION_TYPE'])\n",
    "le.classes_\n",
    "trainCopy['NAME_EDUCATION_TYPE'] = le.transform(trainCopy['NAME_EDUCATION_TYPE'])\n",
    "\n",
    "trainCopy['NAME_FAMILY_STATUS'] = trainCopy['NAME_FAMILY_STATUS'].fillna(\"Unknown\")\n",
    "le.fit(trainCopy['NAME_FAMILY_STATUS'])\n",
    "le.classes_\n",
    "trainCopy['NAME_FAMILY_STATUS'] = le.transform(trainCopy['NAME_FAMILY_STATUS'])\n",
    "\n",
    "trainCopy['NAME_HOUSING_TYPE'] = trainCopy['NAME_HOUSING_TYPE'].fillna(\"Unknown\")\n",
    "le.fit(trainCopy['NAME_HOUSING_TYPE'])\n",
    "le.classes_\n",
    "trainCopy['NAME_HOUSING_TYPE'] = le.transform(trainCopy['NAME_HOUSING_TYPE'])\n",
    "\n",
    "trainCopy['OCCUPATION_TYPE'] = trainCopy['OCCUPATION_TYPE'].fillna(\"Unknown\")\n",
    "le.fit(trainCopy['OCCUPATION_TYPE'])\n",
    "le.classes_\n",
    "trainCopy['OCCUPATION_TYPE'] = le.transform(trainCopy['OCCUPATION_TYPE'])\n",
    "\n",
    "trainCopy['ORGANIZATION_TYPE'] = trainCopy['ORGANIZATION_TYPE'].fillna(\"Unknown\")\n",
    "le.fit(trainCopy['ORGANIZATION_TYPE'])\n",
    "le.classes_\n",
    "trainCopy['ORGANIZATION_TYPE'] = le.transform(trainCopy['ORGANIZATION_TYPE'])\n",
    "\n",
    "trainCopy['WEEKDAY_APPR_PROCESS_START'] = trainCopy['WEEKDAY_APPR_PROCESS_START'].fillna(\"Unknown\")\n",
    "le.fit(trainCopy['WEEKDAY_APPR_PROCESS_START'])\n",
    "le.classes_\n",
    "trainCopy['WEEKDAY_APPR_PROCESS_START'] = le.transform(trainCopy['WEEKDAY_APPR_PROCESS_START'])\n",
    "\n",
    "trainCopy['FONDKAPREMONT_MODE'] = trainCopy['FONDKAPREMONT_MODE'].fillna(\"Unknown\")\n",
    "le.fit(trainCopy['FONDKAPREMONT_MODE'])\n",
    "le.classes_\n",
    "trainCopy['FONDKAPREMONT_MODE'] = le.transform(trainCopy['FONDKAPREMONT_MODE'])\n",
    "\n",
    "trainCopy['HOUSETYPE_MODE'] = trainCopy['HOUSETYPE_MODE'].fillna(\"Unknown\")\n",
    "le.fit(trainCopy['HOUSETYPE_MODE'])\n",
    "le.classes_\n",
    "trainCopy['HOUSETYPE_MODE'] = le.transform(trainCopy['HOUSETYPE_MODE'])\n",
    "\n",
    "trainCopy['WALLSMATERIAL_MODE'] = trainCopy['WALLSMATERIAL_MODE'].fillna(\"Unknown\")\n",
    "le.fit(trainCopy['WALLSMATERIAL_MODE'])\n",
    "le.classes_\n",
    "trainCopy['WALLSMATERIAL_MODE'] = le.transform(trainCopy['WALLSMATERIAL_MODE'])\n",
    "\n",
    "trainCopy['EMERGENCYSTATE_MODE'] = trainCopy['EMERGENCYSTATE_MODE'].fillna(\"Unknown\")\n",
    "le.fit(trainCopy['EMERGENCYSTATE_MODE'])\n",
    "le.classes_\n",
    "trainCopy['EMERGENCYSTATE_MODE'] = le.transform(trainCopy['EMERGENCYSTATE_MODE'])"
   ]
  },
  {
   "cell_type": "code",
   "execution_count": null,
   "metadata": {},
   "outputs": [],
   "source": [
    "trainCopy['FLAG_OWN_CAR'].unique()"
   ]
  },
  {
   "cell_type": "code",
   "execution_count": null,
   "metadata": {},
   "outputs": [],
   "source": [
    "#le.fit(bureau['CREDIT_ACTIVE'])\n",
    "#le.classes_\n",
    "#bureau['CREDIT_ACTIVE'] = le.transform(bureau['CREDIT_ACTIVE'])\n",
    "#le.fit(bureau['CREDIT_CURRENCY'])\n",
    "#le.classes_\n",
    "#bureau['CREDIT_CURRENCY'] = le.transform(bureau['CREDIT_CURRENCY'])\n",
    "#le.fit(bureau['CREDIT_TYPE'])\n",
    "#le.classes_\n",
    "#bureau['CREDIT_TYPE'] = le.transform(bureau['CREDIT_TYPE'])"
   ]
  },
  {
   "cell_type": "code",
   "execution_count": null,
   "metadata": {},
   "outputs": [],
   "source": [
    "bureau_encoding = bureau.loc[:,[\"SK_ID_CURR\", \"CREDIT_ACTIVE\", \"CREDIT_CURRENCY\", \"CREDIT_TYPE\"]]\n",
    "CREDIT_ACTIVE = pd.get_dummies(bureau_encoding[\"CREDIT_ACTIVE\"], prefix=\"CREDIT_ACTIVE\")\n",
    "bureau_encoding = bureau_encoding.drop('CREDIT_ACTIVE', axis = 1)\n",
    "bureau = bureau.drop('CREDIT_ACTIVE', axis = 1)\n",
    "bureau_encoding = pd.concat([bureau_encoding, CREDIT_ACTIVE], axis = 1)\n",
    "CREDIT_CURRENCY = pd.get_dummies(bureau_encoding[\"CREDIT_CURRENCY\"], prefix=\"CREDIT_CURRENCY\")\n",
    "bureau_encoding = bureau_encoding.drop('CREDIT_CURRENCY', axis = 1)\n",
    "bureau = bureau.drop('CREDIT_CURRENCY', axis = 1)\n",
    "bureau_encoding = pd.concat([bureau_encoding, CREDIT_CURRENCY], axis = 1)\n",
    "CREDIT_TYPE = pd.get_dummies(bureau_encoding[\"CREDIT_TYPE\"], prefix=\"CREDIT_TYPE\")\n",
    "bureau_encoding = bureau_encoding.drop('CREDIT_TYPE', axis = 1)\n",
    "bureau = bureau.drop('CREDIT_TYPE', axis = 1)\n",
    "bureau_encoding = pd.concat([bureau_encoding, CREDIT_TYPE], axis = 1)"
   ]
  },
  {
   "cell_type": "code",
   "execution_count": null,
   "metadata": {},
   "outputs": [],
   "source": [
    "bureau_encoding.head()\n",
    "bureau_encoding_summarise = bureau_encoding.groupby(['SK_ID_CURR']).sum().reset_index()"
   ]
  },
  {
   "cell_type": "code",
   "execution_count": null,
   "metadata": {},
   "outputs": [],
   "source": [
    "bureau_bal_encoding = bureau_bal.loc[:, [\"SK_ID_BUREAU\",\"STATUS\"]]\n",
    "STATUS = pd.get_dummies(bureau_bal_encoding[\"STATUS\"], prefix=\"STATUS\")\n",
    "bureau_bal_encoding = bureau_bal_encoding.drop('STATUS', axis = 1)\n",
    "bureau_bal_encoding = pd.concat([bureau_bal_encoding, STATUS], axis = 1)"
   ]
  },
  {
   "cell_type": "code",
   "execution_count": null,
   "metadata": {},
   "outputs": [],
   "source": [
    "bureau_bal_encoding.head()\n",
    "bureau_bal_encoding_summaries = bureau_bal_encoding.groupby(['SK_ID_BUREAU']).sum().reset_index()"
   ]
  },
  {
   "cell_type": "code",
   "execution_count": null,
   "metadata": {},
   "outputs": [],
   "source": [
    "bureau_bal_encoding_summaries.head()\n",
    "bureau_bal_encoding_summaries = bureau_bal_encoding_summaries.merge(curr_bureau_map_id, on = \"SK_ID_BUREAU\", how = \"left\")"
   ]
  },
  {
   "cell_type": "code",
   "execution_count": null,
   "metadata": {},
   "outputs": [],
   "source": [
    "bureau_bal_encoding_summaries.head()\n",
    "bureau_bal_encoding_summaries = bureau_bal_encoding_summaries.drop('SK_ID_BUREAU', axis = 1)\n",
    "bureau_bal_encoding_summaries = bureau_bal_encoding_summaries.groupby(['SK_ID_CURR']).mean().reset_index()"
   ]
  },
  {
   "cell_type": "code",
   "execution_count": null,
   "metadata": {},
   "outputs": [],
   "source": [
    "curr_bureau_map_id['SK_ID_BUREAU'] = curr_bureau_map_id['SK_ID_BUREAU'].astype(str)\n",
    "curr_bureau_map_id['SK_ID_CURR'] = curr_bureau_map_id['SK_ID_CURR'].astype(str)\n",
    "#bureau_bal_encoding_summaries['SK_ID_BUREAU'] = pd.Categorical(bureau_bal_encoding_summaries['SK_ID_BUREAU'])"
   ]
  },
  {
   "cell_type": "code",
   "execution_count": null,
   "metadata": {},
   "outputs": [],
   "source": [
    "curr_bureau_map_id.loc[curr_bureau_map_id['SK_ID_BUREAU'] == 5001709]"
   ]
  },
  {
   "cell_type": "code",
   "execution_count": null,
   "metadata": {},
   "outputs": [],
   "source": [
    "credit_card_bal_encoding = credit_card_bal.loc[:, [\"SK_ID_CURR\",\"NAME_CONTRACT_STATUS\"]]\n",
    "NAME_CONTRACT_STATUS = pd.get_dummies(credit_card_bal_encoding[\"NAME_CONTRACT_STATUS\"], prefix=\"NAME_CONTRACT_STATUS_CC\")\n",
    "credit_card_bal_encoding = credit_card_bal_encoding.drop('NAME_CONTRACT_STATUS', axis = 1)\n",
    "credit_card_bal_encoding = pd.concat([credit_card_bal_encoding, NAME_CONTRACT_STATUS], axis = 1)"
   ]
  },
  {
   "cell_type": "code",
   "execution_count": null,
   "metadata": {},
   "outputs": [],
   "source": [
    "credit_card_bal_encoding.head()\n",
    "credit_card_bal_encoding_summaries = credit_card_bal_encoding.groupby(['SK_ID_CURR']).sum().reset_index()"
   ]
  },
  {
   "cell_type": "code",
   "execution_count": null,
   "metadata": {},
   "outputs": [],
   "source": [
    "credit_card_bal_encoding_summaries.head()"
   ]
  },
  {
   "cell_type": "code",
   "execution_count": null,
   "metadata": {},
   "outputs": [],
   "source": [
    "pos_cash_bal_encoding = pos_cash_bal.loc[:, [\"SK_ID_CURR\",\"NAME_CONTRACT_STATUS\"]]\n",
    "NAME_CONTRACT_STATUS = pd.get_dummies(pos_cash_bal_encoding[\"NAME_CONTRACT_STATUS\"], prefix=\"NAME_CONTRACT_STATUS_POS\")\n",
    "pos_cash_bal_encoding = pos_cash_bal_encoding.drop('NAME_CONTRACT_STATUS', axis = 1)\n",
    "pos_cash_bal_encoding = pd.concat([pos_cash_bal_encoding, NAME_CONTRACT_STATUS], axis = 1)"
   ]
  },
  {
   "cell_type": "code",
   "execution_count": null,
   "metadata": {},
   "outputs": [],
   "source": [
    "pos_cash_bal_encoding_summarise =  pos_cash_bal_encoding.groupby(['SK_ID_CURR']).sum().reset_index()\n",
    "pos_cash_bal_encoding_summarise.head()"
   ]
  },
  {
   "cell_type": "code",
   "execution_count": null,
   "metadata": {},
   "outputs": [],
   "source": [
    "previous_applicationEncoding = previous_application.loc[:,['SK_ID_CURR', 'NAME_CONTRACT_TYPE', 'FLAG_LAST_APPL_PER_CONTRACT', 'WEEKDAY_APPR_PROCESS_START',\n",
    "                                                          'NAME_CASH_LOAN_PURPOSE', 'NAME_CONTRACT_STATUS', 'NAME_PAYMENT_TYPE', 'CODE_REJECT_REASON',\n",
    "                                                          'NAME_TYPE_SUITE', 'NAME_CLIENT_TYPE', 'NAME_GOODS_CATEGORY', 'NAME_PORTFOLIO','NAME_PRODUCT_TYPE',\n",
    "                                                          'CHANNEL_TYPE', 'NAME_YIELD_GROUP', 'PRODUCT_COMBINATION', 'NAME_SELLER_INDUSTRY']]"
   ]
  },
  {
   "cell_type": "code",
   "execution_count": null,
   "metadata": {},
   "outputs": [],
   "source": [
    "from sklearn import preprocessing\n",
    "le = preprocessing.LabelEncoder()\n",
    "\n",
    "previous_applicationEncoding['NAME_CONTRACT_TYPE'] = previous_applicationEncoding['NAME_CONTRACT_TYPE'].fillna(\"Unknown\")\n",
    "le.fit(previous_applicationEncoding['NAME_CONTRACT_TYPE'])\n",
    "le.classes_\n",
    "previous_applicationEncoding['PREV_NAME_CONTRACT_TYPE'] = le.transform(previous_applicationEncoding['NAME_CONTRACT_TYPE'])\n",
    "previous_applicationEncoding = previous_applicationEncoding.drop('NAME_CONTRACT_TYPE', axis = 1)\n",
    "\n",
    "previous_applicationEncoding['FLAG_LAST_APPL_PER_CONTRACT'] = previous_applicationEncoding['FLAG_LAST_APPL_PER_CONTRACT'].fillna(\"Unknown\")\n",
    "le.fit(previous_applicationEncoding['FLAG_LAST_APPL_PER_CONTRACT'])\n",
    "le.classes_\n",
    "previous_applicationEncoding['PREV_FLAG_LAST_APPL_PER_CONTRACT'] = le.transform(previous_applicationEncoding['FLAG_LAST_APPL_PER_CONTRACT'])\n",
    "previous_applicationEncoding = previous_applicationEncoding.drop('FLAG_LAST_APPL_PER_CONTRACT', axis = 1)\n",
    "\n",
    "previous_applicationEncoding['WEEKDAY_APPR_PROCESS_START'] = previous_applicationEncoding['WEEKDAY_APPR_PROCESS_START'].fillna(\"Unknown\")\n",
    "le.fit(previous_applicationEncoding['WEEKDAY_APPR_PROCESS_START'])\n",
    "le.classes_\n",
    "previous_applicationEncoding['PREV_WEEKDAY_APPR_PROCESS_START'] = le.transform(previous_applicationEncoding['WEEKDAY_APPR_PROCESS_START'])\n",
    "previous_applicationEncoding = previous_applicationEncoding.drop('WEEKDAY_APPR_PROCESS_START', axis = 1)\n",
    "\n",
    "previous_applicationEncoding['NAME_CASH_LOAN_PURPOSE'] = previous_applicationEncoding['NAME_CASH_LOAN_PURPOSE'].fillna(\"Unknown\")\n",
    "le.fit(previous_applicationEncoding['NAME_CASH_LOAN_PURPOSE'])\n",
    "le.classes_\n",
    "previous_applicationEncoding['PREV_NAME_CASH_LOAN_PURPOSE'] = le.transform(previous_applicationEncoding['NAME_CASH_LOAN_PURPOSE'])\n",
    "previous_applicationEncoding = previous_applicationEncoding.drop('NAME_CASH_LOAN_PURPOSE', axis = 1)\n",
    "\n",
    "previous_applicationEncoding['NAME_CONTRACT_STATUS'] = previous_applicationEncoding['NAME_CONTRACT_STATUS'].fillna(\"Unknown\")\n",
    "le.fit(previous_applicationEncoding['NAME_CONTRACT_STATUS'])\n",
    "le.classes_\n",
    "previous_applicationEncoding['PREV_NAME_CONTRACT_STATUS'] = le.transform(previous_applicationEncoding['NAME_CONTRACT_STATUS'])\n",
    "previous_applicationEncoding = previous_applicationEncoding.drop('NAME_CONTRACT_STATUS', axis = 1)\n",
    "\n",
    "previous_applicationEncoding['NAME_PAYMENT_TYPE'] = previous_applicationEncoding['NAME_PAYMENT_TYPE'].fillna(\"Unknown\")\n",
    "le.fit(previous_applicationEncoding['NAME_PAYMENT_TYPE'])\n",
    "le.classes_\n",
    "previous_applicationEncoding['PREV_NAME_PAYMENT_TYPE'] = le.transform(previous_applicationEncoding['NAME_PAYMENT_TYPE'])\n",
    "previous_applicationEncoding = previous_applicationEncoding.drop('NAME_PAYMENT_TYPE', axis = 1)\n",
    "\n",
    "previous_applicationEncoding['CODE_REJECT_REASON'] = previous_applicationEncoding['CODE_REJECT_REASON'].fillna(\"Unknown\")\n",
    "le.fit(previous_applicationEncoding['CODE_REJECT_REASON'])\n",
    "le.classes_\n",
    "previous_applicationEncoding['PREV_CODE_REJECT_REASON'] = le.transform(previous_applicationEncoding['CODE_REJECT_REASON'])\n",
    "previous_applicationEncoding = previous_applicationEncoding.drop('CODE_REJECT_REASON', axis = 1)\n",
    "\n",
    "previous_applicationEncoding['NAME_TYPE_SUITE'] = previous_applicationEncoding['NAME_TYPE_SUITE'].fillna(\"Unknown\")\n",
    "le.fit(previous_applicationEncoding['NAME_TYPE_SUITE'])\n",
    "le.classes_\n",
    "previous_applicationEncoding['PREV_NAME_TYPE_SUITE'] = le.transform(previous_applicationEncoding['NAME_TYPE_SUITE'])\n",
    "previous_applicationEncoding = previous_applicationEncoding.drop('NAME_TYPE_SUITE', axis = 1)\n",
    "\n",
    "previous_applicationEncoding['NAME_CLIENT_TYPE'] = previous_applicationEncoding['NAME_CLIENT_TYPE'].fillna(\"Unknown\")\n",
    "le.fit(previous_applicationEncoding['NAME_CLIENT_TYPE'])\n",
    "le.classes_\n",
    "previous_applicationEncoding['PREV_NAME_CLIENT_TYPE'] = le.transform(previous_applicationEncoding['NAME_CLIENT_TYPE'])\n",
    "previous_applicationEncoding = previous_applicationEncoding.drop('NAME_CLIENT_TYPE', axis = 1)\n",
    "\n",
    "previous_applicationEncoding['NAME_GOODS_CATEGORY'] = previous_applicationEncoding['NAME_GOODS_CATEGORY'].fillna(\"Unknown\")\n",
    "le.fit(previous_applicationEncoding['NAME_GOODS_CATEGORY'])\n",
    "le.classes_\n",
    "previous_applicationEncoding['PREV_NAME_GOODS_CATEGORY'] = le.transform(previous_applicationEncoding['NAME_GOODS_CATEGORY'])\n",
    "previous_applicationEncoding = previous_applicationEncoding.drop('NAME_GOODS_CATEGORY', axis = 1)\n",
    "\n",
    "previous_applicationEncoding['NAME_PORTFOLIO'] = previous_applicationEncoding['NAME_PORTFOLIO'].fillna(\"Unknown\")\n",
    "le.fit(previous_applicationEncoding['NAME_PORTFOLIO'])\n",
    "le.classes_\n",
    "previous_applicationEncoding['PREV_NAME_PORTFOLIO'] = le.transform(previous_applicationEncoding['NAME_PORTFOLIO'])\n",
    "previous_applicationEncoding = previous_applicationEncoding.drop('NAME_PORTFOLIO', axis = 1)\n",
    "\n",
    "previous_applicationEncoding['NAME_PRODUCT_TYPE'] = previous_applicationEncoding['NAME_PRODUCT_TYPE'].fillna(\"Unknown\")\n",
    "le.fit(previous_applicationEncoding['NAME_PRODUCT_TYPE'])\n",
    "le.classes_\n",
    "previous_applicationEncoding['PREV_NAME_PRODUCT_TYPE'] = le.transform(previous_applicationEncoding['NAME_PRODUCT_TYPE'])\n",
    "previous_applicationEncoding = previous_applicationEncoding.drop('NAME_PRODUCT_TYPE', axis = 1)\n",
    "\n",
    "previous_applicationEncoding['CHANNEL_TYPE'] = previous_applicationEncoding['CHANNEL_TYPE'].fillna(\"Unknown\")\n",
    "le.fit(previous_applicationEncoding['CHANNEL_TYPE'])\n",
    "le.classes_\n",
    "previous_applicationEncoding['PREV_CHANNEL_TYPE'] = le.transform(previous_applicationEncoding['CHANNEL_TYPE'])\n",
    "previous_applicationEncoding = previous_applicationEncoding.drop('CHANNEL_TYPE', axis = 1)\n",
    "\n",
    "previous_applicationEncoding['NAME_YIELD_GROUP'] = previous_applicationEncoding['NAME_YIELD_GROUP'].fillna(\"Unknown\")\n",
    "le.fit(previous_applicationEncoding['NAME_YIELD_GROUP'])\n",
    "le.classes_\n",
    "previous_applicationEncoding['PREV_NAME_YIELD_GROUP'] = le.transform(previous_applicationEncoding['NAME_YIELD_GROUP'])\n",
    "previous_applicationEncoding = previous_applicationEncoding.drop('NAME_YIELD_GROUP', axis = 1)\n",
    "\n",
    "previous_applicationEncoding['PRODUCT_COMBINATION'] = previous_applicationEncoding['PRODUCT_COMBINATION'].fillna(\"Unknown\")\n",
    "le.fit(previous_applicationEncoding['PRODUCT_COMBINATION'])\n",
    "le.classes_\n",
    "previous_applicationEncoding['PREV_PRODUCT_COMBINATION'] = le.transform(previous_applicationEncoding['PRODUCT_COMBINATION'])\n",
    "previous_applicationEncoding = previous_applicationEncoding.drop('PRODUCT_COMBINATION', axis = 1)\n",
    "\n",
    "previous_applicationEncoding['NAME_SELLER_INDUSTRY'] = previous_applicationEncoding['NAME_SELLER_INDUSTRY'].fillna(\"Unknown\")\n",
    "le.fit(previous_applicationEncoding['NAME_SELLER_INDUSTRY'])\n",
    "le.classes_\n",
    "previous_applicationEncoding['PREV_NAME_SELLER_INDUSTRY'] = le.transform(previous_applicationEncoding['NAME_SELLER_INDUSTRY'])\n",
    "previous_applicationEncoding = previous_applicationEncoding.drop('NAME_SELLER_INDUSTRY', axis = 1)\n"
   ]
  },
  {
   "cell_type": "code",
   "execution_count": null,
   "metadata": {},
   "outputs": [],
   "source": [
    "previous_applicationEncoding_summarise = previous_applicationEncoding.groupby(['SK_ID_CURR']).mean().reset_index()"
   ]
  },
  {
   "cell_type": "markdown",
   "metadata": {},
   "source": [
    "## Counting"
   ]
  },
  {
   "cell_type": "code",
   "execution_count": null,
   "metadata": {},
   "outputs": [],
   "source": [
    "bureauCount = bureau[['SK_ID_CURR','SK_ID_BUREAU']].groupby('SK_ID_CURR').count().reset_index()\n",
    "prevCount = previous_application[['SK_ID_CURR', 'SK_ID_PREV']].groupby('SK_ID_CURR').count().reset_index()"
   ]
  },
  {
   "cell_type": "code",
   "execution_count": null,
   "metadata": {},
   "outputs": [],
   "source": [
    "prevCount.head()"
   ]
  },
  {
   "cell_type": "markdown",
   "metadata": {},
   "source": [
    "## Merging - Numeric"
   ]
  },
  {
   "cell_type": "code",
   "execution_count": null,
   "metadata": {},
   "outputs": [],
   "source": [
    "trainData = trainCopy.merge(bureau_summarise, on = 'SK_ID_CURR', how = \"left\")"
   ]
  },
  {
   "cell_type": "code",
   "execution_count": null,
   "metadata": {},
   "outputs": [],
   "source": [
    "len(trainData)"
   ]
  },
  {
   "cell_type": "code",
   "execution_count": null,
   "metadata": {},
   "outputs": [],
   "source": [
    "trainData = trainData.merge(credit_card_bal_summarise, on = 'SK_ID_CURR', how = 'left')"
   ]
  },
  {
   "cell_type": "code",
   "execution_count": null,
   "metadata": {},
   "outputs": [],
   "source": [
    "trainData = trainData.merge(installment_payments_summarise, on = 'SK_ID_CURR', how = 'left')"
   ]
  },
  {
   "cell_type": "code",
   "execution_count": null,
   "metadata": {},
   "outputs": [],
   "source": [
    "trainData.head()"
   ]
  },
  {
   "cell_type": "code",
   "execution_count": null,
   "metadata": {},
   "outputs": [],
   "source": [
    "trainData = trainData.merge(pos_cash_bal_summarise, on = 'SK_ID_CURR', how = 'left')"
   ]
  },
  {
   "cell_type": "code",
   "execution_count": null,
   "metadata": {},
   "outputs": [],
   "source": [
    "trainData = trainData.merge(bureau_bal_summarise, on = 'SK_ID_CURR', how = 'left')"
   ]
  },
  {
   "cell_type": "code",
   "execution_count": null,
   "metadata": {},
   "outputs": [],
   "source": [
    "trainData = trainData.merge(previous_application_summarise, on = 'SK_ID_CURR', how = 'left')"
   ]
  },
  {
   "cell_type": "markdown",
   "metadata": {},
   "source": [
    "## Merging - Labels"
   ]
  },
  {
   "cell_type": "code",
   "execution_count": null,
   "metadata": {},
   "outputs": [],
   "source": [
    "trainData = trainData.merge(bureau_encoding_summarise, on = 'SK_ID_CURR', how = 'left')"
   ]
  },
  {
   "cell_type": "code",
   "execution_count": null,
   "metadata": {},
   "outputs": [],
   "source": [
    "trainData = trainData.merge(bureau_bal_encoding_summaries, on = 'SK_ID_CURR', how = 'left')"
   ]
  },
  {
   "cell_type": "code",
   "execution_count": null,
   "metadata": {},
   "outputs": [],
   "source": [
    "trainData = trainData.merge(credit_card_bal_encoding_summaries, on = 'SK_ID_CURR', how = 'left')"
   ]
  },
  {
   "cell_type": "code",
   "execution_count": null,
   "metadata": {},
   "outputs": [],
   "source": [
    "trainData = trainData.merge(pos_cash_bal_encoding_summarise, on = 'SK_ID_CURR', how = 'left')"
   ]
  },
  {
   "cell_type": "code",
   "execution_count": null,
   "metadata": {},
   "outputs": [],
   "source": [
    "trainData = trainData.merge(previous_applicationEncoding_summarise, on = 'SK_ID_CURR', how = 'left')"
   ]
  },
  {
   "cell_type": "code",
   "execution_count": null,
   "metadata": {},
   "outputs": [],
   "source": [
    "trainData.head()"
   ]
  },
  {
   "cell_type": "markdown",
   "metadata": {},
   "source": [
    "## Merging Counts"
   ]
  },
  {
   "cell_type": "code",
   "execution_count": null,
   "metadata": {},
   "outputs": [],
   "source": [
    "trainData = trainData.merge(bureauCount, on = 'SK_ID_CURR', how = 'left')"
   ]
  },
  {
   "cell_type": "code",
   "execution_count": null,
   "metadata": {},
   "outputs": [],
   "source": [
    "trainData = trainData.merge(prevCount, on = 'SK_ID_CURR', how = 'left')"
   ]
  },
  {
   "cell_type": "code",
   "execution_count": null,
   "metadata": {},
   "outputs": [],
   "source": [
    "trainData.head()"
   ]
  },
  {
   "cell_type": "markdown",
   "metadata": {},
   "source": [
    "## Saving File"
   ]
  },
  {
   "cell_type": "code",
   "execution_count": null,
   "metadata": {},
   "outputs": [],
   "source": [
    "trainData.to_csv(\"TrainDataFeaturesV6Count.csv\", index_label=False)"
   ]
  },
  {
   "cell_type": "code",
   "execution_count": null,
   "metadata": {},
   "outputs": [],
   "source": [
    "#chk = pd.read_csv(\"TrainDataFeatures.csv\")"
   ]
  },
  {
   "cell_type": "code",
   "execution_count": null,
   "metadata": {},
   "outputs": [],
   "source": [
    "#chk.head()"
   ]
  },
  {
   "cell_type": "code",
   "execution_count": null,
   "metadata": {},
   "outputs": [],
   "source": [
    "#trainData = trainData.fillna(-999999)"
   ]
  },
  {
   "cell_type": "code",
   "execution_count": null,
   "metadata": {},
   "outputs": [],
   "source": [
    "#from xgboost import XGBClassifier"
   ]
  },
  {
   "cell_type": "code",
   "execution_count": null,
   "metadata": {},
   "outputs": [],
   "source": [
    "#X = trainData.iloc[:,2:380]\n",
    "#Y = trainData.iloc[:,1]"
   ]
  },
  {
   "cell_type": "code",
   "execution_count": null,
   "metadata": {},
   "outputs": [],
   "source": [
    "#X.head()"
   ]
  },
  {
   "cell_type": "code",
   "execution_count": null,
   "metadata": {},
   "outputs": [],
   "source": [
    "#model = XGBClassifier()"
   ]
  },
  {
   "cell_type": "code",
   "execution_count": null,
   "metadata": {
    "scrolled": true
   },
   "outputs": [],
   "source": [
    "#import xgboost as xgb\n",
    "#dtrain = xgb.DMatrix(X.values, label=Y.values, missing=-9999.0)"
   ]
  },
  {
   "cell_type": "code",
   "execution_count": null,
   "metadata": {},
   "outputs": [],
   "source": [
    "#x = trainData.dtypes\n",
    "#x.to_csv(\"dtypeTrainData.csv\")"
   ]
  },
  {
   "cell_type": "code",
   "execution_count": null,
   "metadata": {},
   "outputs": [],
   "source": [
    "#trainData['EMERGENCYSTATE_MODE']"
   ]
  },
  {
   "cell_type": "code",
   "execution_count": null,
   "metadata": {},
   "outputs": [],
   "source": [
    "#model.fit(dtrain)"
   ]
  },
  {
   "cell_type": "code",
   "execution_count": null,
   "metadata": {},
   "outputs": [],
   "source": [
    "#xgb.train(dtrain)\n"
   ]
  },
  {
   "cell_type": "code",
   "execution_count": null,
   "metadata": {},
   "outputs": [],
   "source": [
    "#def modelfit(alg, dtrain, predictors,useTrainCV=True, cv_folds=2, early_stopping_rounds=50):\n",
    "    \n",
    "#    if useTrainCV:\n",
    "#        xgb_param = alg.get_xgb_params()\n",
    "#        xgtrain = xgb.DMatrix(dtrain[predictors].values, label=dtrain[target].values)\n",
    "#        cvresult = xgb.cv(xgb_param, xgtrain, num_boost_round=alg.get_params()['n_estimators'], nfold=cv_folds,\n",
    "#            metrics='auc', early_stopping_rounds=early_stopping_rounds, verbose_eval = True)\n",
    "#        alg.set_params(n_estimators=cvresult.shape[0])\n",
    "    \n",
    "    #Fit the algorithm on the data\n",
    "#    alg.fit(dtrain[predictors], dtrain['TARGET'],eval_metric='auc')\n",
    "        \n",
    "    #Predict training set:\n",
    "#    dtrain_predictions = alg.predict(dtrain[predictors])\n",
    "#    dtrain_predprob = alg.predict_proba(dtrain[predictors])[:,1]\n",
    "        \n",
    "    #Print model report:\n",
    "#    print(\"\\nModel Report\")\n",
    "#    print(\"Accuracy : %.4g\" % metrics.accuracy_score(dtrain['TARGET'].values, dtrain_predictions))\n",
    "#    print(\"AUC Score (Train): %f\" % metrics.roc_auc_score(dtrain['TARGET'], dtrain_predprob))\n",
    "                    \n",
    "#    feat_imp = pd.Series(alg.booster().get_fscore()).sort_values(ascending=False)\n",
    "#    feat_imp.plot(kind='bar', title='Feature Importances')\n",
    "#    plt.ylabel('Feature Importance Score')"
   ]
  },
  {
   "cell_type": "code",
   "execution_count": null,
   "metadata": {},
   "outputs": [],
   "source": [
    "#target = 'TARGET'\n",
    "#SK_ID_CURR = 'SK_ID_CURR'\n",
    "#predictors = [x for x in trainData.columns if x not in [target, SK_ID_CURR]]"
   ]
  },
  {
   "cell_type": "code",
   "execution_count": null,
   "metadata": {},
   "outputs": [],
   "source": [
    "#xgb1 = XGBClassifier(\n",
    "# learning_rate =0.01,\n",
    "# n_estimators=1000,\n",
    "# max_depth=5,\n",
    "# min_child_weight=1,\n",
    "# gamma=0,\n",
    "# subsample=0.8,\n",
    "# colsample_bytree=0.8,\n",
    "# objective= 'binary:logistic',\n",
    "# nthread=4,\n",
    "# scale_pos_weight=1,\n",
    "# seed=27)"
   ]
  },
  {
   "cell_type": "code",
   "execution_count": null,
   "metadata": {
    "scrolled": true
   },
   "outputs": [],
   "source": [
    "#from sklearn import cross_validation, metrics   #Additional scklearn functions\n",
    "#from sklearn.grid_search import GridSearchCV   #Perforing grid search\n",
    "#modelfit(xgb1, trainData, predictors)"
   ]
  },
  {
   "cell_type": "code",
   "execution_count": null,
   "metadata": {},
   "outputs": [],
   "source": [
    "#predictions = xgb1.predict_proba(testData[predictors])[:,1]"
   ]
  },
  {
   "cell_type": "code",
   "execution_count": null,
   "metadata": {},
   "outputs": [],
   "source": [
    "#(predictions)"
   ]
  },
  {
   "cell_type": "code",
   "execution_count": null,
   "metadata": {},
   "outputs": [],
   "source": [
    "#sample_application['TARGET'] = predictions"
   ]
  },
  {
   "cell_type": "code",
   "execution_count": null,
   "metadata": {
    "scrolled": true
   },
   "outputs": [],
   "source": [
    "#sample_application.to_csv(\"Submission2_Prob.csv\", index_label=False)"
   ]
  },
  {
   "cell_type": "markdown",
   "metadata": {},
   "source": [
    "### Test"
   ]
  },
  {
   "cell_type": "code",
   "execution_count": null,
   "metadata": {},
   "outputs": [],
   "source": [
    "testCopy = test.copy()\n",
    "traintestCopy = train.copy()"
   ]
  },
  {
   "cell_type": "code",
   "execution_count": null,
   "metadata": {},
   "outputs": [],
   "source": [
    "from sklearn import preprocessing\n",
    "le = preprocessing.LabelEncoder()\n",
    "\n",
    "testCopy['NAME_CONTRACT_TYPE'] = testCopy['NAME_CONTRACT_TYPE'].fillna(\"Unknown\")\n",
    "traintestCopy['NAME_CONTRACT_TYPE'] = traintestCopy['NAME_CONTRACT_TYPE'].fillna(\"Unknown\")\n",
    "le.fit(traintestCopy['NAME_CONTRACT_TYPE'])\n",
    "le.classes_\n",
    "testCopy['NAME_CONTRACT_TYPE'] = le.transform(testCopy['NAME_CONTRACT_TYPE'])\n",
    "\n",
    "\n",
    "testCopy['CODE_GENDER'] = testCopy['CODE_GENDER'].fillna(\"Unknown\")\n",
    "traintestCopy['CODE_GENDER'] = traintestCopy['CODE_GENDER'].fillna(\"Unknown\")\n",
    "le.fit(traintestCopy['CODE_GENDER'])\n",
    "le.classes_\n",
    "testCopy['CODE_GENDER'] = le.transform(testCopy['CODE_GENDER'])\n",
    "\n",
    "\n",
    "testCopy['FLAG_OWN_CAR'] = testCopy['FLAG_OWN_CAR'].fillna(\"Unknown\")\n",
    "traintestCopy['FLAG_OWN_CAR'] = traintestCopy['FLAG_OWN_CAR'].fillna(\"Unknown\")\n",
    "le.fit(traintestCopy['FLAG_OWN_CAR'])\n",
    "le.classes_\n",
    "testCopy['FLAG_OWN_CAR'] = le.transform(testCopy['FLAG_OWN_CAR'])\n",
    "\n",
    "\n",
    "testCopy['FLAG_OWN_REALTY'] = testCopy['FLAG_OWN_REALTY'].fillna(\"Unknown\")\n",
    "traintestCopy['FLAG_OWN_REALTY'] = traintestCopy['FLAG_OWN_REALTY'].fillna(\"Unknown\")\n",
    "le.fit(traintestCopy['FLAG_OWN_REALTY'])\n",
    "le.classes_\n",
    "testCopy['FLAG_OWN_REALTY'] = le.transform(testCopy['FLAG_OWN_REALTY'])\n",
    "\n",
    "\n",
    "testCopy['NAME_TYPE_SUITE'] = testCopy['NAME_TYPE_SUITE'].fillna(\"Unknown\")\n",
    "traintestCopy['NAME_TYPE_SUITE'] = traintestCopy['NAME_TYPE_SUITE'].fillna(\"Unknown\")\n",
    "le.fit(traintestCopy['NAME_TYPE_SUITE'])\n",
    "le.classes_\n",
    "testCopy['NAME_TYPE_SUITE'] = le.transform(testCopy['NAME_TYPE_SUITE'])\n",
    "\n",
    "\n",
    "testCopy['NAME_INCOME_TYPE'] = testCopy['NAME_INCOME_TYPE'].fillna(\"Unknown\")\n",
    "traintestCopy['NAME_INCOME_TYPE'] = traintestCopy['NAME_INCOME_TYPE'].fillna(\"Unknown\")\n",
    "le.fit(traintestCopy['NAME_INCOME_TYPE'])\n",
    "le.classes_\n",
    "testCopy['NAME_INCOME_TYPE'] = le.transform(testCopy['NAME_INCOME_TYPE'])\n",
    "\n",
    "\n",
    "testCopy['NAME_EDUCATION_TYPE'] = testCopy['NAME_EDUCATION_TYPE'].fillna(\"Unknown\")\n",
    "traintestCopy['NAME_EDUCATION_TYPE'] = traintestCopy['NAME_EDUCATION_TYPE'].fillna(\"Unknown\")\n",
    "le.fit(traintestCopy['NAME_EDUCATION_TYPE'])\n",
    "le.classes_\n",
    "testCopy['NAME_EDUCATION_TYPE'] = le.transform(testCopy['NAME_EDUCATION_TYPE'])\n",
    "\n",
    "\n",
    "testCopy['NAME_FAMILY_STATUS'] = testCopy['NAME_FAMILY_STATUS'].fillna(\"Unknown\")\n",
    "traintestCopy['NAME_FAMILY_STATUS'] = traintestCopy['NAME_FAMILY_STATUS'].fillna(\"Unknown\")\n",
    "le.fit(traintestCopy['NAME_FAMILY_STATUS'])\n",
    "le.classes_\n",
    "testCopy['NAME_FAMILY_STATUS'] = le.transform(testCopy['NAME_FAMILY_STATUS'])\n",
    "\n",
    "\n",
    "testCopy['NAME_HOUSING_TYPE'] = testCopy['NAME_HOUSING_TYPE'].fillna(\"Unknown\")\n",
    "traintestCopy['NAME_HOUSING_TYPE'] = traintestCopy['NAME_HOUSING_TYPE'].fillna(\"Unknown\")\n",
    "le.fit(traintestCopy['NAME_HOUSING_TYPE'])\n",
    "le.classes_\n",
    "testCopy['NAME_HOUSING_TYPE'] = le.transform(testCopy['NAME_HOUSING_TYPE'])\n",
    "\n",
    "\n",
    "testCopy['OCCUPATION_TYPE'] = testCopy['OCCUPATION_TYPE'].fillna(\"Unknown\")\n",
    "traintestCopy['OCCUPATION_TYPE'] = traintestCopy['OCCUPATION_TYPE'].fillna(\"Unknown\")\n",
    "le.fit(traintestCopy['OCCUPATION_TYPE'])\n",
    "le.classes_\n",
    "testCopy['OCCUPATION_TYPE'] = le.transform(testCopy['OCCUPATION_TYPE'])\n",
    "\n",
    "\n",
    "testCopy['ORGANIZATION_TYPE'] = testCopy['ORGANIZATION_TYPE'].fillna(\"Unknown\")\n",
    "traintestCopy['ORGANIZATION_TYPE'] = traintestCopy['ORGANIZATION_TYPE'].fillna(\"Unknown\")\n",
    "le.fit(traintestCopy['ORGANIZATION_TYPE'])\n",
    "le.classes_\n",
    "testCopy['ORGANIZATION_TYPE'] = le.transform(testCopy['ORGANIZATION_TYPE'])\n",
    "\n",
    "\n",
    "testCopy['WEEKDAY_APPR_PROCESS_START'] = testCopy['WEEKDAY_APPR_PROCESS_START'].fillna(\"Unknown\")\n",
    "traintestCopy['WEEKDAY_APPR_PROCESS_START'] = traintestCopy['WEEKDAY_APPR_PROCESS_START'].fillna(\"Unknown\")\n",
    "le.fit(traintestCopy['WEEKDAY_APPR_PROCESS_START'])\n",
    "le.classes_\n",
    "testCopy['WEEKDAY_APPR_PROCESS_START'] = le.transform(testCopy['WEEKDAY_APPR_PROCESS_START'])\n",
    "\n",
    "\n",
    "testCopy['FONDKAPREMONT_MODE'] = testCopy['FONDKAPREMONT_MODE'].fillna(\"Unknown\")\n",
    "traintestCopy['FONDKAPREMONT_MODE'] = traintestCopy['FONDKAPREMONT_MODE'].fillna(\"Unknown\")\n",
    "le.fit(traintestCopy['FONDKAPREMONT_MODE'])\n",
    "le.classes_\n",
    "testCopy['FONDKAPREMONT_MODE'] = le.transform(testCopy['FONDKAPREMONT_MODE'])\n",
    "\n",
    "\n",
    "testCopy['HOUSETYPE_MODE'] = testCopy['HOUSETYPE_MODE'].fillna(\"Unknown\")\n",
    "traintestCopy['HOUSETYPE_MODE'] = traintestCopy['HOUSETYPE_MODE'].fillna(\"Unknown\")\n",
    "le.fit(traintestCopy['HOUSETYPE_MODE'])\n",
    "le.classes_\n",
    "testCopy['HOUSETYPE_MODE'] = le.transform(testCopy['HOUSETYPE_MODE'])\n",
    "\n",
    "\n",
    "testCopy['WALLSMATERIAL_MODE'] = testCopy['WALLSMATERIAL_MODE'].fillna(\"Unknown\")\n",
    "traintestCopy['WALLSMATERIAL_MODE'] = traintestCopy['WALLSMATERIAL_MODE'].fillna(\"Unknown\")\n",
    "le.fit(traintestCopy['WALLSMATERIAL_MODE'])\n",
    "le.classes_\n",
    "testCopy['WALLSMATERIAL_MODE'] = le.transform(testCopy['WALLSMATERIAL_MODE'])\n",
    "\n",
    "\n",
    "testCopy['EMERGENCYSTATE_MODE'] = testCopy['EMERGENCYSTATE_MODE'].fillna(\"Unknown\")\n",
    "traintestCopy['EMERGENCYSTATE_MODE'] = traintestCopy['EMERGENCYSTATE_MODE'].fillna(\"Unknown\")\n",
    "le.fit(traintestCopy['EMERGENCYSTATE_MODE'])\n",
    "le.classes_\n",
    "testCopy['EMERGENCYSTATE_MODE'] = le.transform(testCopy['EMERGENCYSTATE_MODE'])"
   ]
  },
  {
   "cell_type": "code",
   "execution_count": null,
   "metadata": {},
   "outputs": [],
   "source": [
    "#len(testCopy)"
   ]
  },
  {
   "cell_type": "code",
   "execution_count": null,
   "metadata": {},
   "outputs": [],
   "source": [
    "#len(testData)"
   ]
  },
  {
   "cell_type": "code",
   "execution_count": null,
   "metadata": {},
   "outputs": [],
   "source": [
    "testData = testCopy.merge(bureau_summarise, on = 'SK_ID_CURR', how = \"left\")"
   ]
  },
  {
   "cell_type": "code",
   "execution_count": null,
   "metadata": {},
   "outputs": [],
   "source": [
    "testData = testData.merge(credit_card_bal_summarise, on = 'SK_ID_CURR', how = 'left')"
   ]
  },
  {
   "cell_type": "code",
   "execution_count": null,
   "metadata": {},
   "outputs": [],
   "source": [
    "testData = testData.merge(installment_payments_summarise, on = 'SK_ID_CURR', how = 'left')"
   ]
  },
  {
   "cell_type": "code",
   "execution_count": null,
   "metadata": {},
   "outputs": [],
   "source": [
    "testData = testData.merge(pos_cash_bal_summarise, on = 'SK_ID_CURR', how = 'left')"
   ]
  },
  {
   "cell_type": "code",
   "execution_count": null,
   "metadata": {},
   "outputs": [],
   "source": [
    "testData = testData.merge(bureau_bal_summarise, on = 'SK_ID_CURR', how = 'left')"
   ]
  },
  {
   "cell_type": "code",
   "execution_count": null,
   "metadata": {},
   "outputs": [],
   "source": [
    "testData = testData.merge(previous_application_summarise, on = 'SK_ID_CURR', how = 'left')"
   ]
  },
  {
   "cell_type": "code",
   "execution_count": null,
   "metadata": {},
   "outputs": [],
   "source": [
    "testData.head()"
   ]
  },
  {
   "cell_type": "code",
   "execution_count": null,
   "metadata": {},
   "outputs": [],
   "source": [
    "testData = testData.merge(bureau_encoding_summarise, on = 'SK_ID_CURR', how = 'left')"
   ]
  },
  {
   "cell_type": "code",
   "execution_count": null,
   "metadata": {},
   "outputs": [],
   "source": [
    "testData = testData.merge(bureau_bal_encoding_summaries, on = 'SK_ID_CURR', how = 'left')"
   ]
  },
  {
   "cell_type": "code",
   "execution_count": null,
   "metadata": {},
   "outputs": [],
   "source": [
    "testData = testData.merge(credit_card_bal_encoding_summaries, on = 'SK_ID_CURR', how = 'left')"
   ]
  },
  {
   "cell_type": "code",
   "execution_count": null,
   "metadata": {},
   "outputs": [],
   "source": [
    "testData = testData.merge(pos_cash_bal_encoding_summarise, on = 'SK_ID_CURR', how = 'left')"
   ]
  },
  {
   "cell_type": "code",
   "execution_count": null,
   "metadata": {},
   "outputs": [],
   "source": [
    "testData = testData.merge(previous_applicationEncoding_summarise, on = 'SK_ID_CURR', how = 'left')"
   ]
  },
  {
   "cell_type": "code",
   "execution_count": null,
   "metadata": {},
   "outputs": [],
   "source": [
    "testData = testData.merge(bureauCount, on = 'SK_ID_CURR', how = 'left')"
   ]
  },
  {
   "cell_type": "code",
   "execution_count": null,
   "metadata": {},
   "outputs": [],
   "source": [
    "testData = testData.merge(prevCount, on = 'SK_ID_CURR', how = 'left')"
   ]
  },
  {
   "cell_type": "code",
   "execution_count": null,
   "metadata": {},
   "outputs": [],
   "source": [
    "testData.to_csv(\"testDataFeaturesV3Count.csv\", index_label=False)"
   ]
  },
  {
   "cell_type": "markdown",
   "metadata": {},
   "source": [
    "## Modelling - XGBoost"
   ]
  },
  {
   "cell_type": "code",
   "execution_count": null,
   "metadata": {},
   "outputs": [],
   "source": [
    "trainData = trainData.fillna(-99999)\n",
    "testData = testData.fillna(-99999)"
   ]
  },
  {
   "cell_type": "code",
   "execution_count": null,
   "metadata": {},
   "outputs": [],
   "source": [
    "target = 'TARGET'\n",
    "SK_ID_CURR = 'SK_ID_CURR'\n",
    "predictors = [x for x in trainData.columns if x not in [target, SK_ID_CURR]]"
   ]
  },
  {
   "cell_type": "code",
   "execution_count": null,
   "metadata": {},
   "outputs": [],
   "source": [
    "from sklearn import preprocessing\n",
    "from sklearn.cross_validation import train_test_split\n",
    "import xgboost as xgb\n",
    "from sklearn.cross_validation import *\n",
    "from sklearn.grid_search import GridSearchCV"
   ]
  },
  {
   "cell_type": "code",
   "execution_count": null,
   "metadata": {},
   "outputs": [],
   "source": [
    "xgb_model = xgb.XGBClassifier()"
   ]
  },
  {
   "cell_type": "code",
   "execution_count": null,
   "metadata": {},
   "outputs": [],
   "source": [
    "parameters = {'nthread':[4], #when use hyperthread, xgboost may become slower\n",
    "              'objective':['binary:logistic'],\n",
    "              'learning_rate': [0.05], #so called `eta` value\n",
    "              'max_depth': [6],\n",
    "              'min_child_weight': [11],\n",
    "              'silent': [1],\n",
    "              'subsample': [0.8],\n",
    "              'colsample_bytree': [0.7],\n",
    "              'n_estimators': [1000], #number of trees, change it to 1000 for better results\n",
    "              'missing':[-99999],\n",
    "              'seed': [1337]}"
   ]
  },
  {
   "cell_type": "code",
   "execution_count": null,
   "metadata": {},
   "outputs": [],
   "source": [
    "clf = GridSearchCV(xgb_model, parameters, n_jobs=5, \n",
    "                   cv=StratifiedKFold(trainData['TARGET'], n_folds=5, shuffle=True), \n",
    "                   scoring='roc_auc',\n",
    "                   verbose=100, refit=True)"
   ]
  },
  {
   "cell_type": "code",
   "execution_count": null,
   "metadata": {},
   "outputs": [],
   "source": [
    "clf.fit(trainData[predictors], trainData[target])"
   ]
  },
  {
   "cell_type": "code",
   "execution_count": null,
   "metadata": {},
   "outputs": [],
   "source": [
    "best_parameters, score, _ = max(clf.grid_scores_, key=lambda x: x[1])\n",
    "print('Raw AUC score:', score)\n",
    "for param_name in sorted(best_parameters.keys()):\n",
    "    print(\"%s: %r\" % (param_name, best_parameters[param_name]))"
   ]
  },
  {
   "cell_type": "code",
   "execution_count": null,
   "metadata": {},
   "outputs": [],
   "source": [
    "test_probs = clf.predict_proba(testData[predictors])[:,1]"
   ]
  },
  {
   "cell_type": "code",
   "execution_count": null,
   "metadata": {},
   "outputs": [],
   "source": [
    "sample_application['TARGET'] = test_probs"
   ]
  },
  {
   "cell_type": "code",
   "execution_count": null,
   "metadata": {},
   "outputs": [],
   "source": [
    "sample_application.to_csv(\"Submission3_Prob.csv\")"
   ]
  },
  {
   "cell_type": "code",
   "execution_count": null,
   "metadata": {},
   "outputs": [],
   "source": [
    "sample_application.head()"
   ]
  },
  {
   "cell_type": "markdown",
   "metadata": {},
   "source": [
    "## Modelling - LightGBM"
   ]
  },
  {
   "cell_type": "code",
   "execution_count": 1,
   "metadata": {},
   "outputs": [],
   "source": [
    "import pandas as pd\n",
    "trainData = pd.read_csv(\"TrainDataFeaturesV6Count.csv\")\n",
    "testData = pd.read_csv(\"testDataFeaturesV3Count.csv\")"
   ]
  },
  {
   "cell_type": "code",
   "execution_count": 2,
   "metadata": {},
   "outputs": [],
   "source": [
    "trainData = trainData.fillna(-99999)\n",
    "testData = testData.fillna(-99999)"
   ]
  },
  {
   "cell_type": "code",
   "execution_count": 3,
   "metadata": {},
   "outputs": [
    {
     "data": {
      "text/html": [
       "<div>\n",
       "<style scoped>\n",
       "    .dataframe tbody tr th:only-of-type {\n",
       "        vertical-align: middle;\n",
       "    }\n",
       "\n",
       "    .dataframe tbody tr th {\n",
       "        vertical-align: top;\n",
       "    }\n",
       "\n",
       "    .dataframe thead th {\n",
       "        text-align: right;\n",
       "    }\n",
       "</style>\n",
       "<table border=\"1\" class=\"dataframe\">\n",
       "  <thead>\n",
       "    <tr style=\"text-align: right;\">\n",
       "      <th></th>\n",
       "      <th>SK_ID_CURR</th>\n",
       "      <th>TARGET</th>\n",
       "      <th>NAME_CONTRACT_TYPE</th>\n",
       "      <th>CODE_GENDER</th>\n",
       "      <th>FLAG_OWN_CAR</th>\n",
       "      <th>FLAG_OWN_REALTY</th>\n",
       "      <th>CNT_CHILDREN</th>\n",
       "      <th>AMT_INCOME_TOTAL</th>\n",
       "      <th>AMT_CREDIT</th>\n",
       "      <th>AMT_ANNUITY</th>\n",
       "      <th>...</th>\n",
       "      <th>PREV_NAME_CLIENT_TYPE</th>\n",
       "      <th>PREV_NAME_GOODS_CATEGORY</th>\n",
       "      <th>PREV_NAME_PORTFOLIO</th>\n",
       "      <th>PREV_NAME_PRODUCT_TYPE</th>\n",
       "      <th>PREV_CHANNEL_TYPE</th>\n",
       "      <th>PREV_NAME_YIELD_GROUP</th>\n",
       "      <th>PREV_PRODUCT_COMBINATION</th>\n",
       "      <th>PREV_NAME_SELLER_INDUSTRY</th>\n",
       "      <th>SK_ID_BUREAU</th>\n",
       "      <th>SK_ID_PREV</th>\n",
       "    </tr>\n",
       "  </thead>\n",
       "  <tbody>\n",
       "    <tr>\n",
       "      <th>0</th>\n",
       "      <td>100002</td>\n",
       "      <td>1</td>\n",
       "      <td>0</td>\n",
       "      <td>1</td>\n",
       "      <td>0</td>\n",
       "      <td>1</td>\n",
       "      <td>0</td>\n",
       "      <td>202500.0</td>\n",
       "      <td>406597.5</td>\n",
       "      <td>24700.5</td>\n",
       "      <td>...</td>\n",
       "      <td>0.000000</td>\n",
       "      <td>25.000000</td>\n",
       "      <td>3.000000</td>\n",
       "      <td>0.000000</td>\n",
       "      <td>7.000000</td>\n",
       "      <td>3.000000</td>\n",
       "      <td>15.000000</td>\n",
       "      <td>0.000000</td>\n",
       "      <td>8.0</td>\n",
       "      <td>1.0</td>\n",
       "    </tr>\n",
       "    <tr>\n",
       "      <th>1</th>\n",
       "      <td>100003</td>\n",
       "      <td>0</td>\n",
       "      <td>0</td>\n",
       "      <td>0</td>\n",
       "      <td>0</td>\n",
       "      <td>0</td>\n",
       "      <td>0</td>\n",
       "      <td>270000.0</td>\n",
       "      <td>1293502.5</td>\n",
       "      <td>35698.5</td>\n",
       "      <td>...</td>\n",
       "      <td>1.333333</td>\n",
       "      <td>15.000000</td>\n",
       "      <td>2.666667</td>\n",
       "      <td>0.666667</td>\n",
       "      <td>5.333333</td>\n",
       "      <td>3.666667</td>\n",
       "      <td>9.000000</td>\n",
       "      <td>6.333333</td>\n",
       "      <td>4.0</td>\n",
       "      <td>3.0</td>\n",
       "    </tr>\n",
       "    <tr>\n",
       "      <th>2</th>\n",
       "      <td>100004</td>\n",
       "      <td>0</td>\n",
       "      <td>1</td>\n",
       "      <td>1</td>\n",
       "      <td>1</td>\n",
       "      <td>1</td>\n",
       "      <td>0</td>\n",
       "      <td>67500.0</td>\n",
       "      <td>135000.0</td>\n",
       "      <td>6750.0</td>\n",
       "      <td>...</td>\n",
       "      <td>0.000000</td>\n",
       "      <td>19.000000</td>\n",
       "      <td>3.000000</td>\n",
       "      <td>0.000000</td>\n",
       "      <td>6.000000</td>\n",
       "      <td>4.000000</td>\n",
       "      <td>14.000000</td>\n",
       "      <td>2.000000</td>\n",
       "      <td>2.0</td>\n",
       "      <td>1.0</td>\n",
       "    </tr>\n",
       "    <tr>\n",
       "      <th>3</th>\n",
       "      <td>100006</td>\n",
       "      <td>0</td>\n",
       "      <td>0</td>\n",
       "      <td>0</td>\n",
       "      <td>0</td>\n",
       "      <td>1</td>\n",
       "      <td>0</td>\n",
       "      <td>135000.0</td>\n",
       "      <td>312682.5</td>\n",
       "      <td>29686.5</td>\n",
       "      <td>...</td>\n",
       "      <td>1.777778</td>\n",
       "      <td>21.888889</td>\n",
       "      <td>2.666667</td>\n",
       "      <td>0.888889</td>\n",
       "      <td>5.111111</td>\n",
       "      <td>1.333333</td>\n",
       "      <td>5.000000</td>\n",
       "      <td>8.555556</td>\n",
       "      <td>-99999.0</td>\n",
       "      <td>9.0</td>\n",
       "    </tr>\n",
       "    <tr>\n",
       "      <th>4</th>\n",
       "      <td>100007</td>\n",
       "      <td>0</td>\n",
       "      <td>0</td>\n",
       "      <td>1</td>\n",
       "      <td>0</td>\n",
       "      <td>1</td>\n",
       "      <td>0</td>\n",
       "      <td>121500.0</td>\n",
       "      <td>513000.0</td>\n",
       "      <td>21865.5</td>\n",
       "      <td>...</td>\n",
       "      <td>1.666667</td>\n",
       "      <td>18.666667</td>\n",
       "      <td>2.333333</td>\n",
       "      <td>1.166667</td>\n",
       "      <td>3.833333</td>\n",
       "      <td>2.500000</td>\n",
       "      <td>8.166667</td>\n",
       "      <td>5.666667</td>\n",
       "      <td>1.0</td>\n",
       "      <td>6.0</td>\n",
       "    </tr>\n",
       "  </tbody>\n",
       "</table>\n",
       "<p>5 rows × 382 columns</p>\n",
       "</div>"
      ],
      "text/plain": [
       "   SK_ID_CURR  TARGET  NAME_CONTRACT_TYPE  CODE_GENDER  FLAG_OWN_CAR  \\\n",
       "0      100002       1                   0            1             0   \n",
       "1      100003       0                   0            0             0   \n",
       "2      100004       0                   1            1             1   \n",
       "3      100006       0                   0            0             0   \n",
       "4      100007       0                   0            1             0   \n",
       "\n",
       "   FLAG_OWN_REALTY  CNT_CHILDREN  AMT_INCOME_TOTAL  AMT_CREDIT  AMT_ANNUITY  \\\n",
       "0                1             0          202500.0    406597.5      24700.5   \n",
       "1                0             0          270000.0   1293502.5      35698.5   \n",
       "2                1             0           67500.0    135000.0       6750.0   \n",
       "3                1             0          135000.0    312682.5      29686.5   \n",
       "4                1             0          121500.0    513000.0      21865.5   \n",
       "\n",
       "      ...      PREV_NAME_CLIENT_TYPE  PREV_NAME_GOODS_CATEGORY  \\\n",
       "0     ...                   0.000000                 25.000000   \n",
       "1     ...                   1.333333                 15.000000   \n",
       "2     ...                   0.000000                 19.000000   \n",
       "3     ...                   1.777778                 21.888889   \n",
       "4     ...                   1.666667                 18.666667   \n",
       "\n",
       "   PREV_NAME_PORTFOLIO  PREV_NAME_PRODUCT_TYPE  PREV_CHANNEL_TYPE  \\\n",
       "0             3.000000                0.000000           7.000000   \n",
       "1             2.666667                0.666667           5.333333   \n",
       "2             3.000000                0.000000           6.000000   \n",
       "3             2.666667                0.888889           5.111111   \n",
       "4             2.333333                1.166667           3.833333   \n",
       "\n",
       "   PREV_NAME_YIELD_GROUP  PREV_PRODUCT_COMBINATION  PREV_NAME_SELLER_INDUSTRY  \\\n",
       "0               3.000000                 15.000000                   0.000000   \n",
       "1               3.666667                  9.000000                   6.333333   \n",
       "2               4.000000                 14.000000                   2.000000   \n",
       "3               1.333333                  5.000000                   8.555556   \n",
       "4               2.500000                  8.166667                   5.666667   \n",
       "\n",
       "   SK_ID_BUREAU  SK_ID_PREV  \n",
       "0           8.0         1.0  \n",
       "1           4.0         3.0  \n",
       "2           2.0         1.0  \n",
       "3      -99999.0         9.0  \n",
       "4           1.0         6.0  \n",
       "\n",
       "[5 rows x 382 columns]"
      ]
     },
     "execution_count": 3,
     "metadata": {},
     "output_type": "execute_result"
    }
   ],
   "source": [
    "trainData.head()"
   ]
  },
  {
   "cell_type": "code",
   "execution_count": 4,
   "metadata": {},
   "outputs": [
    {
     "data": {
      "text/html": [
       "<div>\n",
       "<style scoped>\n",
       "    .dataframe tbody tr th:only-of-type {\n",
       "        vertical-align: middle;\n",
       "    }\n",
       "\n",
       "    .dataframe tbody tr th {\n",
       "        vertical-align: top;\n",
       "    }\n",
       "\n",
       "    .dataframe thead th {\n",
       "        text-align: right;\n",
       "    }\n",
       "</style>\n",
       "<table border=\"1\" class=\"dataframe\">\n",
       "  <thead>\n",
       "    <tr style=\"text-align: right;\">\n",
       "      <th></th>\n",
       "      <th>SK_ID_CURR</th>\n",
       "      <th>NAME_CONTRACT_TYPE</th>\n",
       "      <th>CODE_GENDER</th>\n",
       "      <th>FLAG_OWN_CAR</th>\n",
       "      <th>FLAG_OWN_REALTY</th>\n",
       "      <th>CNT_CHILDREN</th>\n",
       "      <th>AMT_INCOME_TOTAL</th>\n",
       "      <th>AMT_CREDIT</th>\n",
       "      <th>AMT_ANNUITY</th>\n",
       "      <th>AMT_GOODS_PRICE</th>\n",
       "      <th>...</th>\n",
       "      <th>PREV_NAME_CLIENT_TYPE</th>\n",
       "      <th>PREV_NAME_GOODS_CATEGORY</th>\n",
       "      <th>PREV_NAME_PORTFOLIO</th>\n",
       "      <th>PREV_NAME_PRODUCT_TYPE</th>\n",
       "      <th>PREV_CHANNEL_TYPE</th>\n",
       "      <th>PREV_NAME_YIELD_GROUP</th>\n",
       "      <th>PREV_PRODUCT_COMBINATION</th>\n",
       "      <th>PREV_NAME_SELLER_INDUSTRY</th>\n",
       "      <th>SK_ID_BUREAU</th>\n",
       "      <th>SK_ID_PREV</th>\n",
       "    </tr>\n",
       "  </thead>\n",
       "  <tbody>\n",
       "    <tr>\n",
       "      <th>0</th>\n",
       "      <td>100001</td>\n",
       "      <td>0</td>\n",
       "      <td>0</td>\n",
       "      <td>0</td>\n",
       "      <td>1</td>\n",
       "      <td>0</td>\n",
       "      <td>135000.0</td>\n",
       "      <td>568800.0</td>\n",
       "      <td>20560.5</td>\n",
       "      <td>450000.0</td>\n",
       "      <td>...</td>\n",
       "      <td>1.0</td>\n",
       "      <td>19.0</td>\n",
       "      <td>3.0</td>\n",
       "      <td>0.0</td>\n",
       "      <td>4.00</td>\n",
       "      <td>1.00</td>\n",
       "      <td>13.0</td>\n",
       "      <td>2.0</td>\n",
       "      <td>7.0</td>\n",
       "      <td>1.0</td>\n",
       "    </tr>\n",
       "    <tr>\n",
       "      <th>1</th>\n",
       "      <td>100005</td>\n",
       "      <td>0</td>\n",
       "      <td>1</td>\n",
       "      <td>0</td>\n",
       "      <td>1</td>\n",
       "      <td>0</td>\n",
       "      <td>99000.0</td>\n",
       "      <td>222768.0</td>\n",
       "      <td>17370.0</td>\n",
       "      <td>180000.0</td>\n",
       "      <td>...</td>\n",
       "      <td>1.0</td>\n",
       "      <td>23.0</td>\n",
       "      <td>3.5</td>\n",
       "      <td>0.0</td>\n",
       "      <td>4.50</td>\n",
       "      <td>0.50</td>\n",
       "      <td>7.5</td>\n",
       "      <td>6.0</td>\n",
       "      <td>3.0</td>\n",
       "      <td>2.0</td>\n",
       "    </tr>\n",
       "    <tr>\n",
       "      <th>2</th>\n",
       "      <td>100013</td>\n",
       "      <td>0</td>\n",
       "      <td>1</td>\n",
       "      <td>1</td>\n",
       "      <td>1</td>\n",
       "      <td>0</td>\n",
       "      <td>202500.0</td>\n",
       "      <td>663264.0</td>\n",
       "      <td>69777.0</td>\n",
       "      <td>630000.0</td>\n",
       "      <td>...</td>\n",
       "      <td>2.0</td>\n",
       "      <td>19.5</td>\n",
       "      <td>3.0</td>\n",
       "      <td>0.5</td>\n",
       "      <td>5.75</td>\n",
       "      <td>2.25</td>\n",
       "      <td>8.0</td>\n",
       "      <td>6.5</td>\n",
       "      <td>4.0</td>\n",
       "      <td>4.0</td>\n",
       "    </tr>\n",
       "    <tr>\n",
       "      <th>3</th>\n",
       "      <td>100028</td>\n",
       "      <td>0</td>\n",
       "      <td>0</td>\n",
       "      <td>0</td>\n",
       "      <td>1</td>\n",
       "      <td>2</td>\n",
       "      <td>315000.0</td>\n",
       "      <td>1575000.0</td>\n",
       "      <td>49018.5</td>\n",
       "      <td>1575000.0</td>\n",
       "      <td>...</td>\n",
       "      <td>1.6</td>\n",
       "      <td>17.0</td>\n",
       "      <td>2.8</td>\n",
       "      <td>0.4</td>\n",
       "      <td>4.00</td>\n",
       "      <td>1.20</td>\n",
       "      <td>7.0</td>\n",
       "      <td>6.0</td>\n",
       "      <td>12.0</td>\n",
       "      <td>5.0</td>\n",
       "    </tr>\n",
       "    <tr>\n",
       "      <th>4</th>\n",
       "      <td>100038</td>\n",
       "      <td>0</td>\n",
       "      <td>1</td>\n",
       "      <td>1</td>\n",
       "      <td>0</td>\n",
       "      <td>1</td>\n",
       "      <td>180000.0</td>\n",
       "      <td>625500.0</td>\n",
       "      <td>32067.0</td>\n",
       "      <td>625500.0</td>\n",
       "      <td>...</td>\n",
       "      <td>0.0</td>\n",
       "      <td>16.0</td>\n",
       "      <td>2.5</td>\n",
       "      <td>1.0</td>\n",
       "      <td>3.50</td>\n",
       "      <td>2.50</td>\n",
       "      <td>10.5</td>\n",
       "      <td>6.0</td>\n",
       "      <td>-99999.0</td>\n",
       "      <td>2.0</td>\n",
       "    </tr>\n",
       "  </tbody>\n",
       "</table>\n",
       "<p>5 rows × 381 columns</p>\n",
       "</div>"
      ],
      "text/plain": [
       "   SK_ID_CURR  NAME_CONTRACT_TYPE  CODE_GENDER  FLAG_OWN_CAR  FLAG_OWN_REALTY  \\\n",
       "0      100001                   0            0             0                1   \n",
       "1      100005                   0            1             0                1   \n",
       "2      100013                   0            1             1                1   \n",
       "3      100028                   0            0             0                1   \n",
       "4      100038                   0            1             1                0   \n",
       "\n",
       "   CNT_CHILDREN  AMT_INCOME_TOTAL  AMT_CREDIT  AMT_ANNUITY  AMT_GOODS_PRICE  \\\n",
       "0             0          135000.0    568800.0      20560.5         450000.0   \n",
       "1             0           99000.0    222768.0      17370.0         180000.0   \n",
       "2             0          202500.0    663264.0      69777.0         630000.0   \n",
       "3             2          315000.0   1575000.0      49018.5        1575000.0   \n",
       "4             1          180000.0    625500.0      32067.0         625500.0   \n",
       "\n",
       "      ...      PREV_NAME_CLIENT_TYPE  PREV_NAME_GOODS_CATEGORY  \\\n",
       "0     ...                        1.0                      19.0   \n",
       "1     ...                        1.0                      23.0   \n",
       "2     ...                        2.0                      19.5   \n",
       "3     ...                        1.6                      17.0   \n",
       "4     ...                        0.0                      16.0   \n",
       "\n",
       "   PREV_NAME_PORTFOLIO  PREV_NAME_PRODUCT_TYPE  PREV_CHANNEL_TYPE  \\\n",
       "0                  3.0                     0.0               4.00   \n",
       "1                  3.5                     0.0               4.50   \n",
       "2                  3.0                     0.5               5.75   \n",
       "3                  2.8                     0.4               4.00   \n",
       "4                  2.5                     1.0               3.50   \n",
       "\n",
       "   PREV_NAME_YIELD_GROUP  PREV_PRODUCT_COMBINATION  PREV_NAME_SELLER_INDUSTRY  \\\n",
       "0                   1.00                      13.0                        2.0   \n",
       "1                   0.50                       7.5                        6.0   \n",
       "2                   2.25                       8.0                        6.5   \n",
       "3                   1.20                       7.0                        6.0   \n",
       "4                   2.50                      10.5                        6.0   \n",
       "\n",
       "   SK_ID_BUREAU  SK_ID_PREV  \n",
       "0           7.0         1.0  \n",
       "1           3.0         2.0  \n",
       "2           4.0         4.0  \n",
       "3          12.0         5.0  \n",
       "4      -99999.0         2.0  \n",
       "\n",
       "[5 rows x 381 columns]"
      ]
     },
     "execution_count": 4,
     "metadata": {},
     "output_type": "execute_result"
    }
   ],
   "source": [
    "#testData.iloc[:,-[0]]\n",
    "testData.head()"
   ]
  },
  {
   "cell_type": "code",
   "execution_count": 5,
   "metadata": {},
   "outputs": [],
   "source": [
    "target = 'TARGET'\n",
    "SK_ID_CURR = 'SK_ID_CURR'\n",
    "predictors = [x for x in trainData.columns if x not in [target, SK_ID_CURR]]"
   ]
  },
  {
   "cell_type": "code",
   "execution_count": 6,
   "metadata": {},
   "outputs": [
    {
     "name": "stderr",
     "output_type": "stream",
     "text": [
      "C:\\Users\\narendran.thesma\\AppData\\Local\\Continuum\\anaconda3\\lib\\site-packages\\sklearn\\cross_validation.py:41: DeprecationWarning: This module was deprecated in version 0.18 in favor of the model_selection module into which all the refactored classes and functions are moved. Also note that the interface of the new CV iterators are different from that of this module. This module will be removed in 0.20.\n",
      "  \"This module will be removed in 0.20.\", DeprecationWarning)\n"
     ]
    }
   ],
   "source": [
    "import lightgbm as lgb\n",
    "from sklearn.model_selection import train_test_split\n",
    "from sklearn.metrics import (roc_curve, auc, accuracy_score)\n",
    "from sklearn.model_selection import GridSearchCV\n",
    "from sklearn.cross_validation import *"
   ]
  },
  {
   "cell_type": "code",
   "execution_count": null,
   "metadata": {},
   "outputs": [],
   "source": [
    "#params = {'boosting_type': 'gbdt',\n",
    "#          'max_depth' : -1,\n",
    "#          'objective': 'binary', \n",
    "#          'nthread': 5, # Updated from nthread\n",
    "#          'num_leaves': 64, \n",
    "#          'learning_rate': 0.05, \n",
    "#          'max_bin': 512, \n",
    "#          'subsample_for_bin': 200,\n",
    "#          'subsample': 1, \n",
    "#          'subsample_freq': 1, \n",
    "#          'colsample_bytree': 0.8, \n",
    "#          'reg_alpha': 5, \n",
    "#          'reg_lambda': 10,\n",
    "#          'min_split_gain': 0.5, \n",
    "#          'min_child_weight': 1, \n",
    "#          'min_child_samples': 5, \n",
    "#          'scale_pos_weight': 1,\n",
    "#          'num_class' : 1,\n",
    "#          'metric' : 'binary_error'}"
   ]
  },
  {
   "cell_type": "code",
   "execution_count": null,
   "metadata": {},
   "outputs": [],
   "source": [
    "#mdl = lgb.LGBMClassifier(boosting_type= 'gbdt', \n",
    "#          objective = 'binary', \n",
    "#          n_jobs = 4, # Updated from 'nthread' \n",
    "#          silent = True,\n",
    "#          max_depth = params['max_depth'],\n",
    "#          max_bin = params['max_bin'], \n",
    "#          subsample_for_bin = params['subsample_for_bin'],\n",
    "#          subsample = params['subsample'], \n",
    "#          subsample_freq = params['subsample_freq'], \n",
    "#          min_split_gain = params['min_split_gain'], \n",
    "#          min_child_weight = params['min_child_weight'], \n",
    "#          min_child_samples = params['min_child_samples'], \n",
    "#          scale_pos_weight = params['scale_pos_weight'])"
   ]
  },
  {
   "cell_type": "code",
   "execution_count": null,
   "metadata": {},
   "outputs": [],
   "source": [
    "#mdl.get_params().keys()"
   ]
  },
  {
   "cell_type": "code",
   "execution_count": 7,
   "metadata": {},
   "outputs": [],
   "source": [
    "mdl = lgb.LGBMClassifier()"
   ]
  },
  {
   "cell_type": "code",
   "execution_count": 8,
   "metadata": {},
   "outputs": [],
   "source": [
    "# Important\n",
    "#gridParams = {\n",
    "#    'learning_rate': [0.03],\n",
    "#    'n_estimators': [4000],\n",
    "#    'num_leaves': [30,35],\n",
    "#    'boosting_type' : ['gbdt'],\n",
    "#    'objective' : ['binary'],\n",
    "#    'random_state' : [501], # Updated from 'seed'\n",
    "#    'colsample_bytree' : [0.7, 0.8],\n",
    "#    'subsample' : [0.7,0.75],\n",
    "#    'reg_alpha' : [.1,.2],\n",
    "#    'reg_lambda' : [.1,.2],\n",
    "#    'min_split_gain' : [.01, .02],\n",
    "#    'min_child_weight' : [1,2],\n",
    "#    'max_depth' : [7,8]\n",
    "#    }"
   ]
  },
  {
   "cell_type": "code",
   "execution_count": 8,
   "metadata": {},
   "outputs": [],
   "source": [
    "gridParams = {\n",
    "    'learning_rate': [0.02],\n",
    "    'n_estimators': [10000],\n",
    "    'num_leaves': [34],\n",
    "    'boosting_type' : ['gbdt'],\n",
    "    'objective' : ['binary'],\n",
    "    'random_state' : [501], # Updated from 'seed'\n",
    "    'colsample_bytree' : [0.9497036],\n",
    "    'subsample' : [0.8715623],\n",
    "    'reg_alpha' : [0.041545473],\n",
    "    'reg_lambda' : [0.0735294],\n",
    "    'min_split_gain' : [0.0222415],\n",
    "    'min_child_weight' : [39.3259775],\n",
    "    'max_depth' : [8]\n",
    "    }"
   ]
  },
  {
   "cell_type": "code",
   "execution_count": 12,
   "metadata": {},
   "outputs": [],
   "source": [
    "#gridParamsTrial= {\n",
    "#    'learning_rate': [0.005],\n",
    "#    'n_estimators': [8],\n",
    "#    'num_leaves': [6],\n",
    "#    'boosting_type' : ['gbdt'],\n",
    "#    'objective' : ['binary'],\n",
    "#    'random_state' : [501], # Updated from 'seed'\n",
    "#    'colsample_bytree' : [0.6],\n",
    "#    'subsample' : [0.7],\n",
    "#    'reg_alpha' : [1],\n",
    "#    'reg_lambda' : [1],\n",
    "#    }"
   ]
  },
  {
   "cell_type": "code",
   "execution_count": 9,
   "metadata": {},
   "outputs": [],
   "source": [
    "grid = GridSearchCV(mdl, gridParams, verbose=2, cv=StratifiedKFold(trainData['TARGET'], n_folds=3, shuffle=True), \n",
    "                    scoring='roc_auc', n_jobs=4, refit = True)"
   ]
  },
  {
   "cell_type": "code",
   "execution_count": null,
   "metadata": {
    "scrolled": true
   },
   "outputs": [
    {
     "name": "stdout",
     "output_type": "stream",
     "text": [
      "Fitting 3 folds for each of 1 candidates, totalling 3 fits\n"
     ]
    }
   ],
   "source": [
    "grid.fit(trainData[predictors], trainData[target])"
   ]
  },
  {
   "cell_type": "code",
   "execution_count": null,
   "metadata": {},
   "outputs": [],
   "source": [
    "print(grid.best_params_)\n",
    "print(grid.best_score_)"
   ]
  },
  {
   "cell_type": "code",
   "execution_count": null,
   "metadata": {},
   "outputs": [],
   "source": [
    "# Using parameters already set above, replace in the best from the grid search\n",
    "params['colsample_bytree'] = grid.best_params_['colsample_bytree']\n",
    "params['learning_rate'] = grid.best_params_['learning_rate'] \n",
    "# params['max_bin'] = grid.best_params_['max_bin']\n",
    "params['num_leaves'] = grid.best_params_['num_leaves']\n",
    "params['reg_alpha'] = grid.best_params_['reg_alpha']\n",
    "params['reg_lambda'] = grid.best_params_['reg_lambda']\n",
    "params['subsample'] = grid.best_params_['subsample']\n",
    "# params['subsample_for_bin'] = grid.best_params_['subsample_for_bin']"
   ]
  },
  {
   "cell_type": "code",
   "execution_count": null,
   "metadata": {},
   "outputs": [],
   "source": [
    "print('Fitting with params: ')\n",
    "print(params)"
   ]
  },
  {
   "cell_type": "code",
   "execution_count": null,
   "metadata": {},
   "outputs": [],
   "source": [
    "train_probs = grid.predict_proba(trainData[predictors])[:,1]\n",
    "test_probs = grid.predict_proba(testData[predictors])[:,1]"
   ]
  },
  {
   "cell_type": "code",
   "execution_count": null,
   "metadata": {},
   "outputs": [],
   "source": [
    "sample_application = pd.read_csv(\"sample_submission.csv\")"
   ]
  },
  {
   "cell_type": "code",
   "execution_count": null,
   "metadata": {},
   "outputs": [],
   "source": [
    "sample_application['TARGET'] = test_probs"
   ]
  },
  {
   "cell_type": "code",
   "execution_count": null,
   "metadata": {},
   "outputs": [],
   "source": [
    "sample_application.to_csv(\"Submission4_LGBMProb.csv\")\n",
    "train_probs.to_csv(\"Train_LGBM_NewProbabilities.csv\")"
   ]
  },
  {
   "cell_type": "code",
   "execution_count": null,
   "metadata": {},
   "outputs": [],
   "source": [
    "#lgb.plot_importance(grid)"
   ]
  },
  {
   "cell_type": "code",
   "execution_count": null,
   "metadata": {},
   "outputs": [],
   "source": [
    "test_probs"
   ]
  },
  {
   "cell_type": "code",
   "execution_count": null,
   "metadata": {},
   "outputs": [],
   "source": []
  }
 ],
 "metadata": {
  "kernelspec": {
   "display_name": "Python 3",
   "language": "python",
   "name": "python3"
  },
  "language_info": {
   "codemirror_mode": {
    "name": "ipython",
    "version": 3
   },
   "file_extension": ".py",
   "mimetype": "text/x-python",
   "name": "python",
   "nbconvert_exporter": "python",
   "pygments_lexer": "ipython3",
   "version": "3.6.5"
  }
 },
 "nbformat": 4,
 "nbformat_minor": 2
}
